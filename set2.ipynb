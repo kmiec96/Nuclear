{
 "cells": [
  {
   "cell_type": "code",
   "execution_count": null,
   "metadata": {},
   "outputs": [],
   "source": [
    "from IPython.display import display, Markdown, Latex\n",
    "from decimal import Decimal\n",
    "import matplotlib.pyplot as plt\n",
    "import numpy as np\n",
    "import math as mt\n",
    "from IPython.display import display\n",
    "from scipy.integrate import odeint #library with ODE solving tools"
   ]
  },
  {
   "cell_type": "markdown",
   "metadata": {},
   "source": [
    "# Nuclear Energy Physics solutions (sets-4,5,6), copyright Mateusz Kmieć "
   ]
  },
  {
   "cell_type": "markdown",
   "metadata": {},
   "source": [
    "# SET 4"
   ]
  },
  {
   "cell_type": "markdown",
   "metadata": {},
   "source": [
    "## Problem 4.1"
   ]
  },
  {
   "cell_type": "markdown",
   "metadata": {},
   "source": [
    "#### Absorption of neutrons in the fuel, U-235 + U-238, leads in some cases to fission which gives new fast neutrons."
   ]
  },
  {
   "cell_type": "markdown",
   "metadata": {},
   "source": [
    "$\\textbf{Derive}$ the formula for $\\eta$, the effective number of fission neutrons per one neutron absorbed in fuel."
   ]
  },
  {
   "cell_type": "markdown",
   "metadata": {},
   "source": [
    "(1) $$\\eta=\\nu_{235}\\frac{e\\sigma_{f235}}{e\\left(\\sigma_{f}+\\sigma_{c}\\right)_{235}+(1-e)\\sigma_{a238}}.$$"
   ]
  },
  {
   "cell_type": "markdown",
   "metadata": {},
   "source": [
    "the enrichment $e$,\n",
    "\n",
    "(2) $$e=\\frac{N_{235}}{N_{235}+N_{238}}.$$"
   ]
  },
  {
   "cell_type": "markdown",
   "metadata": {},
   "source": [
    "$\\textbf{Deriviation}$ of formula (1) (so called thermal fission factor)."
   ]
  },
  {
   "cell_type": "markdown",
   "metadata": {},
   "source": [
    "First, let us make an assumption that the chain reaction is occuring in an infinitely large system.\n",
    "This assumption results in no neutron leakage, which indicates that the effective probability of chain reaction is governed only by the respective capture and fission cross-sections."
   ]
  },
  {
   "cell_type": "markdown",
   "metadata": {},
   "source": [
    "By definition thermal fission factor can be interpreted as:"
   ]
  },
  {
   "cell_type": "markdown",
   "metadata": {},
   "source": [
    "(3) $$\\eta=\\frac{\\text{number of fast neutrons produced in thermal fission}}{\\text{number of thermal neutrons absorbed in fuel}}.$$"
   ]
  },
  {
   "cell_type": "markdown",
   "metadata": {},
   "source": [
    "According to Chapter.9 of the book, written by WG, which shall not be named here,\n",
    "fission caused by thermal neutrons occurs only for $U^{235}$ nuclei in $U^{235}+U^{238}$ fuel. "
   ]
  },
  {
   "cell_type": "markdown",
   "metadata": {},
   "source": [
    "Consequently, thermal fission factor can be expressed as:\n",
    "    \n",
    "(4) $$\\eta=\\nu_{235}\\frac{\\text{number of thermal neutrons that fissioned}}{\\text{number of thermal neutrons absorbed in fuel}},$$\n",
    "\n",
    "where $\\nu_{235}$ denotes the number of neutrons produced per fisson of $U^{235}$ nuclei."
   ]
  },
  {
   "cell_type": "markdown",
   "metadata": {},
   "source": [
    "In the light of the aforementioned definitions, the number of thermal neutrons that fissioned can be expressed as a product of the uranium enrichement ($e$) and the cross-section for $U^{235}$ fission at $0.0253$ eV ($\\sigma_{f235}$). "
   ]
  },
  {
   "cell_type": "markdown",
   "metadata": {},
   "source": [
    "As far as the denominator of (4) is concerned it can be written as $e\\left(\\sigma_{f}+\\sigma_{c}\\right)_{235}+\\left(1-e\\right)\\sigma_{a238}$. At this point it is worth noting that $\\sigma_{a238}\\approx\\sigma_{c238}$ as fission for thermal neutrons is negligible for $U^{238}$."
   ]
  },
  {
   "cell_type": "markdown",
   "metadata": {},
   "source": [
    "Having found the number of thermal neutrons that fissioned and the number of thermal neutrons absorbed in fuel we can finally obtain equation (1) from equation (4)."
   ]
  },
  {
   "cell_type": "markdown",
   "metadata": {},
   "source": [
    "$\\textbf{QED}$"
   ]
  },
  {
   "cell_type": "markdown",
   "metadata": {},
   "source": [
    "a). $\\textbf{Study}$ how the fission factor depends on the enrichement and determine the value at an erichment of $0.7$, $1$, $2$ ,$3\\%$."
   ]
  },
  {
   "cell_type": "code",
   "execution_count": 11,
   "metadata": {},
   "outputs": [
    {
     "data": {
      "text/latex": [
       "$\\displaystyle \\text{Chain reaction is established for } \\ \\eta \\ \\text{equal:}$"
      ],
      "text/plain": [
       "<IPython.core.display.Math object>"
      ]
     },
     "metadata": {},
     "output_type": "display_data"
    },
    {
     "data": {
      "text/latex": [
       "$\\displaystyle \\\\ \\eta= 1.27; \\ \\ e=0.70\\%,$"
      ],
      "text/plain": [
       "<IPython.core.display.Math object>"
      ]
     },
     "metadata": {},
     "output_type": "display_data"
    },
    {
     "data": {
      "text/latex": [
       "$\\displaystyle \\\\ \\eta= 1.43; \\ \\ e=1.00\\%,$"
      ],
      "text/plain": [
       "<IPython.core.display.Math object>"
      ]
     },
     "metadata": {},
     "output_type": "display_data"
    },
    {
     "data": {
      "text/latex": [
       "$\\displaystyle \\\\ \\eta= 1.69; \\ \\ e=2.00\\%,$"
      ],
      "text/plain": [
       "<IPython.core.display.Math object>"
      ]
     },
     "metadata": {},
     "output_type": "display_data"
    },
    {
     "data": {
      "text/latex": [
       "$\\displaystyle \\\\ \\eta= 1.79; \\ \\ e=3.00\\%,$"
      ],
      "text/plain": [
       "<IPython.core.display.Math object>"
      ]
     },
     "metadata": {},
     "output_type": "display_data"
    },
    {
     "data": {
      "text/latex": [
       "$\\displaystyle \\\\ \\eta= 2.00; \\ \\ e=20.00\\%,$"
      ],
      "text/plain": [
       "<IPython.core.display.Math object>"
      ]
     },
     "metadata": {},
     "output_type": "display_data"
    },
    {
     "data": {
      "text/latex": [
       "$\\displaystyle \\text{where we assume no leakage. The result is in accordance with the result from chapter 9!}$"
      ],
      "text/plain": [
       "<IPython.core.display.Math object>"
      ]
     },
     "metadata": {},
     "output_type": "display_data"
    },
    {
     "data": {
      "image/png": "[encoded data removed]",
      "text/plain": [
       "<Figure size 432x288 with 1 Axes>"
      ]
     },
     "metadata": {
      "needs_background": "light"
     },
     "output_type": "display_data"
    }
   ],
   "source": [
    "nu235=2.42                              #information fount in chapter.9\n",
    "e=np.array([0.7,1.0,2.0,3,20])          #enrichment in percent\n",
    "\n",
    "\n",
    "sigmaf235=539                           #cross section U-235 capture chapter 9\n",
    "sigmac235=101                           #cross-section U-235 capture chapter 9\n",
    "sigmac238=2.72                          #cross-section U-238 capture chapter 9\n",
    "\n",
    "#eta calculated for 0.7, 1, 2 and 3% enrichment\n",
    "eta=nu235*((e*sigmaf235)/(e*(sigmaf235+sigmac235)+(100-e)*sigmac238))\n",
    "\n",
    "display(Math(r\"\\text{Chain reaction is established for } \\ \\eta \\ \\text{equal:}\"))\n",
    "for i in range(5):\n",
    "    display(Math(r'\\\\ \\eta= {:.2f}; \\ \\ e={:.2f}\\%,'.format(eta[i],e[i])))\n",
    "    \n",
    "display(Math(r\"\\text{where we assume no leakage. The result is in accordance with the result from chapter 9!}\"))\n",
    "\n",
    "plt.plot(e,eta)\n",
    "plt.title(\"Dependance between $\\eta$ and $e$.\")\n",
    "plt.xlabel(\"$e$ [%]\")\n",
    "plt.ylabel(\"$\\eta$\")\n",
    "plt.show()"
   ]
  },
  {
   "cell_type": "markdown",
   "metadata": {},
   "source": [
    "b). $\\textbf{Calculate}$ the value of the fission factor, for highly enriched uranium and plutonium fissioned by thermal and fast neutrons."
   ]
  },
  {
   "cell_type": "markdown",
   "metadata": {},
   "source": [
    "Uranium with a content of U-235 larger or equal to $20\\%$ is called highly enriched uranium. That is why from now on I will be using $e=20\\%$."
   ]
  },
  {
   "cell_type": "markdown",
   "metadata": {},
   "source": [
    "(5) $$\\eta=\\frac{e\\nu_{235}\\sigma_{ff235}+(1-e)\\nu_{238}\\sigma_{ff238}}{e\\left(\\sigma_{ff}+\\sigma_{c}\\right)_{235}+(1-e)(\\sigma_{c238}+\\sigma_{ff238})}.$$"
   ]
  },
  {
   "cell_type": "markdown",
   "metadata": {},
   "source": [
    "Data taken from\n",
    "\n",
    "https://www.nuclear-power.net/nuclear-power/reactor-physics/nuclear-fission-chain-reaction/fast-fission-factor/#:~:text=The%20fast%20fission%20factor%20is,neutrons%20produced%20in%20thermal%20fission.&text=This%20arrangement%20increases%20the%20probability,be%20with%20a%20fuel%20nucleus."
   ]
  },
  {
   "cell_type": "code",
   "execution_count": 12,
   "metadata": {},
   "outputs": [
    {
     "data": {
      "text/latex": [
       "$\\displaystyle \\eta \\text{ for 20% enriched U-235:}$"
      ],
      "text/plain": [
       "<IPython.core.display.Math object>"
      ]
     },
     "metadata": {},
     "output_type": "display_data"
    },
    {
     "data": {
      "text/latex": [
       "$\\displaystyle \\eta= 2.3732.$"
      ],
      "text/plain": [
       "<IPython.core.display.Math object>"
      ]
     },
     "metadata": {},
     "output_type": "display_data"
    }
   ],
   "source": [
    "e=20\n",
    "\n",
    "nu235=2.63                              #information from nuclear-power.net\n",
    "nu238=2.60                              #information from nuclear-power.net\n",
    "\n",
    "sigmaff238=0.6                          #fast cross section U-235 capture chapter 9\n",
    "sigmaff235=1.3                          #fast cross section U-235 capture chapter 9\n",
    "\n",
    "sigmac238=0.07\n",
    "sigmac235=0.09\n",
    "\n",
    "#epsilon calculated for 20% enrichment\n",
    "eta=((e*nu235*sigmaff235)+(100-e)*nu238*sigmaff238)/(e*(sigmaff235+sigmac235)+(100-e)*(sigmac238+sigmaff238))\n",
    "\n",
    "display(Math(r\"\\eta \\text{ for 20% enriched U-235:}\"))\n",
    "display(Math(r\"\\eta= {:.4f}.\".format(eta)))"
   ]
  },
  {
   "cell_type": "code",
   "execution_count": 13,
   "metadata": {},
   "outputs": [
    {
     "data": {
      "text/latex": [
       "$\\displaystyle \\eta \\text{ for 20% enriched Pu-239:}$"
      ],
      "text/plain": [
       "<IPython.core.display.Math object>"
      ]
     },
     "metadata": {},
     "output_type": "display_data"
    },
    {
     "data": {
      "text/latex": [
       "$\\displaystyle \\eta= 2.5677.$"
      ],
      "text/plain": [
       "<IPython.core.display.Math object>"
      ]
     },
     "metadata": {},
     "output_type": "display_data"
    }
   ],
   "source": [
    "e=20 \n",
    "\n",
    "nu239=3.16                              #information from nuclear-power.net\n",
    "nu238=2.60                              #information from nuclear-power.net \n",
    "\n",
    "sigmaff238=0.6                          #fast cross section U-235 capture chapter 9\n",
    "sigmaff239=1.3                          #fast cross section U-235 capture chapter 9\n",
    "\n",
    "sigmac238=0.07\n",
    "sigmac239=0.05\n",
    "\n",
    "#epsilon calculated for 20% enrichment\n",
    "eta=((e*nu239*sigmaff239)+(100-e)*nu238*sigmaff238)/(e*(sigmaff239+sigmac239)+(100-e)*(sigmac238+sigmaff238))\n",
    "\n",
    "display(Math(r\"\\eta \\text{ for 20% enriched Pu-239:}\"))\n",
    "display(Math(r\"\\eta= {:.4f}.\".format(eta)))"
   ]
  },
  {
   "cell_type": "markdown",
   "metadata": {},
   "source": [
    "Fission factor for fast neutrons:\n",
    "\n",
    "(5) $$\\epsilon=\\frac{\\text{number of fast neutrons produced by fissions of all energies}}{\\text{number of fast neutrons produced in thermal fission}}.$$"
   ]
  },
  {
   "cell_type": "markdown",
   "metadata": {},
   "source": [
    "(6) $$\\epsilon=\\frac{(e\\nu_{235}\\sigma_{f235}+e\\sigma_{ff235}+(1-e)\\nu_{238}\\sigma_{ff238})}{e\\nu_{235}\\sigma_{f235}}$$\n",
    "\n"
   ]
  },
  {
   "cell_type": "code",
   "execution_count": 5,
   "metadata": {},
   "outputs": [
    {
     "data": {
      "text/latex": [
       "$\\displaystyle \\\\ \\epsilon= 1.006814; \\ \\ e=20.000000\\%,$"
      ],
      "text/plain": [
       "<IPython.core.display.Math object>"
      ]
     },
     "metadata": {},
     "output_type": "display_data"
    }
   ],
   "source": [
    "#Neutrons produced by fission in U have an average energy of 2 MeV and at this energy\n",
    "#the significant cross-sections are:\n",
    "\n",
    "\n",
    "\n",
    "nu235=2.63                              #information from nuclear-power.net\n",
    "nu238=2.60                              #information from nuclear-power.net \n",
    "e=20                                    #enrichment in percent\n",
    "\n",
    "sigmaff238=0.6                          #fast cross section U-235 capture chapter 9\n",
    "sigmaff235=1.3                          #fast cross section U-235 capture chapter 9\n",
    "sigmaf235=539                           #fission cross section U-235 capture chapter 9\n",
    "\n",
    "\n",
    "#epsilon calculated for 20% enrichment\n",
    "epsilon=(e*nu235*(sigmaf235+sigmaff235)+(100-e)*nu238*sigmaff238)/(e*nu235*sigmaf235)\n",
    "\n",
    "display(Math(r'\\\\ \\epsilon= {:.6f}; \\ \\ e={:.6f}\\%,'.format(epsilon,e)))"
   ]
  },
  {
   "cell_type": "markdown",
   "metadata": {},
   "source": [
    "We can repeat this calculation for plutonium."
   ]
  },
  {
   "cell_type": "code",
   "execution_count": 6,
   "metadata": {},
   "outputs": [
    {
     "data": {
      "text/latex": [
       "$\\displaystyle \\\\ \\epsilon= 1.005227; \\ \\ e=20.000000\\%,$"
      ],
      "text/plain": [
       "<IPython.core.display.Math object>"
      ]
     },
     "metadata": {},
     "output_type": "display_data"
    }
   ],
   "source": [
    "#Neutrons produced by fission in Pu have an average energy of 2 MeV and at this energy\n",
    "#the significant cross-sections are:\n",
    "\n",
    "\n",
    "\n",
    "nu239=3.16                              #information from nuclear-power.net\n",
    "nu238=2.60                              #information from nuclear-power.net \n",
    "e=20                                    #enrichment in percent\n",
    "\n",
    "sigmaff238=0.6                          #fast cross section U-235 capture chapter 9\n",
    "sigmaff239=1.93                         #fast cross section Pu-239 capture chapter 9\n",
    "sigmaf239=747                           #fission cross section Pu-239 capture chapter 9\n",
    "\n",
    "#epsilon calculated for 20% enrichment\n",
    "epsilon=(e*nu239*(sigmaf239+sigmaff239)+(100-e)*nu238*sigmaff238)/(e*nu239*sigmaf239)\n",
    "\n",
    "display(Math(r'\\\\ \\epsilon= {:.6f}; \\ \\ e={:.6f}\\%,'.format(epsilon,e)))"
   ]
  },
  {
   "cell_type": "markdown",
   "metadata": {},
   "source": [
    "## Problem 4.2"
   ]
  },
  {
   "cell_type": "markdown",
   "metadata": {},
   "source": [
    "Stainless steel, type $304$ having a density of $\\rho=7.86 g/cm^{3}$ , has been used in some reactors. The\n",
    "nominal composition by weight of this material is as follows: carbon, $0.08\\%$;\n",
    "chromium, $19\\%$; nickel, $10\\%$; iron, the remainder. Calculate the macroscopic absorption\n",
    "cross-section of $\\text{SS-304}$ at $0.0253$ eV."
   ]
  },
  {
   "cell_type": "markdown",
   "metadata": {},
   "source": [
    "$\\textbf{Given}$\n",
    "\n",
    "* Density, $\\rho = 7.86 g/cm^{3}$;\n",
    "* Weight fraction of carbon, $w_{C} = 0.08\\%$;\n",
    "* Weight fraction of chromium, $w_{Cr} = 19\\%$;\n",
    "* Weight fraction of nickel, $w_{Ni} = 10\\%$;\n",
    "* Weight fraction of iron, $w_{Fe} = 100\\% - w_{C} - w_{Cr} - w_{Ni}$.\n",
    "\n",
    "$\\textbf{Data that might be useful}$\n",
    "* Avogadro’s number, $N_{A} = 6.02214076\\cdot10^{23} a/mol$ (exact);\n",
    "* Carbon molar mass, $M_{C} = 12.01115 g/mol$;\n",
    "* Chromium molar mass, $M_{Cr} = 51.996 g/mol$;\n",
    "* Nickel molar mass, $M_{Ni} = 58.71 g/mol$;\n",
    "* Iron molar mass, $M_{Fe} = 55.847 g/mol$;\n",
    "* Microscopic absorption cross-sections at $0.0253 eV$:\n",
    "- Carbon: $\\sigma_{a,C} = 0.0034b$;\n",
    "- Chromium, $\\sigma_{a,Cr} = 3.1 b$;\n",
    "- Nickel, $\\sigma_{a,Ni} = 4.43 b$;\n",
    "- Iron, $\\sigma_{a,Fe} = 2.55 b$;"
   ]
  },
  {
   "cell_type": "markdown",
   "metadata": {},
   "source": [
    "The macroscopic cross-section, $\\Sigma$, is the probability that a particular type of interaction will occur per unit path length.\n",
    "\n",
    "(7) $$\\Sigma=\\sum_{i}N_{i}\\sigma_{i}=\\sum_{i}\\frac{\\rho_{i}N_{A}}{M_{i}}\\sigma_{i}.$$"
   ]
  },
  {
   "cell_type": "markdown",
   "metadata": {},
   "source": [
    "Consequently, the absorbtion macroscopic cross section of stainless steel type 304 can be expressed as:\n",
    "    \n",
    "$$\\Sigma_{a}=\\frac{w_{C}\\rho N_{A}}{M_{C}}\\sigma_{a,C}+\\frac{w_{Cr}\\rho N_{A}}{M_{Cr}}\\sigma_{a,Cr}+\\frac{w_{Ni}\\rho N_{A}}{M_{Ni}}\\sigma_{a,Ni}+\\frac{w_{Fe}\\rho N_{A}}{M_{Fe}}\\sigma_{a,Fe}.$$"
   ]
  },
  {
   "cell_type": "code",
   "execution_count": 12,
   "metadata": {},
   "outputs": [
    {
     "data": {
      "text/latex": [
       "$\\displaystyle \\\\ \\Sigma_a= 0.2426  [1/cm],$"
      ],
      "text/plain": [
       "<IPython.core.display.Math object>"
      ]
     },
     "metadata": {},
     "output_type": "display_data"
    }
   ],
   "source": [
    "#Calculations of Sigma_a\n",
    "\n",
    "#fuel density\n",
    "rho=7.86        #g/cm^3\n",
    "\n",
    "#NA avogadro number\n",
    "NA=6.02214076*pow(10,23)\n",
    "\n",
    "#Molar mass\n",
    "M_C  = 12.01115 #g/mol\n",
    "M_Cr = 51.996   #g/mol\n",
    "M_Ni = 58.71    #g/mol\n",
    "M_Fe = 55.847   #g/mol\n",
    "\n",
    "M=np.array([M_C, M_Cr, M_Ni, M_Fe])\n",
    "\n",
    "#weight fraction\n",
    "w_C  = 0.08*0.01        #0.08%\n",
    "w_Cr = 19*0.01          #19%\n",
    "w_Ni = 10*0.01          #10%\n",
    "w_Fe = 1-w_Ni-w_Cr-w_C  #70.92%\n",
    "\n",
    "#microscopic cross sections\n",
    "sigma_aC  = 0.0034      #b (barn)\n",
    "sigma_aCr = 3.1         #b (barn)\n",
    "sigma_aNi = 4.43        #b (barn)\n",
    "sigma_aFe = 2.55        #b (barn)\n",
    "\n",
    "sigma=np.array([sigma_aC,sigma_aCr,sigma_aNi,sigma_aFe]) #microscopic cross-sections\n",
    "w=np.array([w_C, w_Cr, w_Ni, w_Fe])\n",
    "\n",
    "Sigma_a=np.dot((NA*rho*w/M), sigma)\n",
    "\n",
    "display(Math(r'\\\\ \\Sigma_a= {:.4f}  [1/cm],'.format(Sigma_a*pow(10,-24))))"
   ]
  },
  {
   "cell_type": "markdown",
   "metadata": {},
   "source": [
    "## Problem 4.3"
   ]
  },
  {
   "cell_type": "markdown",
   "metadata": {},
   "source": [
    "The fuel for a certain breeder reactor consists of pellets composed of mixed oxides, $UO_{2}$ and\n",
    "$PuO_{2}$ , with the $PuO_{2}$ comprising approximately $30 w/o$ of the mixture. The uranium is\n",
    "essentially all $^{238}U$, whereas the plutonium contains the following isotopes: Pu-239 ($70.5 w/o$),\n",
    "Pu-240 ($21.3 w/o$), Pu-241 ($5.5 w/o$), and Pu-242 ($2.7 w/o$). The pellet density is about $10.6 g/cm^{3}$ .\n",
    "Calculate $\\sigma_{a}$ a and  $\\sigma_{f}$ (at $0.0253 eV$) for these fuel pellets."
   ]
  },
  {
   "cell_type": "markdown",
   "metadata": {},
   "source": [
    "$\\textbf{Given}$\n",
    "* $\\text{Fuel}$ = $UO_{2}$ + $PuO_{2}$\n",
    "* Plutonium dioxide weight fraction, $w_{PuO_{2}} = 30 w/o$;\n",
    "* Uranium dioxide weight fraction, $w_{UO_{2}} = 70 w/o$;\n",
    "* Fuel density, $\\rho = 10.6 g/cm^{3}$;\n",
    "* U = $^{238}U$;\n",
    "* Plutonium composition:\n",
    "* $^{239}Pu$ weight fraction in the plutonium, $w_{Pu239} = 70.5 w/o$;\n",
    "* $^{240}Pu$ weight fraction in the plutonium, $w_{Pu240} = 21.3 w/o$;\n",
    "* $^{241}Pu$ weight fraction in the plutonium, $w_{Pu241} = 5.5 w/o$;\n",
    "* $^{242}Pu$ weight fraction in the plutonium, $w_{Pu242} = 2.7 w/o$.\n",
    "\n",
    "$\\textbf{Data that might be useful}$\n",
    "* Avogadro’s number, $N_{A} = 6.02214076\\cdot 10^{23} a/mol$ (exact);\n",
    "* Molar mass for oxygen, $M_{O} = 15.9994 g/mol$;\n",
    "* Molar mass for $^{238}U$,  $M_{U238} = 238.0507884 g/mol$;\n",
    "* Molar mass for $^{239}Pu$, $M_{Pu239} = 239.0521636 g/mol$;\n",
    "* Molar mass for $^{240}Pu$, $M_{Pu240} = 240.0538138 g/mol$;\n",
    "* Molar mass for $^{241}Pu$, $M_{Pu241} = 241.0568517 g/mol$;\n",
    "* Molar mass for $^{242}Pu$, $M_{Pu242} = 242.0587428 g/mol$.\n",
    "* Microscopic absorption and fission cross-section (at 0.0253 eV):\n",
    "- $\\sigma_{a,O} = 0.00027$ b, $w_{f,O} = 0$;\n",
    "- $\\sigma_{a,U238} = 2.73$ b, $w_{f ,U238} = 0$;\n",
    "- $\\sigma_{a,Pu239} = 1020$ b, $w_{f ,Pu239} = 749 b$;\n",
    "- $\\sigma_{a,Pu240} = 289.5$ b, $w_{f ,Pu240} = 0.064 b$;\n",
    "- $\\sigma_{a,Pu241} = 1378$ b, $w_{f ,Pu241} = 1015 b$;\n",
    "- $\\sigma_{a,Pu242} = 10.3$ b, $w_{f ,Pu242} = 0 b$."
   ]
  },
  {
   "cell_type": "markdown",
   "metadata": {},
   "source": [
    "The macroscopic cross-section, $\\Sigma$, is the probability that a particular type of interaction will occur per unit path length.\n",
    "\n",
    "(7) $$\\Sigma=\\sum_{i}N_{i}\\sigma_{i}.$$"
   ]
  },
  {
   "cell_type": "markdown",
   "metadata": {},
   "source": [
    "Consequently, we can express $\\sum_{a}$ and $\\sum_{f}$ as:"
   ]
  },
  {
   "cell_type": "markdown",
   "metadata": {},
   "source": [
    "(8) $$\\Sigma_{a}=\\sum_{i}N_{i}\\sigma_{a i}$$"
   ]
  },
  {
   "cell_type": "markdown",
   "metadata": {},
   "source": [
    "(9) $$\\Sigma_{f}=\\sum_{i}N_{i}\\sigma_{f i}$$"
   ]
  },
  {
   "cell_type": "markdown",
   "metadata": {},
   "source": [
    "Number of nuclei per unit volume (atomic number density) can be expressed as: \n",
    "\n",
    "(10) $$N_{i}=\\frac{\\rho_{i}N_{A}}{M_{i}}.$$"
   ]
  },
  {
   "cell_type": "code",
   "execution_count": 89,
   "metadata": {},
   "outputs": [],
   "source": [
    "#Some useful data (taken directly from an appendix to problem 3)\n",
    "\n",
    "#Fuel decomposition\n",
    "wP02=0.3\n",
    "wU02=0.7\n",
    "\n",
    "#Plutonium decomposition\n",
    "wPu239=0.705\n",
    "wPu240=0.213\n",
    "wPu241=0.055\n",
    "wPu242=0.027\n",
    "\n",
    "wPu=np.array([wPu239,wPu240, wPu241, wPu242])\n",
    "\n",
    "#Oxygen cross sections\n",
    "sigmaOa=0.00027\n",
    "sigmaOf=0\n",
    "\n",
    "#Uranium cross sections\n",
    "sigmaU238a=2.73\n",
    "sigmaU238f=0\n",
    "\n",
    "#Plutonium absorbtion\n",
    "sigmaPu239a=1020\n",
    "sigmaPu240a=289.5\n",
    "sigmaPu241a=1378\n",
    "sigmaPu242a=10.3\n",
    "\n",
    "sigmaPua=np.array([sigmaPu239a, sigmaPu240a, sigmaPu241a, sigmaPu242a])\n",
    "\n",
    "#Plutonium fission\n",
    "sigmaPu239f=749\n",
    "sigmaPu240f=0.064\n",
    "sigmaPu241f=1015\n",
    "sigmaPu242f=0\n",
    "\n",
    "sigmaPuf=np.array([sigmaPu239f, sigmaPu240f, sigmaPu241f, sigmaPu242f])\n",
    "\n",
    "#molar mass O\n",
    "MO=15.9994\n",
    "\n",
    "#molar mass U-238\n",
    "MU238=238.0507884\n",
    "\n",
    "#Plutonium masses\n",
    "MPu239=239.0521636\n",
    "MPu240=240.0538238\n",
    "MPu241=241.0568517\n",
    "MPu242=242.0587428\n",
    "\n",
    "MPu=np.array([MPu239,MPu240,MPu241,MPu242])\n",
    "\n",
    "#NA avogadro number\n",
    "NA=6.02214076*pow(10,23)\n",
    "\n",
    "#fuel density\n",
    "rho=10.6 "
   ]
  },
  {
   "cell_type": "code",
   "execution_count": 110,
   "metadata": {},
   "outputs": [
    {
     "data": {
      "text/latex": [
       "$\\displaystyle \\\\ \\Sigma_a= 6.0899  [1/cm],$"
      ],
      "text/plain": [
       "<IPython.core.display.Math object>"
      ]
     },
     "metadata": {},
     "output_type": "display_data"
    },
    {
     "data": {
      "text/latex": [
       "$\\displaystyle \\\\ \\Sigma_f= 4.1191  [1/cm],$"
      ],
      "text/plain": [
       "<IPython.core.display.Math object>"
      ]
     },
     "metadata": {},
     "output_type": "display_data"
    }
   ],
   "source": [
    "Mppu=np.dot(wPu,MPu)#calculate weighted plutonium mass\n",
    "\n",
    "#Now let us calculate the value of the macroscopic cross section from (8)\n",
    "Sigma_a2=rho*NA*((wU02/(MU238+2*MO))*(sigmaU238a+2*sigmaOa)+(wP02/(Mppu+2*MO))*(np.dot(wPu,sigmaPua)+2*sigmaOa))\n",
    "\n",
    "\n",
    "#Now let us calculate the value of the macroscopic cross section from (9)\n",
    "Sigma_f2=rho*NA*((wU02/(MU238+2*MO))*(sigmaU238f+2*sigmaOf)+(wP02/(Mppu+2*MO))*(np.dot(wPu,sigmaPuf)+2*sigmaOf))\n",
    "\n",
    "display(Math(r'\\\\ \\Sigma_a= {:.4f}  [1/cm],'.format(Sigma_a2*pow(10,-24))))\n",
    "display(Math(r'\\\\ \\Sigma_f= {:.4f}  [1/cm],'.format(Sigma_f2*pow(10,-24))))"
   ]
  },
  {
   "cell_type": "markdown",
   "metadata": {},
   "source": [
    "## Problem 4.4"
   ]
  },
  {
   "cell_type": "markdown",
   "metadata": {},
   "source": [
    "Measurements on an experimental thermal reactor show that, for every $100$ neutrons emitted\n",
    "in fission, $10$ escape while slowing down and $15$ escape after having slowed down to thermal\n",
    "energies. No neutrons are absorbed within the reactor while slowing down. Of those neutrons\n",
    "absorbed at thermal energies, $60\\%$ are absorbed in fission material.\n",
    "\n",
    "(a) What is the multiplication factor of the reactor at the time these observations are\n",
    "made?\n",
    "\n",
    "(b) Suppose the thermal leakage is reduced by one third. How would this change the value\n",
    "of $k$?\n",
    "\n",
    "Note: The values of $\\eta$ and $\\nu$ for the reactor fuel are $2.07$ and $2.42$, respectively.\n",
    "Given:\n",
    "\n",
    "* Normalised number of neutrons in one generation, $N_{0} = 100$;\n",
    "* Number (per $100$) of fast neutrons leaking the system while slowing down, $N_{FL} = 10$;\n",
    "* Number (per $100$) of thermal neutrons leaking the system, $N_{TL} = 15$;\n",
    "* Resonance escape probability, $p = 1$ (o neutrons are absorbed while slowing down);\n",
    "* Thermal utilisation factor, $f = 0.6$;\n",
    "* Reproduction factor, $\\eta = 2.07$;\n",
    "* Number fission neutrons, , $\\nu = 2.42$;\n",
    "* Thermal neutron leakage reduction fraction, $r = 1/3$."
   ]
  },
  {
   "cell_type": "markdown",
   "metadata": {},
   "source": [
    "The multiplication factor of a nuclear reactor is defined as:"
   ]
  },
  {
   "cell_type": "markdown",
   "metadata": {},
   "source": [
    "$$k=\\frac{\\text{number of fissions ina certain generation}}{\\text{number of fissions ina preceding generation}}.$$"
   ]
  },
  {
   "cell_type": "markdown",
   "metadata": {},
   "source": [
    "When $k=1$ the reactor is in a critical state and a stable chain reaction occurs. \n",
    "If $k>1$ the reactor is in a super-critical state, which leads to a divergent chain reaction and possibly to an explosion as in the atomic bomb. For $k<1$ the reactor\n",
    "is in a subcritical state, the chain reaction decreases and eventually dies out."
   ]
  },
  {
   "cell_type": "markdown",
   "metadata": {},
   "source": [
    "Accurate calculations of the multiplication factor, $k$, must take into account all\n",
    "processes involving neutrons between their production and the time when they disapper due to absorbtion or leakage."
   ]
  },
  {
   "cell_type": "markdown",
   "metadata": {},
   "source": [
    "It is customary to calculate a simplified multiplication factor $k_{eff}$. In this approach we split the reactor cycle into tages at which we observe different effects concerning neutrons."
   ]
  },
  {
   "cell_type": "markdown",
   "metadata": {},
   "source": [
    "We can distinguish the following stages of the reactor cycle:\n",
    "    \n",
    "\n",
    "1. At the beginning, there are $n$ neutrons produced by fission.\n",
    "\n",
    "2. Some new neutrons are created in the so called fast fission process. At this stage there is $\\epsilon n$ neutrons ($\\epsilon$ fast fission factor).\n",
    "\n",
    "3. Some neutrons leak due to moderation. Consequently, there remains $\\epsilon P_{NFL} n$ neutrons.\n",
    "$P_{NFL}$ is a fraction of neutrons that remains in the reactor as the fast neutrons are slowing down.\n",
    "\n",
    "4. At this stage some neutrons are captured in the reactor fuel resonances. We are left with $\\epsilon p P_{NFL} n$ ($1-p$ fraction of neutrons that were not captured in the fuel resonances).\n",
    "\n",
    "5. At this point neutrons have already reach thermal energy. $1-P_{NTL}$ thermal neutrons may leak. Therefore we are left with  $\\epsilon p P_{NTL} P_{NFL} n$ neutrons.\n",
    "\n",
    "6. Some ($f$) thermal neutrons might be captured in the moderator. Hence, now we have $\\epsilon pf P_{NTL} P_{NFL}n$.\n",
    "\n",
    "7. Finally, we need to account for absorbtion and capture in nuclear fuel. The average number\n",
    "of fission neutrons produced per neutron absorbed in fuel is called $\\eta$.\n",
    "\n",
    "All things considered at the beginning of the second generation there is $\\eta \\epsilon p f P_{NFL} P_{NTL}n$ neutrons. \n",
    "\n",
    "Now we can finally write the effective multiplication factor as:"
   ]
  },
  {
   "cell_type": "markdown",
   "metadata": {},
   "source": [
    "$$k_{eff}=\\eta \\epsilon p f P_{NFL} P_{NTL}.$$"
   ]
  },
  {
   "cell_type": "markdown",
   "metadata": {},
   "source": [
    "a).\n",
    "\n"
   ]
  },
  {
   "cell_type": "markdown",
   "metadata": {},
   "source": [
    "$$\\eta=2.07$$\n",
    "\n",
    "$$\\epsilon=1$$\n",
    "\n",
    "$$p=1 \\text{ (0 neutrons where captured in the fuel resonances) }$$\n",
    "\n",
    "$$f=0.6 \\text{ (fraction of captured thermal neutrons)}$$ \n",
    "\n",
    "$$P_{NFL}=\\frac{N_{0}-N_{FL}}{N_{0}}=0.9$$\n",
    "\n",
    "$$P_{NTL}=\\frac{N_{0}-N_{FL}-N_{TL}}{N_{0}-N_{FL}}=0.83$$"
   ]
  },
  {
   "cell_type": "markdown",
   "metadata": {},
   "source": [
    "$$k_{eff}=2.07\\cdot1\\cdot1\\cdot 0.6 \\cdot 0.9\\cdot 0.75\\approx0.93.$$"
   ]
  },
  {
   "cell_type": "markdown",
   "metadata": {},
   "source": [
    "b)."
   ]
  },
  {
   "cell_type": "markdown",
   "metadata": {},
   "source": [
    "In this case all of the meaningful parameters remain the same with the exception of $P_{NTL}=\\frac{N_{0}-N_{FL}-(1-r)\\cdot N_{TL}}{N_{0}-N_{FL}}=0.88,$ where $r=\\frac{1}{3}$."
   ]
  },
  {
   "cell_type": "markdown",
   "metadata": {},
   "source": [
    "$$k_{eff}=2.07\\cdot1\\cdot1\\cdot 0.6 \\cdot 0.9\\cdot 0.88\\approx0.99.$$"
   ]
  },
  {
   "cell_type": "markdown",
   "metadata": {},
   "source": [
    "## Problem 4.5"
   ]
  },
  {
   "cell_type": "markdown",
   "metadata": {},
   "source": [
    "Calculate the prompt neutron lifetime in an infinite, critical thermal reactor at $100^{\\circ}C$\n",
    "consisting of a homogeneous mixture of $^{235}U$ and the commercial heavy water. Take the\n",
    "resonance escape probability in such a reactor as $0.87$, and the fast fission factor as $1.02$ and\n",
    "assume that the commercial heavy water is $1/v$ absorber."
   ]
  },
  {
   "cell_type": "markdown",
   "metadata": {},
   "source": [
    "Prompt neutron lifetime can be calculated as:"
   ]
  },
  {
   "cell_type": "markdown",
   "metadata": {},
   "source": [
    "$$l_{p}=l_{s}+l_{d}.$$"
   ]
  },
  {
   "cell_type": "markdown",
   "metadata": {},
   "source": [
    "In an infinite thermal reactor $l_{s}<<l_{d}$. Therefore prompt neutron lifetime can be approximated by mean diffusion time:\n",
    "\n",
    "$$l_{p}\\approx l_{d}.$$"
   ]
  },
  {
   "cell_type": "markdown",
   "metadata": {},
   "source": [
    "Diffusion time can be calculated as:\n",
    "    \n",
    "$$l_{d}=\\frac{1}{\\Sigma_{a}v}=[v\\Sigma_{a}=v(E_{0})\\Sigma_{a}(E_{0}), \\text{ for 1/v absorbtion}]= \\frac{1}{v(E_{0})\\left[\\Sigma_{a}^{M}(E_{0})+\\Sigma_{a}^{F}(E_{0})\\right]},$$\n",
    "\n",
    "\n",
    "where $E_{0}=0.00253eV$, which is the energy of neutrons moving at speed $v=v(E_{0})=2200\\frac{m}{s}$."
   ]
  },
  {
   "cell_type": "markdown",
   "metadata": {},
   "source": [
    "We can represent the above equation as: \n",
    "\n",
    "$$l_{d}=\\frac{1}{\\Sigma_{a}v}=\\left(\\frac{1}{v(E_{0})\\Sigma_{a}^{M}(E_{0})}\\right)\\frac{\\Sigma_{a}^{M}(E_{0})}{\\left[\\Sigma_{a}^{M}(E_{0})+\\Sigma_{a}^{F}(E_{0})\\right]},$$\n",
    "\n",
    "where we can distinguish two parts:\n",
    "\n",
    "$$[1]=\\frac{1}{v(E_{0})\\Sigma_{a}^{M}(E_{0})},$$\n",
    "\n",
    "$$[2]=\\frac{\\Sigma_{a}^{M}(E_{0})}{\\left[\\Sigma_{a}^{M}(E_{0})+\\Sigma_{a}^{F}(E_{0})\\right]}$$\n",
    "\n",
    "\n",
    "Now let us notice that:\n",
    "    \n",
    "$$f=\\frac{\\Sigma^{F}_{a}}{\\Sigma^{M}_{a}+\\Sigma^{F}_{a}}.$$\n",
    "\n",
    "Consequently, we have:\n",
    "$$\\frac{\\Sigma_{a}^{M}(E_{0})}{\\left[\\Sigma_{a}^{M}(E_{0})+\\Sigma_{a}^{F}(E_{0})\\right]}=1-\\frac{\\Sigma^{F}_{a}(E_{0})}{\\Sigma^{M}_{a}(E_{0})+\\Sigma^{F}_{a}(E_{0})}=\\left(1-f\\right).$$"
   ]
  },
  {
   "cell_type": "markdown",
   "metadata": {},
   "source": [
    "Part [1] is just the mean diffusion time in moderator ($l^{M}_{d}$):\n",
    "\n",
    "$$l^{M}_{d}=\\frac{1}{v(E_{0})\\Sigma_{a}^{M}(E_{0})}.$$\n",
    "\n"
   ]
  },
  {
   "cell_type": "markdown",
   "metadata": {},
   "source": [
    "Using () and () we can easily see that:\n",
    "    \n",
    "$$l_{p}\\approx l_{d} = l^{M}_{d} \\cdot \\left(1-f\\right).$$"
   ]
  },
  {
   "cell_type": "markdown",
   "metadata": {},
   "source": [
    "$\\textbf{Note.}$ I wasn't able to find any reliable sources with the exact value of $l^{M}_{d}$. The most reliable source I was able to find was: https://www.nuclear-power.net/nuclear-power/fission/prompt-neutrons/prompt-generation-time-mean-generation-time/ (Rene Burn, Introduction to Nuclear Reactor Operation, 1988), where $l_{d}^{M}=6\\cdot10^{-2}\\frac{1}{s}.$"
   ]
  },
  {
   "cell_type": "markdown",
   "metadata": {},
   "source": [
    "#### I WOULD BE GRATEFUL IF YOU COULD GIVE ME ANY POINTERS ON WHERE TO LOOK FOR THE NECESSARY PARAMETERS!"
   ]
  },
  {
   "cell_type": "markdown",
   "metadata": {},
   "source": [
    "At this point, the only thing left to do is to calculate $f$. We can do that by using the expression for the effective multiplication factor for an infinite critical reactor $k_{eff}=k_{\\infty}=f\\eta\\epsilon p=1$: "
   ]
  },
  {
   "cell_type": "markdown",
   "metadata": {},
   "source": [
    "$$p=0.87$$\n",
    "\n",
    "$$\\eta=\\frac{\\sigma_{f235}}{\\sigma_{f235}+\\sigma_{c235}}=2.04$$\n",
    "\n",
    "$$\\epsilon=1.02$$\n",
    "\n",
    "$$f=\\frac{1}{\\eta \\epsilon p}=0.55.$$"
   ]
  },
  {
   "cell_type": "code",
   "execution_count": 11,
   "metadata": {},
   "outputs": [
    {
     "name": "stdout",
     "output_type": "stream",
     "text": [
      "thermal utilisation factor f: 0.5529\n"
     ]
    }
   ],
   "source": [
    "#resonance escape probability\n",
    "p=0.87\n",
    "#fast fission factor\n",
    "epsilon=1.02\n",
    "\n",
    "sigmaf235=539                           #cross section U-235 capture chapter 9\n",
    "sigmac235=101                           #cross-section U-235 capture chapter 9\n",
    "nu235=2.42\n",
    "\n",
    "#eta calculated for pure U-235\n",
    "eta=nu235*(sigmaf235)/((sigmaf235+sigmac235))\n",
    "\n",
    "#thermal utilisation factor f\n",
    "f=1/(p*epsilon*eta)\n",
    "\n",
    "#l_dM\n",
    "l_dM=6*pow(10,-2)\n",
    "\n",
    "print(\"thermal utilisation factor f: {:.4f}\".format(f))"
   ]
  },
  {
   "cell_type": "code",
   "execution_count": 16,
   "metadata": {},
   "outputs": [
    {
     "name": "stdout",
     "output_type": "stream",
     "text": [
      "Prompt neutron lifetime: l_p = 0.0268 [s]\n"
     ]
    }
   ],
   "source": [
    "#prompt neutron lifetime l_p\n",
    "l_p=l_dM*(1-f)\n",
    "\n",
    "print(\"Prompt neutron lifetime: l_p = {:.4f} [s]\".format(l_p))"
   ]
  },
  {
   "cell_type": "markdown",
   "metadata": {},
   "source": [
    "## Problem 4.6"
   ]
  },
  {
   "cell_type": "markdown",
   "metadata": {},
   "source": [
    "Express the following reactivities of a $^{233}U$-fueled thermal reactor in dollars:\n",
    "\n",
    "a) $\\rho_{1}=0.001,$ \n",
    " \n",
    "b) $\\rho_{2}=4\\%,$ \n",
    "\n",
    "c) $\\rho_{3}=−0.01.$ "
   ]
  },
  {
   "cell_type": "markdown",
   "metadata": {},
   "source": [
    "In order to express these three reactivities in dollars we need to divide them by the fraction of delayed neutrons for $^{233}U$, namely $\\beta=0.0026$.\n",
    "\n",
    "source: https://www.nuclear-power.net/nuclear-power/fission/delayed-neutrons/"
   ]
  },
  {
   "cell_type": "code",
   "execution_count": 21,
   "metadata": {},
   "outputs": [
    {
     "data": {
      "text/latex": [
       "$\\displaystyle \\\\ \\rho_0/\\beta = 0.38 \\   [\\$]$"
      ],
      "text/plain": [
       "<IPython.core.display.Math object>"
      ]
     },
     "metadata": {},
     "output_type": "display_data"
    },
    {
     "data": {
      "text/latex": [
       "$\\displaystyle \\\\ \\rho_1/\\beta = 15.38 \\   [\\$]$"
      ],
      "text/plain": [
       "<IPython.core.display.Math object>"
      ]
     },
     "metadata": {},
     "output_type": "display_data"
    },
    {
     "data": {
      "text/latex": [
       "$\\displaystyle \\\\ \\rho_2/\\beta = -3.85 \\   [\\$]$"
      ],
      "text/plain": [
       "<IPython.core.display.Math object>"
      ]
     },
     "metadata": {},
     "output_type": "display_data"
    }
   ],
   "source": [
    "#Calculations\n",
    "\n",
    "rho1=0.001\n",
    "rho2=4*0.01\n",
    "rho3=-0.01\n",
    "\n",
    "rho=np.array([rho1,rho2,rho3])\n",
    "\n",
    "beta=0.0026\n",
    "\n",
    "dollars=rho/beta\n",
    "\n",
    "for i, d in enumerate(dollars):\n",
    "    display(Math(r\"\\\\ \\rho_{}/\\beta = {:.2f} {}\".format(i,d,\"\\   [\\$]\")))"
   ]
  },
  {
   "cell_type": "markdown",
   "metadata": {},
   "source": [
    "## Probelm 4.7"
   ]
  },
  {
   "cell_type": "markdown",
   "metadata": {},
   "source": [
    "A $^{235}U$-fueled reactor originally operating at a constant power of $15$ milliwatt is placed on\n",
    "a positive $10$-minute period. At what time will the reactor power level reach $0.9$ megawatt?"
   ]
  },
  {
   "cell_type": "markdown",
   "metadata": {},
   "source": [
    "In the Compendium the reactor period $T$ is defined as the time reqired for the power to change by the factor of $e$."
   ]
  },
  {
   "cell_type": "markdown",
   "metadata": {},
   "source": [
    "In the light of the aforementioned definition we are allowed to write the relationship between the power of the reactor $P$ and its period $T$."
   ]
  },
  {
   "cell_type": "markdown",
   "metadata": {},
   "source": [
    "$$\\frac{P}{P_{0}}=\\text{Exp}\\left(\\frac{t}{T}\\right).$$"
   ]
  },
  {
   "cell_type": "markdown",
   "metadata": {},
   "source": [
    "$t$ can be extracted from the above equation as:\n",
    "\n",
    "$$t=\\ln\\left(\\frac{P}{P_{0}}\\right)\\cdot T.$$"
   ]
  },
  {
   "cell_type": "code",
   "execution_count": 40,
   "metadata": {},
   "outputs": [
    {
     "name": "stdout",
     "output_type": "stream",
     "text": [
      "The reactor will reach the level of 0.9 MW at 179.0986 minutes, which is around 3h.\n"
     ]
    }
   ],
   "source": [
    "#Calculations\n",
    "T  = 10                 #10 minutes\n",
    "P0 = 15*pow(10,-3)      #15 mW\n",
    "P  = 0.9*pow(10,6)      #0.9 MW\n",
    "\n",
    "t=np.log(P/P0)*T\n",
    "\n",
    "print(\"The reactor will reach the level of 0.9 MW at {:.4f} minutes, which is around {:.2g}h.\".format(t,t/60))"
   ]
  },
  {
   "cell_type": "markdown",
   "metadata": {},
   "source": [
    "## Problem 4.8"
   ]
  },
  {
   "cell_type": "markdown",
   "metadata": {},
   "source": [
    "One cent of either positive or negative reactivity places a\n",
    "$^{235}U$-fueled reactor on what period?"
   ]
  },
  {
   "cell_type": "markdown",
   "metadata": {},
   "source": [
    "As I have already established in the previous problem the reactor period is defined as the time in which the power of the reactor changes by the factor of $e$. It turns out that the power of a reactor can be related to the neutron density and so it is possible to express the relative density of neutrons in a reactor as a function of time where the reactor period is the exponential function coefficient:\n",
    "\n",
    "(1) $$\\frac{n(t)}{n_{0}}=e^{\\frac{t}{T}}.$$\n",
    "\n"
   ]
  },
  {
   "cell_type": "markdown",
   "metadata": {},
   "source": [
    "In order to find $n(t)$ we need to solve the following set of equations:\n",
    "    \n",
    "(2) $$\\left\\{\n",
    "\\begin{aligned}\n",
    " \\\n",
    " \\frac{dn}{dt} & = \\frac{k_{\\infty}\\left(\\rho-\\beta\\right)}{l_{p}}n+\\lambda C\\\\\n",
    " \\frac{dC}{dt} & = \\frac{\\beta k_{\\infty}}{l_{p}}-\\lambda C.\n",
    "\\end{aligned} \\right.$$\n",
    "\n",
    "where $C$ is the number density of \"fictitious\" precursors of one averaged delayed neutron group, $\\lambda$ is the averaged value of the decay constant of the single\n",
    "group of delayed neutron precursors."
   ]
  },
  {
   "cell_type": "markdown",
   "metadata": {},
   "source": [
    "The initial number delayed neutron precursors can be found as:\n",
    "    \n",
    "(3) $$C(0)=\\frac{\\beta}{l_{p}\\lambda}n_{0},$$\n",
    "\n",
    "where it is convinitent to assume that\n",
    "    \n",
    "(4) $$n_{0}=1.$$\n",
    "\n"
   ]
  },
  {
   "cell_type": "markdown",
   "metadata": {},
   "source": [
    "In lecture 7 $n(t)$ was found to be:\n",
    "    \n",
    "(5) $$n(t)=A_{0}e^{\\omega_{0}t}+A_{1}e^{\\omega_{1}t},$$"
   ]
  },
  {
   "cell_type": "markdown",
   "metadata": {},
   "source": [
    "where:\n",
    "\n",
    "(6) $$A_{0}=\\frac{(k-1)(1-\\beta)/l_{p}-\\omega_{1}}{\\omega_{0}-\\omega_{1}}n_{0},$$\n",
    "\n",
    "\n",
    "(7) $$A_{1}=-\\frac{(k-1)(1-\\beta)/l_{p}-\\omega_{0}}{\\omega_{0}-\\omega_{1}}n_{0},$$\n",
    "\n",
    "where $k=\\frac{1}{1-\\rho}$,\n",
    "\n",
    "(8) $$\\omega_{0,1}=\\frac{1}{2}\\left(\\frac{(\\rho-\\beta)k}{l_{p}}-\\lambda \\right)\\pm \\sqrt{\\frac{1}{4}\\left(\\frac{(\\rho-\\beta)k}{l_{p}}-\\lambda\\right)^{2}+\\frac{\\rho \\lambda k}{l_{p}}}.$$\n"
   ]
  },
  {
   "cell_type": "markdown",
   "metadata": {},
   "source": [
    "Now let us calculate $A_{0,1}$, $\\omega_{0,1}$."
   ]
  },
  {
   "cell_type": "code",
   "execution_count": 11,
   "metadata": {},
   "outputs": [
    {
     "name": "stdout",
     "output_type": "stream",
     "text": [
      "rho>0:\n",
      "w0=0.0008\n",
      "w1=-6.5162\n",
      "A0=1.0098\n",
      "A1=-0.0098\n"
     ]
    }
   ],
   "source": [
    "#rho>0  #positive reactivity\n",
    "beta = 0.0065 # beta\n",
    "rho = 0.01*beta #reactivity\n",
    "k = 1/(1-rho) #multiplication factor\n",
    "lp = 0.001 # prompt neutron lifetime\n",
    "lamb = 0.08 # average neutron decay rate \n",
    "\n",
    "w0_plus=0.5*((((rho-beta)*k)/lp)-lamb)+np.sqrt((1/4)*pow((((rho-beta)*k/lp)-lamb),2)+(rho*lamb*k/lp))\n",
    "w1_plus=0.5*((((rho-beta)*k)/lp)-lamb)-np.sqrt((1/4)*pow((((rho-beta)*k/lp)-lamb),2)+(rho*lamb*k/lp))\n",
    "\n",
    "A0_plus=(((k-1)*(1-beta)/lp)-w1_plus)/(w0_plus-w1_plus)\n",
    "A1_plus=-1*(((k-1)*(1-beta)/lp)-w0_plus)/(w0_plus-w1_plus)\n",
    "\n",
    "print(\"rho>0:\")\n",
    "print(\"w0={:.4f}\".format(w0_plus))\n",
    "print(\"w1={:.4f}\".format(w1_plus))\n",
    "print(\"A0={:.4f}\".format(A0_plus))\n",
    "print(\"A1={:.4f}\".format(A1_plus))"
   ]
  },
  {
   "cell_type": "code",
   "execution_count": 12,
   "metadata": {},
   "outputs": [
    {
     "name": "stdout",
     "output_type": "stream",
     "text": [
      "\n",
      "rho<0:\n",
      "w0=-0.0008\n",
      "w1=-6.6438\n",
      "A0=0.9904\n",
      "A1=0.0096\n",
      "\n",
      " We can see that in both cases (rho>0, rho<0) |A0|<<|A1|. That is why we can approximate T by 1/w0!\n"
     ]
    }
   ],
   "source": [
    "#rho<0  #negative reactivity\n",
    "beta = 0.0065 # beta\n",
    "rho = -0.01*beta #reactivity\n",
    "k = 1/(1-rho) #multiplication factor\n",
    "lp = 0.001 # prompt neutron lifetime\n",
    "lamb = 0.08 # average neutron decay rate \n",
    "\n",
    "w0_minus=0.5*((((rho-beta)*k)/lp)-lamb)+np.sqrt((1/4)*pow((((rho-beta)*k/lp)-lamb),2)+(rho*lamb*k/lp))\n",
    "w1_minus=0.5*((((rho-beta)*k)/lp)-lamb)-np.sqrt((1/4)*pow((((rho-beta)*k/lp)-lamb),2)+(rho*lamb*k/lp))\n",
    "\n",
    "A0_minus=(((k-1)*(1-beta)/lp)-w1_minus)/(w0_minus-w1_minus)\n",
    "A1_minus=-1*(((k-1)*(1-beta)/lp)-w0_minus)/(w0_minus-w1_minus)\n",
    "\n",
    "print(\"\\nrho<0:\")\n",
    "print(\"w0={:.4f}\".format(w0_minus))\n",
    "print(\"w1={:.4f}\".format(w1_minus))\n",
    "print(\"A0={:.4f}\".format(A0_minus))\n",
    "print(\"A1={:.4f}\".format(A1_minus))\n",
    "\n",
    "\n",
    "print(\"\\n We can see that in both cases (rho>0, rho<0) |A0|<<|A1|. That is why we can approximate T by 1/w0!\")"
   ]
  },
  {
   "cell_type": "markdown",
   "metadata": {},
   "source": [
    "Consequently, the time period in this case can be roughly estimated as:\n",
    "    \n",
    "(9) $$T=\\frac{1}{\\omega_{0}}.$$\n",
    "\n",
    "For $\\rho>0$ (positive reactivity) we have:"
   ]
  },
  {
   "cell_type": "code",
   "execution_count": 13,
   "metadata": {},
   "outputs": [
    {
     "name": "stdout",
     "output_type": "stream",
     "text": [
      "T=1253.04 s = 20.88 min.\n"
     ]
    }
   ],
   "source": [
    "print(\"T={:.2f} s = {:.2f} min.\".format(1/w0_plus,(1/(w0_plus*60))))"
   ]
  },
  {
   "cell_type": "markdown",
   "metadata": {},
   "source": [
    "Similarly for $\\rho<0$ (negative reactivity) we have:"
   ]
  },
  {
   "cell_type": "code",
   "execution_count": 14,
   "metadata": {},
   "outputs": [
    {
     "name": "stdout",
     "output_type": "stream",
     "text": [
      "T=-1277.74 s = -21.30 min.\n"
     ]
    }
   ],
   "source": [
    "print(\"T={:.2f} s = {:.2f} min.\".format(1/w0_minus, (1/(w0_minus*60))))"
   ]
  },
  {
   "cell_type": "markdown",
   "metadata": {},
   "source": [
    "Now we can examine how accurate these estimates are by solving (2) numerically for both positive and negative reactivity."
   ]
  },
  {
   "cell_type": "code",
   "execution_count": 24,
   "metadata": {},
   "outputs": [
    {
     "name": "stdout",
     "output_type": "stream",
     "text": [
      "The number density of neutrons in the reactor equals 2.7449 after time T.\n",
      "This number is close to e which is roughly 2.71.\n",
      "Error of approximation = (e-n(T))/e * 100% = -0.9787 %.\n"
     ]
    }
   ],
   "source": [
    "# Numerical solution of (2) within range (0,T). y[-1] element = n(T).\n",
    "# For T = [reactor period] we should have ~ e=2.71.\n",
    "\n",
    "#rho>0  #positive reactivity\n",
    "beta_plus = 0.0065 # beta\n",
    "rho_plus = 0.01*beta_plus #reactivity\n",
    "k_plus = 1/(1-rho_plus) #multiplication factor\n",
    "lp_plus = 0.001 # prompt neutron lifetime\n",
    "lamb_plus = 0.08 # average neutron decay rate \n",
    "\n",
    "y0_plus = [1,beta_plus/(lp_plus*lamb_plus)] # initial conditions, initial neutron number and precursor concentration\n",
    "\n",
    "#set of differential equations odeint\n",
    "def density_nC_plus(y,t):\n",
    "    n, C = y\n",
    "    dydt = [k_plus*(rho_plus-beta_plus)*n/lp_plus+lamb_plus*C, k_plus*beta_plus*n/lp_plus-lamb_plus*C]\n",
    "    return dydt\n",
    "\n",
    "\n",
    "T_plus=1/w0_plus\n",
    "\n",
    "t_plus = np.linspace(0, T_plus) #time interval\n",
    "y_plus = odeint(density_nC_plus,y0_plus,t_plus) #result [n(T),C(T)]\n",
    "print(\"The number density of neutrons in the reactor equals {:.4f} after time T.\".format(y_plus[-1][0]))\n",
    "print(\"This number is close to e which is roughly 2.71.\")\n",
    "print(\"Error of approximation = (e-n(T))/e * 100% = {:.4f} %.\".format(((mt.e-y_plus[-1][0])/mt.e)*100))"
   ]
  },
  {
   "cell_type": "code",
   "execution_count": 29,
   "metadata": {},
   "outputs": [
    {
     "name": "stdout",
     "output_type": "stream",
     "text": [
      "The number density of neutrons in the reactor equals 0.3643 after time T.\n",
      "This number is close to 1/e which is roughly 0.36.\n",
      "Error of approximation = (1/e-n(T))e * 100% = 0.9603 %.\n"
     ]
    }
   ],
   "source": [
    "# Numerical solution of (2) within range (0,T). y[-1] element = n(T).\n",
    "# For T = [reactor period] we should have ~ e=2.71.\n",
    "\n",
    "#rho<0  #negative reactivity\n",
    "beta_minus = 0.0065 # beta\n",
    "rho_minus = -1*0.01*beta_minus #reactivity\n",
    "k_minus = 1/(1-rho_minus) #multiplication factor\n",
    "lp_minus = 0.001 # prompt neutron lifetime\n",
    "lamb_minus = 0.08 # average neutron decay rate \n",
    "\n",
    "y0_minus = [1,beta_minus/(lp_minus*lamb_minus)] # initial conditions, initial neutron number and precursor concentration\n",
    "\n",
    "#set of differential equations odeint\n",
    "def density_nC_minus(y,t):\n",
    "    n, C = y\n",
    "    dydt = [k_minus*(rho_minus-beta_minus)*n/lp_minus+lamb_minus*C, k_minus*beta_minus*n/lp_minus-lamb_minus*C]\n",
    "    return dydt\n",
    "\n",
    "\n",
    "T_minus=(-1/w0_minus)\n",
    "\n",
    "t_minus = np.linspace(0,T_minus) #time interval\n",
    "y_minus = odeint(density_nC_minus,y0_minus,t_minus) #result [n(T),C(T)]\n",
    "\n",
    "print(\"The number density of neutrons in the reactor equals {:.4f} after time T.\".format(y_minus[-1][0]))\n",
    "print(\"This number is close to 1/e which is roughly 0.36.\")\n",
    "print(\"Error of approximation = (1/e-n(T))e * 100% = {:.4f} %.\".format(((pow(mt.e,-1)-y_minus[-1][0])/pow(mt.e,-1))*100))"
   ]
  },
  {
   "cell_type": "markdown",
   "metadata": {},
   "source": [
    "In Compendium chapter 13, there is an approximation of the time period calculated as a limit of (5) for small $|\\rho|$.\n",
    "\n",
    "(10) $$T=\\frac{\\beta-\\rho}{\\lambda \\rho}.$$\n",
    "\n",
    "\n",
    "It turns out that this approximation is a bit better than presented above:"
   ]
  },
  {
   "cell_type": "code",
   "execution_count": 35,
   "metadata": {},
   "outputs": [
    {
     "name": "stdout",
     "output_type": "stream",
     "text": [
      "The number density of neutrons in the reactor equals 2.7111 after time T.\n",
      "This number is close to e which is roughly 2.71.\n",
      "Error of approximation = (e-n(T))/e * 100% = 0.2656 %.\n"
     ]
    }
   ],
   "source": [
    "# Numerical solution of (2) within range (0,T). y[-1] element = n(T).\n",
    "# For T = [reactor period] we should have ~ e=2.71.\n",
    "\n",
    "#rho>0  #positive reactivity\n",
    "beta_plu = 0.0065 # beta\n",
    "rho_plu = 0.01*beta_plu #reactivity\n",
    "k_plu = 1/(1-rho_plu) #multiplication factor\n",
    "lp_plu = 0.001 # prompt neutron lifetime\n",
    "lamb_plu = 0.08 # average neutron decay rate \n",
    "\n",
    "y0_plu = [1,beta_plu/(lp_plu*lamb_plu)] # initial conditions, initial neutron number and precursor concentration\n",
    "\n",
    "#set of differential equations odeint\n",
    "def density_nC_plu(y,t):\n",
    "    n, C = y\n",
    "    dydt = [k_plu*(rho_plu-beta_plu)*n/lp_plu+lamb_plu*C, k_plu*beta_plu*n/lp_plu-lamb_plu*C]\n",
    "    return dydt\n",
    "\n",
    "T_plu=1/((lamb_plu*rho_plu)/(beta_plu-rho_plu))\n",
    "t_plu = np.linspace(0,T_plu) #time interval\n",
    "y_plu = odeint(density_nC_plu,y0_plu,t_plu) #result [n(T),C(T)]\n",
    "print(\"The number density of neutrons in the reactor equals {:.4f} after time T.\".format(y_plu[-1][0]))\n",
    "print(\"This number is close to e which is roughly 2.71.\")\n",
    "\n",
    "print(\"Error of approximation = (e-n(T))/e * 100% = {:.4f} %.\".format(((mt.e-y_plu[-1][0])/mt.e)*100))"
   ]
  },
  {
   "cell_type": "code",
   "execution_count": 33,
   "metadata": {},
   "outputs": [
    {
     "name": "stdout",
     "output_type": "stream",
     "text": [
      "The number density of neutrons in the reactor equals 0.3687 after time T.\n",
      "This number is close to 1/e which is roughly 0.36.\n",
      "Error of approximation = (1/e-n(T))e * 100% = -0.2277 %.\n"
     ]
    }
   ],
   "source": [
    "#rho<0  #positive reactivity\n",
    "beta_min = 0.0065 # beta\n",
    "rho_min = -0.01*beta_min #reactivity\n",
    "k_min = 1/(1-rho_min) #multiplication factor\n",
    "lp_min = 0.001 # prompt neutron lifetime\n",
    "lamb_min = 0.08 # average neutron decay rate \n",
    "\n",
    "y0_min = [1,beta_min/(lp_min*lamb_min)] # initial conditions, initial neutron number and precursor concentration\n",
    "\n",
    "\n",
    "#set of differential equations odeint\n",
    "def density_nC_min(y,t):\n",
    "    n, C = y\n",
    "    dydt = [k_min*(rho_min-beta_min)*n/lp_min+lamb_min*C, k_min*beta_min*n/lp_min-lamb_min*C]\n",
    "    return dydt\n",
    "\n",
    "T_min=-1/((lamb_min*rho_min)/(beta_min-rho_min))\n",
    "t_min = np.linspace(0,T_min) #time interval\n",
    "y_min = odeint(density_nC_min,y0_min,t_min) #result [n(T),C(T)]\n",
    "print(\"The number density of neutrons in the reactor equals {:.4f} after time T.\".format(y_min[-1][0]))\n",
    "print(\"This number is close to 1/e which is roughly 0.36.\")\n",
    "\n",
    "print(\"Error of approximation = (1/e-n(T))e * 100% = {:.4f} %.\".format(((pow(mt.e,-1)-y_min[-1][0])/pow(mt.e,-1))*100))"
   ]
  },
  {
   "cell_type": "markdown",
   "metadata": {},
   "source": [
    "## Problem 5.1 "
   ]
  },
  {
   "cell_type": "markdown",
   "metadata": {},
   "source": [
    "Sixty cents in reactivity is suddenly introduced into a critical thermal reactor fueled with $^{235}U$.\n",
    "What is the period of the reactor? Assume one averaged delayed neutron group. What is a\n",
    "difference if we make calculations for six groups of delayed neutrons."
   ]
  },
  {
   "cell_type": "markdown",
   "metadata": {},
   "source": [
    "#### First let us assess (graphical method) the reactor period for one averaged group of delayed neutrons:"
   ]
  },
  {
   "cell_type": "code",
   "execution_count": 39,
   "metadata": {},
   "outputs": [
    {
     "name": "stdout",
     "output_type": "stream",
     "text": [
      "Which suggests that the reactor T ~ 2 s, calculated for one averaged group of delayed neutrons.\n"
     ]
    },
    {
     "data": {
      "image/png": "[encoded data removed]",
      "text/plain": [
       "<Figure size 432x288 with 1 Axes>"
      ]
     },
     "metadata": {
      "needs_background": "light"
     },
     "output_type": "display_data"
    }
   ],
   "source": [
    "#set of differential equations odeint\n",
    "def density_1_group(y,t):\n",
    "    n, C = y\n",
    "    dydt = [k*(rho-beta)*n/lp+lamb*C, k*beta*n/lp-lamb*C]\n",
    "    return dydt\n",
    "\n",
    "#rho>0  #positive reactivity\n",
    "beta = 0.0065 # beta\n",
    "rho = 0.60*beta #reactivity\n",
    "k = 1/(1-rho) #multiplication factor\n",
    "lp = 0.001 # prompt neutron lifetime\n",
    "lamb = 0.08 # average neutron decay rate \n",
    "\n",
    "y0 = [1,beta/(lp*lamb)] # initial conditions, initial neutron number and precursor concentration\n",
    "\n",
    "t = np.linspace(0,10) #time interval\n",
    "y = odeint(density_1_group,y0,t) #result [n(T),C(T)]\n",
    "\n",
    "yy=[x[0] for x in y]\n",
    "\n",
    "\n",
    "plt.xlabel(\"t [s]\")\n",
    "plt.ylabel(\"n(t)\")\n",
    "plt.axhline(y=mt.e, color='r', linestyle='-')\n",
    "plt.plot(t,yy)\n",
    "\n",
    "\n",
    "print(\"Which suggests that the reactor T ~ 2 s, calculated for one averaged group of delayed neutrons.\")"
   ]
  },
  {
   "cell_type": "markdown",
   "metadata": {},
   "source": [
    "#### Now, let us assess (graphical method) the reactor period for 6 groups of delayed neutrons:"
   ]
  },
  {
   "cell_type": "code",
   "execution_count": 44,
   "metadata": {},
   "outputs": [
    {
     "name": "stdout",
     "output_type": "stream",
     "text": [
      "Which suggests that the reactor T ~ 1 s, calculated for 6 groups of delayed neutrons.\n"
     ]
    },
    {
     "data": {
      "image/png": "[encoded data removed]",
      "text/plain": [
       "<Figure size 432x288 with 1 Axes>"
      ]
     },
     "metadata": {
      "needs_background": "light"
     },
     "output_type": "display_data"
    }
   ],
   "source": [
    "#set of differential equations odeint\n",
    "#rho>0  #positive reactivity\n",
    "beta = 0.0065 # beta\n",
    "rho = 0.60*beta #reactivity\n",
    "k = 1/(1-rho) #multiplication factor\n",
    "lp = 0.001 # prompt neutron lifetime\n",
    "\n",
    "#data from lecture 7\n",
    "lamb1 = 0.0124\n",
    "beta1 = 0.000215\n",
    "lamb2 = 0.0305\n",
    "beta2 = 0.001424\n",
    "lamb3 = 0.111\n",
    "beta3 = 0.001274\n",
    "lamb4 = 0.301\n",
    "beta4 = 0.002568\n",
    "lamb5 = 1.14\n",
    "beta5 = 0.000748\n",
    "lamb6 = 3.01\n",
    "beta6 = 0.000273\n",
    "\n",
    "y0 = [1,beta1/(lp*lamb1),beta2/(lp*lamb2),beta3/(lp*lamb3),beta4/(lp*lamb4),beta5/(lp*lamb5),beta6/(lp*lamb6)] # 6 initial conditions\n",
    "\n",
    "\n",
    "def density_6_groups(y,T):\n",
    "    n, C1, C2, C3, C4, C5, C6 = y\n",
    "    dYdT = [k*(rho-beta)*n/lp+lamb1*C1+lamb2*C2+lamb3*C3+lamb4*C4+lamb5*C5+lamb6*C6, k*beta1*n/lp-lamb1*C1, \n",
    "            k*beta2*n/lp-lamb2*C2, k*beta3*n/lp-lamb3*C3, k*beta4*n/lp-lamb4*C4, k*beta5*n/lp-lamb5*C5, k*beta6*n/lp-lamb6*C6]\n",
    "    return dYdT\n",
    "\n",
    "\n",
    "\n",
    "t = np.linspace(0,10) #time interval\n",
    "y = odeint(density_6_groups,y0,t) #result [n(T),C(T)]\n",
    "\n",
    "yy=[x[0] for x in y]\n",
    "\n",
    "\n",
    "plt.xlabel(\"t [s]\")\n",
    "plt.ylabel(\"n(t)\")\n",
    "plt.axhline(y=mt.e, color='r', linestyle='-')\n",
    "plt.plot(t,yy)\n",
    "\n",
    "\n",
    "print(\"Which suggests that the reactor T ~ 1 s, calculated for 6 groups of delayed neutrons.\")"
   ]
  },
  {
   "cell_type": "markdown",
   "metadata": {},
   "source": [
    "### The reactor periods obtained using both methods differ roughly by the factor of 2."
   ]
  },
  {
   "cell_type": "markdown",
   "metadata": {},
   "source": [
    "## Problem 5.2"
   ]
  },
  {
   "cell_type": "markdown",
   "metadata": {},
   "source": [
    "The overall temperature coefficient of a $^{235}U$-fueled reactor is $-2.75\\cdot10^{-5}/^{\\circ}C$ and is independent of temperature. By how much does the reactivity of the system drop when its temperature is\n",
    "increased from room temperature, $20^{\\circ}C$, to the operating temperature of $290^{\\circ}C$? Give your\n",
    "answer in pcm and dollars."
   ]
  },
  {
   "cell_type": "markdown",
   "metadata": {},
   "source": [
    "The temperature coefficient of reactivity $\\alpha$ is defined as:\n",
    "\n",
    "$$\\alpha=\\frac{d \\rho}{dt}.$$\n",
    "\n",
    "Since $\\rho$ is independent of  temperature we can write:\n",
    "\n",
    "$$\\alpha=\\frac{\\Delta \\rho}{\\Delta t}.$$"
   ]
  },
  {
   "cell_type": "markdown",
   "metadata": {},
   "source": [
    "Consequently, for $\\Delta t = 270 K$ we have:\n",
    "\n",
    "$$\\Delta \\rho=\\alpha \\Delta t= -2.75 \\cdot 10^{-5} \\cdot 270 = -742.5 \\text{ pcm}.$$"
   ]
  },
  {
   "cell_type": "markdown",
   "metadata": {},
   "source": [
    "Knowing the fraction of delayed neutrons for $U^{235}$, which is $\\beta=0.0065$, we can calculate the change of reactivity in dollars:"
   ]
  },
  {
   "cell_type": "markdown",
   "metadata": {},
   "source": [
    "$$\\frac{\\Delta \\rho}{\\beta} \\approx -1.14 \\text{ \\$}.$$"
   ]
  },
  {
   "cell_type": "markdown",
   "metadata": {},
   "source": [
    "## Problem 5.3"
   ]
  },
  {
   "cell_type": "markdown",
   "metadata": {},
   "source": [
    "Calculate the equilibrium concentration, in $\\text{atoms}/cm^{3}$, of $^{135}Xe$ and $^{135}I$ in an infinite critical\n",
    "thermal reactor consisting of a homogeneous mixture of $^{235}U$ and $H_{2}O$ operating at a\n",
    "temperature of $20^{0}C$ (here I changed temperature from $200^{\\circ}C$, I believe you made a mistake here) and a thermal flux of $5\\cdot10^{13}$ $\\text{neutrons}/cm^{2}s$. The reactor is\n",
    "characterized by the resonance escape probability $0.86$ and the fast fission factor $1.025$. The\n",
    "microscopic capture cross-section of $^{135}Xe$ is $2.75\\cdot10^{6}b$ at $2200 m/s$ flux. The thermal\n",
    "macroscopic absorption cross-section of water is measured to be $1.86\\cdot10^{-2}cm^{-1}$."
   ]
  },
  {
   "cell_type": "markdown",
   "metadata": {},
   "source": [
    "$$f=\\frac{1}{\\nu p \\epsilon}$$"
   ]
  },
  {
   "cell_type": "markdown",
   "metadata": {},
   "source": [
    "$$f=\\frac{\\Sigma_{a,F}}{\\Sigma_{a,F}+\\Sigma_{a,M}}$$"
   ]
  },
  {
   "cell_type": "markdown",
   "metadata": {},
   "source": [
    "$$\\Sigma_{a,F}=\\frac{f\\Sigma_{a,M}}{(1-f)}$$"
   ]
  },
  {
   "cell_type": "markdown",
   "metadata": {},
   "source": [
    "$$\\Sigma_{f}=\\frac{k}{p\\epsilon \\nu}\\left(\\frac{f}{(1-f)}+1\\right)\\Sigma_{a,M}$$"
   ]
  },
  {
   "cell_type": "markdown",
   "metadata": {},
   "source": [
    "$$N_{Xe,\\infty}=\\frac{(\\gamma_{I}+\\gamma_{Xe})\\Sigma_{f} \\phi_{th}}{\\lambda_{Xeff}}=\\frac{(\\gamma_{I}+\\gamma_{Xe})\\Sigma_{f}\\phi_{th}}{\\lambda_{Xe}+\\sigma_{a,Xe}\\phi_{th}}$$"
   ]
  },
  {
   "cell_type": "markdown",
   "metadata": {},
   "source": [
    "$$N_{I,\\infty}=\\frac{\\gamma_{I}\\Sigma_{f}\\phi_{th}}{\\lambda_{I}}$$"
   ]
  },
  {
   "cell_type": "markdown",
   "metadata": {},
   "source": [
    "## Problem 5.4"
   ]
  },
  {
   "cell_type": "markdown",
   "metadata": {},
   "source": [
    "A hypothetical critical \"paper reactor\" uses a uranium fuel with $5\\%$ $^{235}U$ and $95\\%$ $^{238}U$.\n",
    "How would the factors of the 6 factor formula be affected if the fuel was switched to MOX fuel\n",
    "$7\\%$ $^{239}Pu$ - and $93\\%$ $^{238}U$? (Weapon grade plutonium utilization concept)"
   ]
  },
  {
   "cell_type": "code",
   "execution_count": null,
   "metadata": {},
   "outputs": [],
   "source": [
    "#Boring"
   ]
  },
  {
   "cell_type": "markdown",
   "metadata": {},
   "source": [
    "# Set 6"
   ]
  },
  {
   "cell_type": "markdown",
   "metadata": {},
   "source": [
    "## Problem 6.1"
   ]
  },
  {
   "cell_type": "markdown",
   "metadata": {},
   "source": [
    "#### Identify and explain the differences between fission and fusion energy. Can fission and fusion work together? Why fusion may need fission?"
   ]
  },
  {
   "cell_type": "markdown",
   "metadata": {},
   "source": [
    "source: https://en.wikipedia.org/wiki/Nuclear_fission\n",
    "\n",
    "$\\textbf{Fission}$ is a process in which the nucleus of an atom splits into two or more smaller nuclei."
   ]
  },
  {
   "cell_type": "markdown",
   "metadata": {},
   "source": [
    "source: lecture 9\n",
    "\n",
    "$\\textbf{Fusion}$ - the controlled process in\n",
    "which two light atoms are fused\n",
    "together generating a heavier atom\n",
    "with the aim of generating energy"
   ]
  },
  {
   "cell_type": "markdown",
   "metadata": {},
   "source": [
    "Let us now have a look at one of the most often considered fusion reactions:\n",
    "$$^{2}_{1}D+^{3}_{1}T\\rightarrow ^{4}_{2}He+^{1}_{0}n+17.56MeV.$$"
   ]
  },
  {
   "cell_type": "markdown",
   "metadata": {},
   "source": [
    "reference: https://www.iter.org\n",
    "\n",
    "According to ITER \"propaganda-filled\" official webpage: \"Fusing atoms together in a controlled way releases nearly four million times more energy than a chemical reaction such as the burning of coal, oil or gas and four times as much as nuclear fission reactions (at equal mass).\" "
   ]
  },
  {
   "cell_type": "markdown",
   "metadata": {},
   "source": [
    "It turns out that 1 kg of a Deuterium/Tritium mixture could be potentially used to generate power. According to the lecture it can generate power of $4GW$ per 24 hours."
   ]
  },
  {
   "cell_type": "markdown",
   "metadata": {},
   "source": [
    "Unfortunately, whereas Deuterium is abundant in nature, when it comes to Tritium, it is euphemistically speaking as rare as hen's teeth. The current known natural supply of tritium is estimated at twenty kilos, and thus Tritium must be artificially produced."
   ]
  },
  {
   "cell_type": "markdown",
   "metadata": {},
   "source": [
    "The way in which Tritium can be produced was described in lecture 9 slaid 15 (Lithium fission). Namely, Tritium can be bread from Lithium:\n",
    "\n",
    "(egzothermic) $$^{6}_{3}Li+^{1}_{0}n\\rightarrow ^{4}_{2}He+^{3}_{1}T+4.8MeV,$$ \n",
    "\n",
    "(endothermic) $$^{7}_{3}Li+^{1}_{0}n\\rightarrow ^{4}_{2}He+^{3}_{1}T+^{1}_{0}n-2.5MeV.$$ "
   ]
  },
  {
   "cell_type": "markdown",
   "metadata": {},
   "source": [
    "Even though, the neutrons released in fusion reaction can be used for Tritium production in the aforementioned reactions, there is huge obstacle to overcome. To maintain the Tritium production from Lithium fission in a fusion reactor one has to utilize neutrons with $100\\%$ efficiency, which is impossible (see lecture slide 15)."
   ]
  },
  {
   "cell_type": "markdown",
   "metadata": {},
   "source": [
    "The availability of Lithium on land is sufficient for at least 1000 if not 30000\n",
    "years, and the cost per kWh would be even smaller than that of Deuterium, which is very good!\n",
    "\n",
    "\n",
    "The future of fusion reactors such as ITER depend on our ability to develop a successful method of tritium breeding."
   ]
  },
  {
   "cell_type": "markdown",
   "metadata": {},
   "source": [
    "Fusion power reactors are extremly expensive, and none of them has produced net energy so far. However, the potential energy gain from deploying fusion instead of fission is so great that there is still plenty of interest in this thechnology and experiments such as ITER have secure funding."
   ]
  },
  {
   "cell_type": "markdown",
   "metadata": {},
   "source": [
    "###### (APPENDIX to 6.1 advantages of fusion reactors)\n",
    "\n",
    "The advantages of fusion reactors are aplenty (cite: https://www.iter.org):\n",
    "\n",
    "$\\textbf{No }CO_{2}$: Fusion doesn't emit harmful toxins like carbon dioxide or other greenhouse gases into the atmosphere. Its major by-product is helium: an inert, non-toxic gas.\n",
    "\n",
    "$\\textbf{No long-lived radioactive waste}$: Nuclear fusion reactors produce no high activity, long-lived nuclear waste. The activation of components in a fusion reactor is low enough for the materials to be recycled or reused within 100 years.\n",
    "\n",
    "$\\textbf{Limited risk of proliferation}$: Fusion doesn't employ fissile materials like uranium and plutonium. (Radioactive tritium is neither a fissile nor a fissionable material.) There are no enriched materials in a fusion reactor like ITER that could be exploited to make nuclear weapons.\n",
    "\n",
    "$\\textbf{No risk of meltdown}$: A Fukushima-type nuclear accident is not possible in a tokamak fusion device. It is difficult enough to reach and maintain the precise conditions necessary for fusion—if any disturbance occurs, the plasma cools within seconds and the reaction stops. The quantity of fuel present in the vessel at any one time is enough for a few seconds only and there is no risk of a chain reaction.\n",
    "\n",
    "$\\textbf{Cost}$:  The power output of the kind of fusion reactor that is envisaged for the second half of this century will be similar to that of a fission reactor, (i.e., between 1 and 1.7 gigawatts). The average cost per kilowatt of electricity is also expected to be similar ... slightly more expensive at the beginning, when the technology is new, and less expensive as economies of scale bring the costs down."
   ]
  },
  {
   "cell_type": "markdown",
   "metadata": {},
   "source": [
    "## Problem 6.2"
   ]
  },
  {
   "cell_type": "markdown",
   "metadata": {},
   "source": [
    "#### Compare the solar (stellar) fusion cycle with the proposed \"terrestial\" solutions."
   ]
  },
  {
   "cell_type": "markdown",
   "metadata": {},
   "source": [
    "$\\textbf{reference}$: lecture 9 slide 50.\n",
    "    \n",
    "The type of reactions that are considered for energy production are different + different source of confinement\n",
    "(gravitational, magnetic, inertial)."
   ]
  },
  {
   "cell_type": "markdown",
   "metadata": {},
   "source": [
    "I think you could paste here the image from the lecture with solar fusion, or present it here in any other way."
   ]
  },
  {
   "cell_type": "markdown",
   "metadata": {},
   "source": [
    "## Problem 6.3"
   ]
  },
  {
   "cell_type": "markdown",
   "metadata": {},
   "source": [
    "#### Compare magnetic and inertial confinement fusion concepts.  "
   ]
  },
  {
   "cell_type": "markdown",
   "metadata": {},
   "source": [
    "\n",
    "\n",
    "#### the best source (for the course)\n",
    "\n",
    "The best source to answer could be lecture 9 slide 28-29.\n",
    "\n",
    "There are two approaches to fusion.\n",
    "One is based on the rapid\n",
    "compression, and heating of a\n",
    "solid fuel pellet through the use\n",
    "of laser or particle beams. In\n",
    "this approach one tries to\n",
    "obtain a sufficient amount of\n",
    "fusion reactions before the\n",
    "material flies apart, hence the\n",
    "name, inertial confinement\n",
    "fusion (ICF)."
   ]
  },
  {
   "cell_type": "markdown",
   "metadata": {},
   "source": [
    "Magnetic confinement:\n",
    "The Lorentz force connected with a magnetic field makes that the\n",
    "charged particles can not move over large distances across the\n",
    "magnetic field\n",
    "They gyrate around the field lines with a typical radius"
   ]
  },
  {
   "cell_type": "markdown",
   "metadata": {},
   "source": [
    "Magnetic field\n",
    "If no magnetic field is used for confinement\n",
    "\n",
    "• The energy confinement time is unrealistically small\n",
    "\n",
    "• The material walls will have to withstand the plasma\n",
    "\n",
    "pressure\n",
    "\n",
    "• The wall would have to stand an enormous heat flux due\n",
    "to the large flux of energetic particles to the wall."
   ]
  },
  {
   "cell_type": "markdown",
   "metadata": {},
   "source": [
    "##### second best source:\n",
    "\n",
    "The second best source is as always:\n",
    "\n",
    "http://hyperphysics.phy-astr.gsu.edu/hbase/NucEne/fusmag.html\n",
    "\n",
    "\n",
    "http://hyperphysics.phy-astr.gsu.edu/hbase/NucEne/finert.html#c1\n",
    "\n",
    "\n",
    "It is one of the best sources because it actually explains how this stuff works."
   ]
  },
  {
   "cell_type": "markdown",
   "metadata": {},
   "source": [
    "##### Below some interesting statements from the depths of the internet!"
   ]
  },
  {
   "cell_type": "markdown",
   "metadata": {},
   "source": [
    "cite: Paul Breeze, in Power Generation Technologies (Third Edition), 2019 (https://www.sciencedirect.com/topics/engineering/magnetic-confinement)\n",
    "\n",
    "While magnetic confinement seeks to create as stable continuous plasma in which fusion can take place, the alternative, inertial confinement, seeks instead to generate energy from a series of discrete fusion reactions producing a burst of energy each time. In an inertial confinement reactor, small capsules containing around 150 mg of a mixture of deuterium and hydrogen are exposed to a massive pulse of energy from multiple lasers. When the laser beams strike the capsule, they create an explosion of X-rays from its surface, and these in turn (by the mechanical principle of action and reaction) create a pressure pulse that heats and compresses the DT mixture with such vigour that the conditions for fusion are generated at its core. One fusion starts, the reaction radiates outwards through the DT mixture faster than the actual molecules can expand and escape (they are ‘confined’ by their inertia) and so the whole charge undergoes fusion and releases a pulse of energy. \n",
    "\n",
    "To make this into a means of generating power, these small exploding suns must be created at a relatively rapid rate of perhaps 15 each second. This sounds both exacting and ambitious, but it is exactly what a US programme proposes. To achieve it, the US government has built the National Ignition Facility (NIF), a $5 billion project that is intended to serve both military and civilian research.\n",
    "\n",
    "NIF is provided with 192 lasers capable of providing a combined pulse of up to 5 MJ of energy, and it has so far produced 2.2 MJ, equivalent to a delivery rate of 500 TW of energy. All the energy contained in the laser beams is focussed onto the 150 mg of DT. NIF is only capable of single shot experiments rather than the continuous operation required for a power plant. Since it started in 2009, it has carried out a series of experiments trying to achieve ignition, the point at which the DT produces more fusion energy than the lasers pump into it. By 2015, it was a factor or two or three short of ignition.\n",
    "\n",
    "Alongside NIF is the Laser Inertial Fusion Energy (LIFE) project, a collaboration of scientists, technologists, utilities and regulators who are seeking to design a power plant capable of exploiting inertial confinement. Current plants see a demonstration project constructed between 2020 and 2030 and commercial plants available by 2030 or soon afterwards.\n",
    "\n"
   ]
  },
  {
   "cell_type": "markdown",
   "metadata": {},
   "source": [
    "Another interesting source:\n",
    "    \n",
    "https://science.howstuffworks.com/fusion-reactor3.html\n",
    "    \n",
    "$\\textbf{Magnetic confinement}$ uses magnetic and electric fields to heat and squeeze the hydrogen plasma. The ITER project in France is using this method.\n",
    "\n",
    "$\\textbf{Inertial confinement}$ uses laser beams or ion beams to squeeze and heat the hydrogen plasma. Scientists are studying this experimental approach at the National Ignition Facility of Lawrence Livermore Laboratory in the United States."
   ]
  },
  {
   "cell_type": "markdown",
   "metadata": {},
   "source": [
    "## Problem 6.4"
   ]
  },
  {
   "cell_type": "markdown",
   "metadata": {},
   "source": [
    "#### Environmental aspects of energy from fusion."
   ]
  },
  {
   "cell_type": "markdown",
   "metadata": {},
   "source": [
    "This webpage has a very good description of the environmental aspects of fusion energy production: https://www.iter.org/mach/safety."
   ]
  },
  {
   "cell_type": "markdown",
   "metadata": {},
   "source": [
    "You could also just rephrase the Appendix to 6.1."
   ]
  }
 ],
 "metadata": {
  "kernelspec": {
   "display_name": "Python 3",
   "language": "python",
   "name": "python3"
  }
 },
 "nbformat": 4,
 "nbformat_minor": 4
}
