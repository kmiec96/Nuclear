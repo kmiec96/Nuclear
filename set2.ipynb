{
 "cells": [
  {
   "cell_type": "code",
   "execution_count": 2,
   "metadata": {},
   "outputs": [],
   "source": [
    "from IPython.display import display, Markdown, Latex\n",
    "from decimal import Decimal\n",
    "import matplotlib.pyplot as plt\n",
    "import numpy as np\n",
    "import math as mt"
   ]
  },
  {
   "cell_type": "markdown",
   "metadata": {},
   "source": [
    "# Nuclear Energy Physics solutions (sets-4,5,6), copyright Mateusz Kmieć "
   ]
  },
  {
   "cell_type": "markdown",
   "metadata": {},
   "source": [
    "# SET 4"
   ]
  },
  {
   "cell_type": "markdown",
   "metadata": {},
   "source": [
    "## Problem 4.1"
   ]
  },
  {
   "cell_type": "markdown",
   "metadata": {},
   "source": [
    "#### Absorption of neutrons in the fuel, U-235 + U-238, leads in some cases to fission which gives new fast neutrons."
   ]
  },
  {
   "cell_type": "markdown",
   "metadata": {},
   "source": [
    "$\\textbf{Derive}$ the formula for $\\eta$, the effective number of fission neutrons per one neutron absorbed in fuel."
   ]
  },
  {
   "cell_type": "markdown",
   "metadata": {},
   "source": [
    "(1) $$\\eta=\\nu_{235}\\frac{e\\sigma_{f235}}{e\\left(\\sigma_{f}+\\sigma_{c}\\right)_{235}+(1-e)\\sigma_{a238}}.$$"
   ]
  },
  {
   "cell_type": "markdown",
   "metadata": {},
   "source": [
    "the enrichment $e$,\n",
    "\n",
    "(2) $$e=\\frac{N_{235}}{N_{235}+N_{238}}.$$"
   ]
  },
  {
   "cell_type": "markdown",
   "metadata": {},
   "source": [
    "$\\textbf{Deriviation}$ of formula (1) (so called thermal fission factor)."
   ]
  },
  {
   "cell_type": "markdown",
   "metadata": {},
   "source": [
    "First, let us make an assumption that the chain reaction is occuring in an infinitely large system.\n",
    "This assumption results in no neutron leakage, which indicates that the effective probability of chain reaction is governed only by the respective capture and fission cross-sections."
   ]
  },
  {
   "cell_type": "markdown",
   "metadata": {},
   "source": [
    "By definition thermal fission factor can be interpreted as:"
   ]
  },
  {
   "cell_type": "markdown",
   "metadata": {},
   "source": [
    "(3) $$\\eta=\\frac{\\text{number of fast neutrons produced in thermal fission}}{\\text{number of thermal neutrons absorbed in fuel}}.$$"
   ]
  },
  {
   "cell_type": "markdown",
   "metadata": {},
   "source": [
    "According to Chapter.9 of the book, written by WG, which shall not be named here, fission caused by thermal neutrons occurs only for $U^{235}$ nuclei in $U^{235}$+$U^{238}$ fuel. "
   ]
  },
  {
   "cell_type": "markdown",
   "metadata": {},
   "source": [
    "Consequently, thermal fission factor can be expressed as:\n",
    "    \n",
    "(4) $$\\eta=\\nu_{235}\\frac{\\text{number of thermal neutrons that fissioned}}{\\text{number of thermal neutrons absorbed in fuel}},$$\n",
    "\n",
    "where $\\nu_{235}$ denotes the number of neutrons produced per fisson of $U^{235}$ nuclei."
   ]
  },
  {
   "cell_type": "markdown",
   "metadata": {},
   "source": [
    "In the light of the aforementioned definitions, the number of thermal neutrons that fissioned can be expressed as a product of the uranium enrichement ($e$) and the cross-section for $U^{235}$ fission at $0.0253$ eV ($\\sigma_{f235}$). "
   ]
  },
  {
   "cell_type": "markdown",
   "metadata": {},
   "source": [
    "As far as the denominator of (4) is concerned it can be written as $e\\left(\\sigma_{f}+\\sigma_{c}\\right)_{235}+\\left(1-e\\right)\\sigma_{a238}$. At this point it is worth noting that $\\sigma_{a238}\\approx\\sigma_{c238}$ as fission for thermal neutrons is negligible for $U^{238}$."
   ]
  },
  {
   "cell_type": "markdown",
   "metadata": {},
   "source": [
    "Having found the number of thermal neutrons that fissioned and the number of thermal neutrons absorbed in fuel we can finally obtain equation (1) from equation (4)."
   ]
  },
  {
   "cell_type": "markdown",
   "metadata": {},
   "source": [
    "$\\textbf{QED}$"
   ]
  },
  {
   "cell_type": "markdown",
   "metadata": {},
   "source": [
    "a). $\\textbf{Study}$ how the fission factor depends on the enrichement and determine the value at an erichment of $0.7$, $1$, $2$ ,$3\\%$."
   ]
  },
  {
   "cell_type": "code",
   "execution_count": 132,
   "metadata": {},
   "outputs": [
    {
     "data": {
      "text/latex": [
       "$\\displaystyle \\text{Chain reaction is established for } \\ \\eta \\ \\text{equal:}$"
      ],
      "text/plain": [
       "<IPython.core.display.Math object>"
      ]
     },
     "metadata": {},
     "output_type": "display_data"
    },
    {
     "data": {
      "text/latex": [
       "$\\displaystyle \\\\ \\eta= 1.27; \\ \\ e=0.70\\%,$"
      ],
      "text/plain": [
       "<IPython.core.display.Math object>"
      ]
     },
     "metadata": {},
     "output_type": "display_data"
    },
    {
     "data": {
      "text/latex": [
       "$\\displaystyle \\\\ \\eta= 1.43; \\ \\ e=1.00\\%,$"
      ],
      "text/plain": [
       "<IPython.core.display.Math object>"
      ]
     },
     "metadata": {},
     "output_type": "display_data"
    },
    {
     "data": {
      "text/latex": [
       "$\\displaystyle \\\\ \\eta= 1.69; \\ \\ e=2.00\\%,$"
      ],
      "text/plain": [
       "<IPython.core.display.Math object>"
      ]
     },
     "metadata": {},
     "output_type": "display_data"
    },
    {
     "data": {
      "text/latex": [
       "$\\displaystyle \\\\ \\eta= 1.79; \\ \\ e=3.00\\%,$"
      ],
      "text/plain": [
       "<IPython.core.display.Math object>"
      ]
     },
     "metadata": {},
     "output_type": "display_data"
    },
    {
     "data": {
      "text/latex": [
       "$\\displaystyle \\\\ \\eta= 2.00; \\ \\ e=20.00\\%,$"
      ],
      "text/plain": [
       "<IPython.core.display.Math object>"
      ]
     },
     "metadata": {},
     "output_type": "display_data"
    },
    {
     "data": {
      "text/latex": [
       "$\\displaystyle \\text{where we assume no leakage. The result is in accordance with the result from chapter 9!}$"
      ],
      "text/plain": [
       "<IPython.core.display.Math object>"
      ]
     },
     "metadata": {},
     "output_type": "display_data"
    },
    {
     "data": {
      "image/png": "[encoded data removed]",
      "text/plain": [
       "<Figure size 432x288 with 1 Axes>"
      ]
     },
     "metadata": {
      "needs_background": "light"
     },
     "output_type": "display_data"
    }
   ],
   "source": [
    "from IPython.display import display, Math\n",
    "\n",
    "nu235=2.42                              #information fount in chapter.9\n",
    "e=np.array([0.7,1.0,2.0,3,20])             #enrichment in percent\n",
    "\n",
    "\n",
    "sigmaf235=539                           #cross section U-235 capture chapter 9\n",
    "sigmac235=101                           #cross-section U-235 capture chapter 9\n",
    "sigmac238=2.72                          #cross-section U-238 capture chapter 9\n",
    "\n",
    "#eta calculated for 0.7, 1, 2 and 3% enrichment\n",
    "eta=nu235*((e*sigmaf235)/(e*(sigmaf235+sigmac235)+(100-e)*sigmac238))\n",
    "\n",
    "display(Math(r\"\\text{Chain reaction is established for } \\ \\eta \\ \\text{equal:}\"))\n",
    "for i in range(5):\n",
    "    display(Math(r'\\\\ \\eta= {:.2f}; \\ \\ e={:.2f}\\%,'.format(eta[i],e[i])))\n",
    "    \n",
    "display(Math(r\"\\text{where we assume no leakage. The result is in accordance with the result from chapter 9!}\"))\n",
    "\n",
    "plt.plot(e,eta)\n",
    "plt.title(\"Dependance between $\\eta$ and $e$.\")\n",
    "plt.xlabel(\"$e$ [%]\")\n",
    "plt.ylabel(\"$\\eta$\")\n",
    "plt.show()"
   ]
  },
  {
   "cell_type": "markdown",
   "metadata": {},
   "source": [
    "b). $\\textbf{Calculate}$ the value of the fission factor, for highly enriched uranium and plutonium fissioned by thermal and fast neutrons."
   ]
  },
  {
   "cell_type": "markdown",
   "metadata": {},
   "source": [
    "Uranium with a content of U-235 larger or equal to $20\\%$ is called highly enriched uranium. That is why from now on I will be using $e=20\\%$."
   ]
  },
  {
   "cell_type": "markdown",
   "metadata": {},
   "source": [
    "(5) $$\\eta=\\frac{e\\nu_{235}\\sigma_{ff235}+(1-e)\\nu_{238}\\sigma_{ff238}}{e\\left(\\sigma_{ff}+\\sigma_{c}\\right)_{235}+(1-e)(\\sigma_{c238}+\\sigma_{ff238})}.$$"
   ]
  },
  {
   "cell_type": "code",
   "execution_count": 147,
   "metadata": {},
   "outputs": [
    {
     "name": "stdout",
     "output_type": "stream",
     "text": [
      "eta for 20% enriched U-235 2.373.\n"
     ]
    }
   ],
   "source": [
    "e=20\n",
    "nu235=2.63                              #information fount in chapter.9\n",
    "nu238=2.60                              #information from \n",
    "\n",
    "sigmaff238=0.6                          #fast cross section U-235 capture chapter 9\n",
    "sigmaff235=1.3                          #fast cross section U-235 capture chapter 9\n",
    "\n",
    "sigmac238=0.07\n",
    "sigmac235=0.09\n",
    "\n",
    "#epsilon calculated for 20% enrichment\n",
    "eta=((e*nu235*sigmaff235)+(100-e)*nu238*sigmaff238)/(e*(sigmaff235+sigmac235)+(100-e)*(sigmac238+sigmaff238))\n",
    "\n",
    "print(\"eta for 20% enriched U-235 {:.4g}.\".format(eta))"
   ]
  },
  {
   "cell_type": "code",
   "execution_count": 148,
   "metadata": {},
   "outputs": [
    {
     "name": "stdout",
     "output_type": "stream",
     "text": [
      "eta for 20% enriched Pu-239 2.568.\n"
     ]
    }
   ],
   "source": [
    "e=20\n",
    "nu239=3.16                              #information fount in chapter.9\n",
    "nu238=2.60                              #information from \n",
    "\n",
    "sigmaff238=0.6                          #fast cross section U-235 capture chapter 9\n",
    "sigmaff239=1.3                          #fast cross section U-235 capture chapter 9\n",
    "\n",
    "sigmac238=0.07\n",
    "sigmac239=0.05\n",
    "\n",
    "#epsilon calculated for 20% enrichment\n",
    "eta=((e*nu239*sigmaff239)+(100-e)*nu238*sigmaff238)/(e*(sigmaff239+sigmac239)+(100-e)*(sigmac238+sigmaff238))\n",
    "\n",
    "print(\"eta for 20% enriched Pu-239 {:.4g}.\".format(eta))"
   ]
  },
  {
   "cell_type": "markdown",
   "metadata": {},
   "source": [
    "Fission factor for fast neutrons:\n",
    "\n",
    "(5) $$\\epsilon=\\frac{\\text{number of fast neutrons produced by fissions of all energies}}{\\text{number of fast neutrons produced in thermal fission}}.$$"
   ]
  },
  {
   "cell_type": "markdown",
   "metadata": {},
   "source": [
    "(6) $$\\epsilon=\\frac{(e\\nu_{235}\\sigma_{f235}+e\\sigma_{ff235}+(1-e)\\nu_{238}\\sigma_{ff238})}{e\\nu_{235}\\sigma_{f235}}$$\n",
    "\n"
   ]
  },
  {
   "cell_type": "markdown",
   "metadata": {},
   "source": [
    "Data taken from https://www.nuclear-power.net/nuclear-power/reactor-physics/nuclear-fission-chain-reaction/fast-fission-factor/#:~:text=The%20fast%20fission%20factor%20is,neutrons%20produced%20in%20thermal%20fission.&text=This%20arrangement%20increases%20the%20probability,be%20with%20a%20fuel%20nucleus."
   ]
  },
  {
   "cell_type": "code",
   "execution_count": 133,
   "metadata": {},
   "outputs": [
    {
     "data": {
      "text/latex": [
       "$\\displaystyle \\\\ \\epsilon= 1.01; \\ \\ e=20.00\\%,$"
      ],
      "text/plain": [
       "<IPython.core.display.Math object>"
      ]
     },
     "metadata": {},
     "output_type": "display_data"
    }
   ],
   "source": [
    "#Neutrons produced by fission in U have an average energy of 2 MeV and at this energy\n",
    "#the significant cross-sections are:\n",
    "\n",
    "\n",
    "\n",
    "nu235=2.63                              #information fount in chapter.9\n",
    "nu238=2.60                              #information from \n",
    "e=20                                    #enrichment in percent\n",
    "\n",
    "sigmaff238=0.6                          #fast cross section U-235 capture chapter 9\n",
    "sigmaff235=1.3                          #fast cross section U-235 capture chapter 9\n",
    "sigmaf235=539                           #fission cross section U-235 capture chapter 9\n",
    "\n",
    "\n",
    "#epsilon calculated for 20% enrichment\n",
    "epsilon=(e*nu235*(sigmaf235+sigmaff235)+(100-e)*nu238*sigmaff238)/(e*nu235*sigmaf235)\n",
    "\n",
    "display(Math(r'\\\\ \\epsilon= {:.2f}; \\ \\ e={:.2f}\\%,'.format(epsilon,e)))"
   ]
  },
  {
   "cell_type": "markdown",
   "metadata": {},
   "source": [
    "We can repeat this calculation for plutonium."
   ]
  },
  {
   "cell_type": "code",
   "execution_count": 135,
   "metadata": {},
   "outputs": [
    {
     "data": {
      "text/latex": [
       "$\\displaystyle \\\\ \\epsilon= 1.01; \\ \\ e=20.00\\%,$"
      ],
      "text/plain": [
       "<IPython.core.display.Math object>"
      ]
     },
     "metadata": {},
     "output_type": "display_data"
    }
   ],
   "source": [
    "#Neutrons produced by fission in Pu have an average energy of 2 MeV and at this energy\n",
    "#the significant cross-sections are:\n",
    "\n",
    "\n",
    "\n",
    "nu239=3.16                              #information fount in chapter.9\n",
    "nu238=2.60                              #information from \n",
    "e=20                                    #enrichment in percent\n",
    "\n",
    "sigmaff238=0.6                          #fast cross section U-235 capture chapter 9\n",
    "sigmaff239=1.93                         #fast cross section Pu-239 capture chapter 9\n",
    "sigmaf239=747                           #fission cross section Pu-239 capture chapter 9\n",
    "\n",
    "#epsilon calculated for 20% enrichment\n",
    "epsilon=(e*nu239*(sigmaf239+sigmaff239)+(100-e)*nu238*sigmaff238)/(e*nu239*sigmaf239)\n",
    "\n",
    "display(Math(r'\\\\ \\epsilon= {:.2f}; \\ \\ e={:.2f}\\%,'.format(epsilon,e)))"
   ]
  },
  {
   "cell_type": "markdown",
   "metadata": {},
   "source": []
  },
  {
   "cell_type": "markdown",
   "metadata": {},
   "source": [
    "# SET 5"
   ]
  },
  {
   "cell_type": "code",
   "execution_count": null,
   "metadata": {},
   "outputs": [],
   "source": []
  },
  {
   "cell_type": "code",
   "execution_count": null,
   "metadata": {},
   "outputs": [],
   "source": []
  },
  {
   "cell_type": "code",
   "execution_count": null,
   "metadata": {},
   "outputs": [],
   "source": []
  },
  {
   "cell_type": "code",
   "execution_count": null,
   "metadata": {},
   "outputs": [],
   "source": []
  },
  {
   "cell_type": "code",
   "execution_count": null,
   "metadata": {},
   "outputs": [],
   "source": []
  },
  {
   "cell_type": "markdown",
   "metadata": {},
   "source": [
    "# SET 6"
   ]
  },
  {
   "cell_type": "markdown",
   "metadata": {},
   "source": [
    "## Problem 6.1"
   ]
  },
  {
   "cell_type": "markdown",
   "metadata": {},
   "source": [
    "#### Identify and explain the differences between fission and fusion energy. Can fission and fusion work together? Why fusion may need fission?"
   ]
  },
  {
   "cell_type": "code",
   "execution_count": null,
   "metadata": {},
   "outputs": [],
   "source": []
  },
  {
   "cell_type": "markdown",
   "metadata": {},
   "source": [
    "## Problem 6.2"
   ]
  },
  {
   "cell_type": "markdown",
   "metadata": {},
   "source": [
    "#### Compare the solar (stellar) fusion cycle with the proposed \"terrestial\" solutions."
   ]
  },
  {
   "cell_type": "code",
   "execution_count": null,
   "metadata": {},
   "outputs": [],
   "source": []
  },
  {
   "cell_type": "markdown",
   "metadata": {},
   "source": [
    "## Problem 6.3"
   ]
  },
  {
   "cell_type": "markdown",
   "metadata": {},
   "source": [
    "#### Compare magnetic and inertial confinement fusion concepts. "
   ]
  },
  {
   "cell_type": "code",
   "execution_count": null,
   "metadata": {},
   "outputs": [],
   "source": []
  },
  {
   "cell_type": "markdown",
   "metadata": {},
   "source": [
    "## Problem 6.4"
   ]
  },
  {
   "cell_type": "markdown",
   "metadata": {},
   "source": [
    "#### Environmental aspects of energy from fusion."
   ]
  },
  {
   "cell_type": "code",
   "execution_count": null,
   "metadata": {},
   "outputs": [],
   "source": []
  }
 ],
 "metadata": {
  "kernelspec": {
   "display_name": "Python 3",
   "language": "python",
   "name": "python3"
  },
  "language_info": {
   "codemirror_mode": {
    "name": "ipython",
    "version": 3
   },
   "file_extension": ".py",
   "mimetype": "text/x-python",
   "name": "python",
   "nbconvert_exporter": "python",
   "pygments_lexer": "ipython3",
   "version": "3.8.5"
  }
 },
 "nbformat": 4,
 "nbformat_minor": 4
}
