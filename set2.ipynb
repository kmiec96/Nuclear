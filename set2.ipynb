{
 "cells": [
  {
   "cell_type": "code",
   "execution_count": 5,
   "metadata": {},
   "outputs": [],
   "source": [
    "from IPython.display import display, Markdown, Latex\n",
    "from decimal import Decimal\n",
    "import matplotlib.pyplot as plt\n",
    "import numpy as np\n",
    "import math as mt"
   ]
  },
  {
   "cell_type": "markdown",
   "metadata": {},
   "source": [
    "# Nuclear Energy Physics solutions (sets-4,5,6), copyright Mateusz Kmieć "
   ]
  },
  {
   "cell_type": "markdown",
   "metadata": {},
   "source": [
    "# SET 4"
   ]
  },
  {
   "cell_type": "markdown",
   "metadata": {},
   "source": [
    "## Problem 4.1"
   ]
  },
  {
   "cell_type": "markdown",
   "metadata": {},
   "source": [
    "#### Absorption of neutrons in the fuel, U-235 + U-238, leads in some cases to fission which gives new fast neutrons."
   ]
  },
  {
   "cell_type": "markdown",
   "metadata": {},
   "source": [
    "$\\textbf{Derive}$ the formula for $\\eta$, the effective number of fission neutrons per one neutron absorbed in fuel."
   ]
  },
  {
   "cell_type": "markdown",
   "metadata": {},
   "source": [
    "(1) $$\\eta=\\nu_{235}\\frac{e\\sigma_{f235}}{e\\left(\\sigma_{f}+\\sigma_{c}\\right)+(1-e)\\sigma_{a238}}.$$"
   ]
  },
  {
   "cell_type": "markdown",
   "metadata": {},
   "source": [
    "the enrichment $e$,\n",
    "\n",
    "(2) $$e=\\frac{N_{235}}{N_{235}+N_{238}}.$$"
   ]
  },
  {
   "cell_type": "markdown",
   "metadata": {},
   "source": [
    "$\\textbf{Deriviation}$ of formula (1) (so called thermal fission factor)."
   ]
  },
  {
   "cell_type": "markdown",
   "metadata": {},
   "source": [
    "First, let us make an assumption that the chain reaction is occuring in an infinitely large system.\n",
    "This assumption results in no neutron leakage, which indicates that the effective probability of chain reaction is governed only by the respective capture and fission cross-sections."
   ]
  },
  {
   "cell_type": "markdown",
   "metadata": {},
   "source": [
    "By definition thermal fission factor can be interpreted as:"
   ]
  },
  {
   "cell_type": "markdown",
   "metadata": {},
   "source": [
    "(3) $$\\eta=\\frac{\\text{number of fast neutrons produced by thermal fission}}{\\text{number of thermal neutrons absorbed in fuel}}.$$"
   ]
  },
  {
   "cell_type": "markdown",
   "metadata": {},
   "source": [
    "According to Chapter.9 of the book, written by WG, which shall not be named here, fission caused by thermal neutrons occurs only for $U^{235}$ nuclei in $U^{235}$+$U^{238}$ fuel. "
   ]
  },
  {
   "cell_type": "markdown",
   "metadata": {},
   "source": [
    "Consequently, thermal fission factor can be expressed as:\n",
    "    \n",
    "(4) $$\\eta=\\nu_{235}\\frac{\\text{number of thermal neutrons that fissioned}}{\\text{number of thermal neutrons absorbed in fuel}},$$\n",
    "\n",
    "where $\\nu_{235}$ denotes the number of neutrons produced per fisson of $U^{235}$ nuclei."
   ]
  },
  {
   "cell_type": "markdown",
   "metadata": {},
   "source": [
    "In the light of the aforementioned definitions, the number of thermal neutrons that fissioned can be expressed as a product of the uranium enrichement ($e$) and the cross-section for $U^{235}$ fission at $0.0253$ eV ($\\sigma_{f235}$). "
   ]
  },
  {
   "cell_type": "markdown",
   "metadata": {},
   "source": [
    "As far as the denominator of (4) is concerned it can be written as $e\\left(\\sigma_{f}+\\sigma_{c}\\right)_{235}+\\left(1-e\\right)\\sigma_{a238}$. At this point it is worth noting that $\\sigma_{a238}\\approx\\sigma_{c238}$ as fission for thermal neutrons is negligible for $U^{238}$."
   ]
  },
  {
   "cell_type": "markdown",
   "metadata": {},
   "source": [
    "Having found the number of thermal neutrons that fissioned and the number of thermal neutrons absorbed in fuel we can finally obtain equation (1) from equation (4)."
   ]
  },
  {
   "cell_type": "markdown",
   "metadata": {},
   "source": [
    "$\\textbf{QED}$"
   ]
  },
  {
   "cell_type": "markdown",
   "metadata": {},
   "source": [
    "a). $\\textbf{Study}$ how the fission factor depends on the enrichement and determine the value at an erichment of $0.7$, $1$, $2$ ,$3\\%$."
   ]
  },
  {
   "cell_type": "code",
   "execution_count": null,
   "metadata": {},
   "outputs": [],
   "source": [
    "nu=\n",
    "e=\n",
    "eta="
   ]
  },
  {
   "cell_type": "markdown",
   "metadata": {},
   "source": [
    "b). $\\textbf{Calculate}$ the value of the fission factor, for highly enriched uranium and plutonium fissioned by thermal and fast neutrons."
   ]
  },
  {
   "cell_type": "code",
   "execution_count": null,
   "metadata": {},
   "outputs": [],
   "source": []
  },
  {
   "cell_type": "markdown",
   "metadata": {},
   "source": [
    "# SET 5"
   ]
  },
  {
   "cell_type": "code",
   "execution_count": null,
   "metadata": {},
   "outputs": [],
   "source": []
  },
  {
   "cell_type": "code",
   "execution_count": null,
   "metadata": {},
   "outputs": [],
   "source": []
  },
  {
   "cell_type": "code",
   "execution_count": null,
   "metadata": {},
   "outputs": [],
   "source": []
  },
  {
   "cell_type": "code",
   "execution_count": null,
   "metadata": {},
   "outputs": [],
   "source": []
  },
  {
   "cell_type": "code",
   "execution_count": null,
   "metadata": {},
   "outputs": [],
   "source": []
  },
  {
   "cell_type": "markdown",
   "metadata": {},
   "source": [
    "# SET 6"
   ]
  },
  {
   "cell_type": "markdown",
   "metadata": {},
   "source": [
    "## Problem 6.1"
   ]
  },
  {
   "cell_type": "markdown",
   "metadata": {},
   "source": [
    "#### Identify and explain the differences between fission and fusion energy. Can fission and fusion work together? Why fusion may need fission?"
   ]
  },
  {
   "cell_type": "code",
   "execution_count": null,
   "metadata": {},
   "outputs": [],
   "source": []
  },
  {
   "cell_type": "markdown",
   "metadata": {},
   "source": [
    "## Problem 6.2"
   ]
  },
  {
   "cell_type": "markdown",
   "metadata": {},
   "source": [
    "#### Compare the solar (stellar) fusion cycle with the proposed \"terrestial\" solutions."
   ]
  },
  {
   "cell_type": "code",
   "execution_count": null,
   "metadata": {},
   "outputs": [],
   "source": []
  },
  {
   "cell_type": "markdown",
   "metadata": {},
   "source": [
    "## Problem 6.3"
   ]
  },
  {
   "cell_type": "markdown",
   "metadata": {},
   "source": [
    "#### Compare magnetic and inertial confinement fusion concepts. "
   ]
  },
  {
   "cell_type": "code",
   "execution_count": null,
   "metadata": {},
   "outputs": [],
   "source": []
  },
  {
   "cell_type": "markdown",
   "metadata": {},
   "source": [
    "## Problem 6.4"
   ]
  },
  {
   "cell_type": "markdown",
   "metadata": {},
   "source": [
    "#### Environmental aspects of energy from fusion."
   ]
  },
  {
   "cell_type": "code",
   "execution_count": null,
   "metadata": {},
   "outputs": [],
   "source": []
  }
 ],
 "metadata": {
  "kernelspec": {
   "display_name": "Python 3",
   "language": "python",
   "name": "python3"
  },
  "language_info": {
   "codemirror_mode": {
    "name": "ipython",
    "version": 3
   },
   "file_extension": ".py",
   "mimetype": "text/x-python",
   "name": "python",
   "nbconvert_exporter": "python",
   "pygments_lexer": "ipython3",
   "version": "3.8.5"
  }
 },
 "nbformat": 4,
 "nbformat_minor": 4
}
