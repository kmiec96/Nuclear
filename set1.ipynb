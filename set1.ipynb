{
 "cells": [
  {
   "cell_type": "code",
   "execution_count": 2,
   "metadata": {},
   "outputs": [],
   "source": [
    "from IPython.display import display, Markdown, Latex\n",
    "from decimal import Decimal\n",
    "import matplotlib.pyplot as plt\n",
    "import numpy as np\n",
    "import math as mt"
   ]
  },
  {
   "cell_type": "markdown",
   "metadata": {},
   "source": [
    "# Nuclear Energy Physics solutions, copyright Mateusz Rafał Kmieć\n",
    "\n",
    "_Those who can make you believe absurdities can make you commit atrocities. - Mikita Kojonkoski_\n"
   ]
  },
  {
   "cell_type": "markdown",
   "metadata": {},
   "source": [
    "\n",
    "Disclaimer: If you're viewing this notebook online (on github) the graphical representation of some formulas and graphics might be disfigured. In order to avoid these inconviniences please dowlnoad this notebook and open it in Jupyter."
   ]
  },
  {
   "cell_type": "markdown",
   "metadata": {},
   "source": [
    "# SET 1 "
   ]
  },
  {
   "cell_type": "markdown",
   "metadata": {},
   "source": [
    "## 1.How much fissile material has fissioned in the following events:"
   ]
  },
  {
   "cell_type": "markdown",
   "metadata": {},
   "source": [
    "#### Hiroshima bomb (Little Boy, Uranium bomb)-assumed yield 18kt TNT. $^{235}U$ weight of Little Boy-60kg."
   ]
  },
  {
   "cell_type": "markdown",
   "metadata": {},
   "source": [
    "######################################################################################################\n",
    "\n",
    "A.HOW MUCH ENERGY WAS RELEASED IN TOTAL?\n",
    "\n",
    "TNT equivalent is a convention for expressing energy,\n",
    "typically used to describe the energy released in an explosion. \n",
    "The ton of TNT is a unit of energy defined by that convention to be 4.184 GJ\n",
    "(source: https://en.wikipedia.org/wiki/TNT_equivalent). Consequently, one kilo ton of TNT\n",
    "corresponds to 4.184 TJ. 18 kt of TNT is the equivalent of $E_{explosion\\_Hiroshima}=75.312$ TJ.\n",
    "\n",
    "######################################################################################################\n",
    "\n",
    "B.HOW MUCH ENERGY CAN BE RELEASED FROM FISSION OF 1kg of $^{235}U$?\n",
    "\n",
    "The energy released from fission of one nucleus of $^{235}U$ is around 200MeV. \n",
    "\n",
    "200MeV is 3.2e-11J.\n",
    "\n",
    "A mole of U-235 has 235g.\n",
    "\n",
    "1g of uranium is 1/235th of a mole.\n",
    "\n",
    "1 mole = Avogadro’s number of atoms \n",
    "\n",
    "The energy obtained from one gram of U-235: 3.2e-11 J * (Avogadros number) / 235 $\\approx$ 82 GJ.\n",
    "\n",
    "1kg of $^{235}U$ is then the equivalent of roughly $82$ TJ.\n",
    "\n",
    "\n",
    "######################################################################################################\n",
    "\n",
    "C.HOW MUCH ENERGY WOULD BE RELEASED IF 60kg of $^{235}U$ FISSIONED?\n",
    "\n",
    "Given that $82$ TJ is released from 1kg, had 60 kg of $^{235}U$ fissioned, \n",
    "\n",
    "we should expect the released energy to be around $E_{released}=\\frac{60 kg\\cdot82TJ}{1kg}=4920$ TJ.\n",
    "\n",
    "#####################################################################################################\n",
    "\n",
    "D. WHAT IS THE RATIO OF THE MASS OF U-235 IN LITTLE BOY NUCLEAR BOMB TO THE FISSIONED MATERIAL DURING THE EXPLOSION IN HIROSHIMA?\n",
    "\n",
    "\n",
    "$\\frac{E_{explosion\\_Hiroshima}}{E_{released}} \\cdot 100\\% \\approx1.5\\%$\n",
    "\n",
    "This ratio is around $1.5\\%$.\n",
    "Less than 1kg of fissile material fissioned in the explosion.\n"
   ]
  },
  {
   "cell_type": "code",
   "execution_count": 70,
   "metadata": {},
   "outputs": [
    {
     "name": "stdout",
     "output_type": "stream",
     "text": [
      "Energy released from fission of one atom of U-235 200 MeV\n",
      "Energy released from fission of one atom of U-235 3.2e-11 J\n",
      "\n",
      "Energy released from fission of 1g of U-235 82 GJ.\n",
      "Energy released from fission of 1kg of U-235 82 TJ.\n",
      "Energy released during the explosion in Hiroshima: 75 TJ < 82 TJ - Energy released from fission of 1kg U-235.\n",
      "Less than 1kg of fissile material fissioned!\n"
     ]
    }
   ],
   "source": [
    "#Calculations\n",
    "dm=200\n",
    "dm_si=dm*pow(10,6)*1.6*pow(10,-19)\n",
    "Avogadro=6*pow(10,23)\n",
    "energy_gram=(dm_si*Avogadro/235)/pow(10,9)\n",
    "energy_kgram=(energy_gram*1000)/pow(10,3)\n",
    "\n",
    "print(\"Energy released from fission of one atom of U-235 {} MeV\".format(dm))\n",
    "print(\"Energy released from fission of one atom of U-235 {:.2g} J\".format(dm_si))\n",
    "print(\"\\nEnergy released from fission of 1g of U-235 {:.2g} GJ.\".format(energy_gram))\n",
    "print(\"Energy released from fission of 1kg of U-235 {:.2g} TJ.\".format(energy_kgram))\n",
    "print(\"Energy released during the explosion in Hiroshima: 75 TJ < {:.2g} TJ - Energy released from fission of 1kg U-235.\".format(energy_kgram))\n",
    "print(\"Less than 1kg of fissile material fissioned!\")"
   ]
  },
  {
   "cell_type": "markdown",
   "metadata": {},
   "source": [
    "## Nagasaki bomb (Fat Man)-assumed yield 21kt TNT.$^{238}Pu$ weight Fat Man 6.4kg."
   ]
  },
  {
   "cell_type": "markdown",
   "metadata": {},
   "source": [
    "######################################################################################################\n",
    "\n",
    "A.HOW MUCH ENERGY WAS RELEASED IN TOTAL?\n",
    "\n",
    "TNT equivalent is a convention for expressing energy,\n",
    "typically used to describe the energy released in an explosion. \n",
    "The ton of TNT is a unit of energy defined by that convention to be 4.184 GJ\n",
    "(source: https://en.wikipedia.org/wiki/TNT_equivalent). Consequently, one kilo ton of TNT\n",
    "corresponds to 4.184 TJ. 21 kt of TNT is the equivalent of $E_{explosion\\_Nagasaki}=87.864$ TJ.\n",
    "\n",
    "######################################################################################################\n",
    "\n",
    "B.HOW MUCH ENERGY CAN BE RELEASED FROM FISSION OF 1kg of $^{239}Pu$?\n",
    "\n",
    "The energy released from fission of one nucleus of $^{239}Pu$ is around 210MeV. \n",
    "\n",
    "210MeV is 3.36e-11J.\n",
    "\n",
    "A mole of Pu-239 has 239g.\n",
    "\n",
    "1g of uranium is 1/239th of a mole.\n",
    "\n",
    "1 mole = Avogadro’s number of atoms so 3.36e-11 J * (Avogadros number) / 239 $\\approx$ 84 GJ.\n",
    "\n",
    "1kg of $^{239}Pu$ is then the equivalent of roughly $84$ TJ.\n",
    "\n",
    "\n",
    "######################################################################################################\n",
    "\n",
    "C.HOW MUCH ENERGY WOULD BE RELEASED IF 6.4kg of $^{239}Pu$ FISSIONED?\n",
    "\n",
    "Given that $84$ TJ is released from 1kg, had 6.4 kg of $^{239}Pu$ fissioned, \n",
    "\n",
    "we should expect the released energy to be around $E_{released}=\\frac{6.4 kg\\cdot84 \\text{TJ}}{1kg}=537 \\text{TJ}$.\n",
    "\n",
    "#####################################################################################################\n",
    "\n",
    "D. WHAT IS THE RATIO OF THE MASS OF U-235 IN LITTLE BOY NUCLEAR BOMB TO THE FISSIONED MATERIAL DURING THE EXPLOSION IN HIROSHIMA?\n",
    "\n",
    "\n",
    "$\\frac{E_{explosion\\_Nagasaki}}{E_{released}} \\cdot 100\\% \\approx16\\%$\n",
    "\n",
    "This ratio is around $16\\%$.\n",
    "Less than 1kg of fissile material fissioned in the explosion.\n"
   ]
  },
  {
   "cell_type": "code",
   "execution_count": 38,
   "metadata": {},
   "outputs": [
    {
     "name": "stdout",
     "output_type": "stream",
     "text": [
      "Energy released from fission of one atom of Pu-239 200 MeV\n",
      "Energy released from fission of one atom of Pu-239 3.2e-11 J\n",
      "\n",
      "Energy released from fission of 1g of Pu-239 82 GJ.\n",
      "Energy released from fission of 1kg of Pu-239 82 TJ.\n"
     ]
    }
   ],
   "source": [
    "#Calculations\n",
    "dm=200\n",
    "dm_si=dm*pow(10,6)*1.6*pow(10,-19)\n",
    "Avogadro=6*pow(10,23)\n",
    "energy_gram=(dm_si*Avogadro/235)/pow(10,9)\n",
    "energy_kgram=(energy_gram*1000)/pow(10,3)\n",
    "\n",
    "print(\"Energy released from fission of one atom of Pu-239 {} MeV\".format(dm))\n",
    "print(\"Energy released from fission of one atom of Pu-239 {:.2g} J\".format(dm_si))\n",
    "print(\"\\nEnergy released from fission of 1g of Pu-239 {:.2g} GJ.\".format(energy_gram))\n",
    "print(\"Energy released from fission of 1kg of Pu-239 {:.2g} TJ.\".format(energy_kgram))"
   ]
  },
  {
   "cell_type": "markdown",
   "metadata": {},
   "source": [
    "## 1 Day of operation of 1GWel nuclear reactor. Assume that all energy comes fromfission of $^{235}U$."
   ]
  },
  {
   "cell_type": "markdown",
   "metadata": {},
   "source": [
    "I assume that thermal power is three times more than the electrical power: $E_{th}=3 \\cdot E_{el}$.\n",
    "\n",
    "Consequently, 1 Day of operation of this nuclear power reactor results in $E_{th}=3 GW \\cdot 24 h=72GWh$. \n",
    "\n",
    "1kg of $^{235}U$ provides $82TJ=22.7GWh$ of energy.\n",
    "\n",
    "In order to get $E_{th}=72GWh$ in a day, we need $\\frac{72GWh\\cdot1kg}{22.7GWh}\\approx3.2$ kg of $^{235}U$."
   ]
  },
  {
   "cell_type": "code",
   "execution_count": 61,
   "metadata": {},
   "outputs": [
    {
     "name": "stdout",
     "output_type": "stream",
     "text": [
      "hours 24 h\n",
      "Eel 1 GWelh\n",
      "Eth 3 GWh\n",
      "Eth_in_a_day 72 GWh\n",
      "We need to 'burn' 3.2 kg of U-235 per day to achieve 1 GWel.\n"
     ]
    }
   ],
   "source": [
    "hours=24\n",
    "Eel=1\n",
    "Eth=3*Eel\n",
    "Eth_in_a_day=Eth*hours\n",
    "\n",
    "E_from_one_kg_of_uranium=22.7\n",
    "\n",
    "print(\"hours {} h\".format(hours))\n",
    "print(\"Eel {} GWelh\".format(Eel))\n",
    "print(\"Eth {} GWh\".format(Eth))\n",
    "print(\"Eth_in_a_day {} GWh\".format(Eth_in_a_day))\n",
    "\n",
    "uranium_burned_daily=Eth_GWh/E_from_one_kg_of_uranium\n",
    "print(\"We need to 'burn' {:.2g} kg of U-235 per day to achieve {:.1g} GWel.\"\n",
    "      .format(uranium_burned_daily,Eth_in_a_day/72))\n"
   ]
  },
  {
   "cell_type": "markdown",
   "metadata": {},
   "source": [
    "## 2.How much of Trituim has fusioned in the following events (assume that all energy released came from the fusion reaction)."
   ]
  },
  {
   "cell_type": "markdown",
   "metadata": {},
   "source": [
    "In all of the paragraphs below I assume that all of energy comes from deuterium-tritium fusion process!\n",
    "\n",
    "$$^{2}_{1}H+^{3}_{1}H\\rightarrow ^{4}_{2}He+ ^{1}_{0}n$$\n",
    "\n",
    "In this porcess $\\frac{m_{deuterium}}{m_{tritium}}\\approx\\frac{2}{3}$.\n",
    "\n",
    "Fusion of one tritium and one deuerium releases $17.6MeV=2.8\\cdot10^{-12}J$.\n",
    "\n",
    "One mol of tritium atoms has 3g, while one mol of deuterium atoms has 2g.\n",
    "\n",
    "1g is $\\frac{1}{5}$ of (1 mol of tritrium + 1 mol of deuterium).\n",
    "\n",
    "Energy obtained from 1g of the mixture of tritium and deuterium is around: $\\frac{2.8\\cdot10^{-12}J\\cdot 6 \\cdot10^{23}}{5}=0.34 TJ$.\n",
    "\n",
    "1kg of this mixture is the equivalent of $E_{released\\_per\\_kilogram}=\\frac{1000 \\cdot 2.8\\cdot10^{-12}J\\cdot 6 \\cdot 10^{23}}{5}=340 TJ$.\n",
    "\n",
    "#############################################################################################\n",
    "\n",
    "A. HOW MUCH ENERGY WAS RELEASED DURING IVY MIKE EXPLOSION? HOW MUCH TRITIUM FUSSIONED?\n",
    "\n",
    "One mega ton of TNT corresponds to 4184 TJ. 10.4 Mt of TNT is the equivalent of $E_{explosion\\_Ivy\\_Mike}=43513TJ$.\n",
    "$$m_{tritium\\_fussioned\\_Ivy\\_Mike}=\\frac{2}{5}\\frac{E_{fussioned\\_Ivy\\_Mike}}{E_{released\\_per\\_kilogram}}\\cdot 1kg=51kg$$ .\n",
    "\n",
    "#############################################################################################\n",
    "\n",
    "B. HOW MUCH ENERGY WAS RELEASED DURING TSAR BOMBA EXPLOSION? HOW MUCH TRITIUM FUSSIONED?\n",
    "\n",
    "One mega ton of TNT corresponds to 4184 TJ. 58 Mt of TNT is the equivalent of $E_{explosion\\_Tsar\\_Bomba}=242672$ TJ.\n",
    "\n",
    "$$m_{tritium\\_fussioned\\_Tsar\\_Bomba}=\\frac{2}{5}\\frac{E_{fussioned\\_Tsar\\_Bomba}}{E_{released\\_per\\_kilogram}}\\cdot 1kg=285kg$$\n",
    "##############################################################################################\n",
    "\n",
    "C. HOW MUCH ENERGY WOULD BE PRODUCED IN ITER WITHIN ONE DAY? HOW MUCH TRITIUM WOULD FUSION?\n",
    "\n",
    "Energy produced by ITER within one day amounts to $E_{fussioned\\_ITER\\_one\\_day}=500MW \\cdot 24h=12 000MWh\\approx43TJ$.\n",
    "\n",
    "\n",
    "$$m_{tritium\\_fussioned\\_ITER\\_one\\_day}=\\frac{2}{5}\\frac{E_{fussioned\\_ITER\\_one\\_day}}{E_{released\\_per\\_kilogram}}=50g$$"
   ]
  },
  {
   "cell_type": "markdown",
   "metadata": {},
   "source": [
    "## 3. A spaceship with alien football fans (not hooligans) passes the earth at a speed of 0.8c and peeks at the end of the AIK match Champion's League. The cock at the stadium shows that there is one minute left to play. How long will the aliens see that the game is on?"
   ]
  },
  {
   "cell_type": "code",
   "execution_count": 3,
   "metadata": {},
   "outputs": [
    {
     "name": "stdout",
     "output_type": "stream",
     "text": [
      "They will see the final minute of the match for 0.6 minutes.\n",
      "It is going to be shorter to them.\n"
     ]
    }
   ],
   "source": [
    "c=1\n",
    "valiens=0.8*c\n",
    "gamma=(1/np.sqrt(1-pow((valiens/c),2)))\n",
    "tearth=1 #one minute\n",
    "\n",
    "taliens=(1/gamma)*tearth\n",
    "print(\"They will see the final minute of the match for {:.2g} minutes.\".format(taliens))\n",
    "print(\"It is going to be shorter to them.\")"
   ]
  },
  {
   "cell_type": "markdown",
   "metadata": {},
   "source": [
    "# SET 2"
   ]
  },
  {
   "cell_type": "markdown",
   "metadata": {},
   "source": [
    "# Atoms & nuclei"
   ]
  },
  {
   "cell_type": "markdown",
   "metadata": {},
   "source": [
    "## 1.1 Problem"
   ]
  },
  {
   "cell_type": "markdown",
   "metadata": {},
   "source": [
    "### A. Calculate the geometric area $\\sigma_{geom}$ of a nucleus (with mass numer $A$ and radius $R$), where:\n",
    "\n",
    "$$R=1.25\\cdot10^{-13}\\cdot A^{1/3} cm,$$\n",
    "$$\\sigma_{geom}=\\pi\\cdot 1.25^{2} \\cdot A^{2/3} \\cdot 10^{-26} cm^{2}.$$\n",
    "\n",
    "$^{4}He$(helium)\n",
    "\n",
    "$^{16}O$ (oxygen)\n",
    "\n",
    "$^{91}Zr$ (zirconium)\n",
    "\n",
    "$^{238}U$ (uranium)"
   ]
  },
  {
   "cell_type": "code",
   "execution_count": 120,
   "metadata": {},
   "outputs": [
    {
     "name": "stdout",
     "output_type": "stream",
     "text": [
      "Radius of helium nucleus    1.9843e-13 cm\n",
      "Radius of oxygen nucleus    3.1498e-13 cm\n",
      "Radius of zirconium nucleus 5.6224e-13 cm\n",
      "Radius of uranium nucleus   7.7464e-13 cm\n",
      "\n",
      "\n",
      "Geometric area of helium    1.2369e-25 cm^2 = 0.12369 b\n",
      "Geometric area of oxygen    3.1169e-25 cm^2 = 0.31169 b\n",
      "Geometric area of zirconium 9.9311e-25 cm^2 = 0.99311 b\n",
      "Geometeric area of uranium  1.8852e-24 cm^2 = 1.8852 b\n"
     ]
    }
   ],
   "source": [
    "AHe=4 #Atomic mass of helium.\n",
    "RHe=1.25*pow(10,-13)*pow(AHe,(1/3)) #Radius of helium.\n",
    "sigmaHe=np.pi*pow(1.25,2)*pow(AHe,(2/3))*pow(10,-26) #Geometric area of the nuclei\n",
    "\n",
    "AO=16  #Atomic mass of oxygen.\n",
    "RO=1.25*pow(10,-13)*pow(AO,(1/3))   #Radius of oxygen.\n",
    "sigmaO=np.pi*pow(1.25,2)*pow(AO,(2/3))*pow(10,-26) #Geometric area of the nuclei\n",
    "\n",
    "AZr=91 #Atomic mass of zirconium.\n",
    "RZr=1.25*pow(10,-13)*pow(AZr,(1/3)) #Radius of zirconium.\n",
    "sigmaZr=np.pi*pow(1.25,2)*pow(AZr,(2/3))*pow(10,-26) #Geometric area of the nuclei\n",
    "\n",
    "AU=238  #Atomic mass of uranium.\n",
    "RU=1.25*pow(10,-13)*pow(AU,(1/3))   #Radius of uranium.\n",
    "sigmaU=np.pi*pow(1.25,2)*pow(AU,(2/3))*pow(10,-26) #Geometric area of the nuclei\n",
    "\n",
    "print(\"Radius of helium nucleus    {:0.5g} cm\".format(RHe))\n",
    "print(\"Radius of oxygen nucleus    {:0.5g} cm\".format(RO))\n",
    "print(\"Radius of zirconium nucleus {:0.5g} cm\".format(RZr))\n",
    "print(\"Radius of uranium nucleus   {:0.5g} cm\".format(RU))\n",
    "print(\"\\n\")\n",
    "print(\"Geometric area of helium    {:0.5g} cm^2 = {:0.5g} b\".format(sigmaHe,sigmaHe/pow(10,-24)))\n",
    "print(\"Geometric area of oxygen    {:0.5g} cm^2 = {:0.5g} b\".format(sigmaO,sigmaO/pow(10,-24)))\n",
    "print(\"Geometric area of zirconium {:0.5g} cm^2 = {:0.5g} b\".format(sigmaZr,sigmaZr/pow(10,-24)))\n",
    "print(\"Geometeric area of uranium  {:0.5g} cm^2 = {:0.5g} b\".format(sigmaU,sigmaU/pow(10,-24)))"
   ]
  },
  {
   "cell_type": "markdown",
   "metadata": {},
   "source": [
    "### B. Calculate number density (n) of the uranium nuclei in reactor fuel ($UO_{2}$), which has $10.5\\frac{g}{cm^{3}}$ density.\n"
   ]
  },
  {
   "cell_type": "markdown",
   "metadata": {},
   "source": [
    "In one $cm^{3}$ there is $\\frac{238\\cdot 10.5}{238+32}g\\approx9g$ of uranium.\n",
    "\n",
    "In 1g of uranium there is $\\frac{1}{238}$th mol of uranium nuclei. \n",
    "\n",
    "In 1 mol there is Avogadro's number ($6.02\\cdot10^{23}$) of nuclei. \n",
    "\n",
    "Consequently, in 9g there must be $N=\\frac{9}{238}\\cdot6.02\\cdot10^{23}$ of uranium nuclei.\n",
    "\n",
    "Thus, the number density of uranium (n) is:\n",
    "\n",
    "\n",
    "\n",
    " $$n=\\frac{N}{1\\cdot cm^{3}} = 2.3 \\cdot 10^{22}\\frac{1}{cm^{3}}=0.04\\frac{mol}{cm^{3}}.$$"
   ]
  },
  {
   "cell_type": "markdown",
   "metadata": {},
   "source": [
    "Below geometric area and neutron corss-section for each of the four elements are compared.\n",
    "Data on neutron cross-section from: https://periodictable.com/Elements/092/data.html."
   ]
  },
  {
   "cell_type": "code",
   "execution_count": 134,
   "metadata": {},
   "outputs": [
    {
     "data": {
      "image/png": "[encoded data removed]",
      "text/plain": [
       "<Figure size 432x288 with 1 Axes>"
      ]
     },
     "metadata": {
      "needs_background": "light"
     },
     "output_type": "display_data"
    }
   ],
   "source": [
    "geometric_area=np.array([0.12369, 0.31169, 0.99311, 1.8852])\n",
    "neutron_cross_section=np.array([0.007, 0.00028, 0.184, 7.57])\n",
    "\n",
    "atomic_number=np.array([4,16,91,238])\n",
    "\n",
    "plt.plot(atomic_number, geometric_area,  zorder=1, label=\"geometric area\")\n",
    "plt.plot(atomic_number, neutron_cross_section, zorder=2, label=\"neutron cross-section\")\n",
    "plt.title('cross-sections vs geometric areas comparison')\n",
    "plt.xlabel(\"atomic number\")\n",
    "plt.ylabel(\"cross-section [barn]\")\n",
    "plt.legend()\n",
    "plt.show()"
   ]
  },
  {
   "cell_type": "markdown",
   "metadata": {},
   "source": [
    "According to Brittanica: \"The reaction cross section is usually not the same as the geometric cross-sectional area of the target nucleus or particle. The unit of reaction cross section is the barn (equal to $10^{−24}$ square cm).\n",
    "Values of cross sections depend on the energy of the bombarding particle and the kind of reaction.\".\n",
    "\n",
    "That is exactly what we observe in the case of the four chosen elements. However, there appears to be a weak positive correlation between the geometric area and cross sections."
   ]
  },
  {
   "cell_type": "markdown",
   "metadata": {},
   "source": [
    "## 1.2 Problem\n",
    "How many neutrons and protons are there in the nuclei of the following atoms?\n",
    "\n",
    "\n",
    "(Worringly simple, I might have misunderstood the problem)\n",
    "\n",
    "(a). $^{7}Li$  (neutrons=4, protons=3)\n",
    "\n",
    "(b). $^{24}Mg$ (neutrons=12, protons=12)\n",
    "\n",
    "(c). $^{135}Xe$ (neutrons=81, protons=54)\n",
    "\n",
    "(d). $^{209}Bi$ (neutrons=126, protons=83)\n",
    "\n",
    "(e). $^{222}Rn$ (neutrons=136, protons=86)"
   ]
  },
  {
   "cell_type": "markdown",
   "metadata": {},
   "source": [
    "## 1.3 Problem\n",
    "The atomic weight of $^{59}Co$ is 58.93319. How much times heavier is $^{59}Co$ than $^{12}C$?"
   ]
  },
  {
   "cell_type": "code",
   "execution_count": 127,
   "metadata": {},
   "outputs": [
    {
     "name": "stdout",
     "output_type": "stream",
     "text": [
      "Co-59 to C-12 ratio: 4.9\n",
      "Cobalt is roughly 5 times heavier than carbon!\n"
     ]
    }
   ],
   "source": [
    "#Worringly simple. I might have misunderstood the problem. \n",
    "mC12=12.0107\n",
    "mCo59=58.93319\n",
    "\n",
    "print(\"Co-59 to C-12 ratio: {:.2g}\".format(mCo59/mC12))\n",
    "print(\"Cobalt is roughly 5 times heavier than carbon!\")"
   ]
  },
  {
   "cell_type": "markdown",
   "metadata": {},
   "source": [
    "## 1.4 Problem\n",
    "When $H_{2}$ gas is formed from naturally occurring hydrogen, what percentages of the molecules have molecular weights of approximately 2, 3 and 4?\n",
    "\n",
    "$\\cdot$ Abundance of $^{1}H$, $\\gamma_{1}=0.99972$\n",
    "\n",
    "$\\cdot$ Abundance of $^{2}H$, $\\gamma_{2}=0.00028$"
   ]
  },
  {
   "cell_type": "markdown",
   "metadata": {},
   "source": [
    "In natural $H_{2}$ gas, there are three main types of molecules (HH, HD, DD) where $H$ marks light hydrogen $^{1}H$ and $D$ denotes $^{2}H$. HH - 2 molecular mass, HD - 3 molecular mass, DD - 4 molecular mass."
   ]
  },
  {
   "cell_type": "code",
   "execution_count": 8,
   "metadata": {},
   "outputs": [
    {
     "name": "stdout",
     "output_type": "stream",
     "text": [
      "Abundance of particles with molecular mass 2 (HH):99.94%\n",
      "Abundance of particles with molecular mass 3 (HD):0.05598%\n",
      "Abundance of particles with molecular mass 4 (DD):7.84e-06%\n"
     ]
    }
   ],
   "source": [
    "gamma1=0.99972\n",
    "gamma2=0.00028\n",
    "abundance_HH=gamma1*gamma1*100\n",
    "#abundance_HD=gamma1*gamma2*100 It may turn out that this should be this way I'm not sure?\n",
    "abundance_HD=(gamma1*gamma2+gamma2*gamma1)*100 \n",
    "#I'vs choosen this option - the order is not important (HD, DH no difference).\n",
    "abundance_DD=gamma2*gamma2*100\n",
    "\n",
    "print(\"Abundance of particles with molecular mass 2 (HH):{:.4g}%\".format(abundance_HH))\n",
    "print(\"Abundance of particles with molecular mass 3 (HD):{:.4g}%\".format(abundance_HD))\n",
    "print(\"Abundance of particles with molecular mass 4 (DD):{:.4g}%\".format(abundance_DD))"
   ]
  },
  {
   "cell_type": "markdown",
   "metadata": {},
   "source": [
    "If we compare the calculated abundances with their equivalents present in literature \n",
    "(https://hal.archives-ouvertes.fr/hal-02126255/document), we will see that the obtained values are \n",
    "of the same order of magnitude as the ones listed in TABLE 1 in the aforementioned article."
   ]
  },
  {
   "cell_type": "markdown",
   "metadata": {},
   "source": [
    "# Radioactivity"
   ]
  },
  {
   "cell_type": "markdown",
   "metadata": {},
   "source": [
    "## 2.1 Problem\n",
    "A sample of a radioactive material contains two milion of radioactive nuclei ($N_{0}$). Their half-life $t_{1/2}=60s$. \n",
    "How many nuclei remain after 30 seconds?\n",
    "\n",
    "$$N(t)=N_{0}\\left(\\frac{1}{2}\\right)^{t/t_{1/2}}$$"
   ]
  },
  {
   "cell_type": "code",
   "execution_count": 24,
   "metadata": {},
   "outputs": [
    {
     "name": "stdout",
     "output_type": "stream",
     "text": [
      "After 30s there remains ~1.4e+06 nuclei.\n",
      "More specifically 1414213 nuclei.\n"
     ]
    }
   ],
   "source": [
    "#Calculations\n",
    "\n",
    "N0=2*pow(10,6)\n",
    "t=30\n",
    "t_half_life=60\n",
    "N=N0*pow(0.5,(t/t_half_life))\n",
    "\n",
    "\n",
    "print(\"After 30s there remains ~{:.2g} nuclei.\".format(N))\n",
    "print(\"More specifically {} nuclei.\".format(mt.floor(N)))"
   ]
  },
  {
   "cell_type": "markdown",
   "metadata": {},
   "source": [
    "## 2.2 Problem\n",
    "The half-life of radon is 3.8 days. How long do we need to wait (in days) for the number of radon nuclei to be reduced to $1/16th$ of its initial value?"
   ]
  },
  {
   "cell_type": "code",
   "execution_count": 12,
   "metadata": {},
   "outputs": [
    {
     "name": "stdout",
     "output_type": "stream",
     "text": [
      "We need to wait for about 15.2 days for the number of radon nuclei to be reduced to 1/16th of the initial value!\n"
     ]
    }
   ],
   "source": [
    "t_half_life_radon=3.8\n",
    "N0=1\n",
    "N=(1/16)*N0\n",
    "\n",
    "t=(np.log(N/N0)/np.log(0.5))*t_half_life_radon\n",
    "\n",
    "print(\"We need to wait for about {:.4g} days for the number of radon nuclei to be reduced to 1/16th of the initial value!\".format(t))"
   ]
  },
  {
   "cell_type": "markdown",
   "metadata": {},
   "source": [
    "## 2.3 Problem\n",
    "How much energy is required to break up a $^{12}C$ nucleus into three $\\alpha$ particles."
   ]
  },
  {
   "cell_type": "code",
   "execution_count": 119,
   "metadata": {},
   "outputs": [
    {
     "name": "stdout",
     "output_type": "stream",
     "text": [
      "Reaction C-12->3 alpha is endothermic Q<0. We need to provide -6.7e-13 J of energy, which is -4.2 MeV.\n"
     ]
    }
   ],
   "source": [
    "mc12=12                            #mass of carbon nucleus in atomic mass units\n",
    "m_alpha= 4.0015                    #mass of alpha particle in atomic mass units.\n",
    "amu_to_kg_ratio=1.66*pow(10,-27)   #this is a transition constant from atomic mass units to kiligroms\n",
    "joule_to_eV_ratio=6.242*pow(10,18) #this is a transition constant from joules to electronovolts\n",
    "c2=3*3*pow(10,8)*pow(10,8)         #speed of light squared c^2\n",
    " \n",
    "Q=(mc12-3*m_alpha)*c2*amu_to_kg_ratio #Reaction heat\n",
    "\n",
    "if Q<0:\n",
    "    print(\"Reaction C-12->3 alpha is endothermic Q<0. We need to provide {:.2g} J of energy, which is {:.2g} MeV.\".format(Q,Q*joule_to_eV_ratio*pow(10,-6)))\n",
    "else:\n",
    "    print(\"Something's wrong\")"
   ]
  },
  {
   "cell_type": "markdown",
   "metadata": {},
   "source": [
    "## 2.4 Problem\n",
    "A sample of gold is exposed to a beam of neutrons, and the reaction \n",
    "\n",
    "$$^{197}Au+n\\rightarrow ^{198}Au+\\gamma$$ absorbs $10^{6}$ neutrons per second. $^{198}Au$ emits $\\beta$-particles and has a half life of 2.7 days. How many atoms of $^{198}Au$ are present after 2 days of continuous irradiation?"
   ]
  },
  {
   "cell_type": "markdown",
   "metadata": {},
   "source": [
    "(rate of change of Au-198 number) = (production of Au-198 number) - (rate of decay of Au-198 number)\n",
    "\n",
    "The above equation can be written more formally as:\n",
    "\n",
    "(1) $$\\frac{dN(t)}{dt}= P-\\lambda N(t),$$\n",
    "\n",
    "where $N$ is the number of Au-198, $P$ is the production rate of Au-198, $\\lambda$ is the decay constant of Au-198.\n",
    "\n",
    "Equation (1) can be solved using python ODE solving library (odeint) or analytically using the separation of variables method for instance. We can also deploy the integrating factor method but that would make as much sense as taking a sledgehammer to crack a nut!\n",
    "\n",
    "In this probelm I present both methods to demonstrate how the odeint package works. "
   ]
  },
  {
   "cell_type": "markdown",
   "metadata": {},
   "source": [
    "(2) $$\\frac{dN(t)}{dt}=P-\\lambda N(t)$$\n",
    "\n",
    "(3) $$\\frac{dN(t)}{P-\\lambda N(t)}= dt+C$$\n",
    "\n",
    "(4) $$\\frac{-1}{\\lambda}\\ln{\\left|P-\\lambda N(t)\\right|}=t+C$$\n",
    "\n",
    "(5) $$-P+\\lambda N(t)=Ce^{-\\lambda t}$$\n",
    "\n",
    "We know from the text that:\n",
    "\n",
    "(6) $$N(0)=0.$$\n",
    "\n",
    "Consequently, $C=\\frac{-P}{\\lambda}$.\n",
    "\n",
    "Finally,\n",
    "\n",
    "(7) $$N(t)=\\frac{-P}{\\lambda}e^{-\\lambda t}+\\frac{P}{\\lambda}.$$"
   ]
  },
  {
   "cell_type": "code",
   "execution_count": 26,
   "metadata": {},
   "outputs": [
    {
     "name": "stdout",
     "output_type": "stream",
     "text": [
      "(Analytical solution)\n",
      "The number of Au-198 atoms after two days of continuous irradiation amounts to 1.351e+11.\n"
     ]
    }
   ],
   "source": [
    "t=2*3600*24\n",
    "t12=2.7*3600*24\n",
    "lamb=np.log(2)/t12\n",
    "P=pow(10,6)\n",
    "\n",
    "N=(P/lamb)-np.exp(-1*t*lamb)*(P/lamb)\n",
    "print(\"(Analytical solution)\")\n",
    "print(\"The number of Au-198 atoms after two days of continuous irradiation amounts to {:.4g}.\".format(N))"
   ]
  },
  {
   "cell_type": "code",
   "execution_count": 33,
   "metadata": {},
   "outputs": [
    {
     "name": "stdout",
     "output_type": "stream",
     "text": [
      "(Numerical solution using scipy)\n",
      "The number of Au-198 atoms after two days of continuous irradiation amounts to 1.351e+11.\n"
     ]
    }
   ],
   "source": [
    "from scipy.integrate import odeint #ODE library\n",
    "\n",
    "N0 = 0                       #initial number of Au-198 atoms\n",
    "P = pow(10,6)                #number of absorbtions per second\n",
    "t12 = 2.7*3600*24            #half life of Au-198 in seconds\n",
    "lamb = np.log(2)/T           #decay coefficient\n",
    "\n",
    "def model(N,t):\n",
    "    dNdt = (-lamb*N+P)\n",
    "    return dNdt\n",
    "t = np.linspace(0,2*3600*24) #time window\n",
    "N = odeint(model,N0,t)       #result array\n",
    "\n",
    "print(\"(Numerical solution using scipy)\")\n",
    "print(\"The number of Au-198 atoms after two days of continuous irradiation amounts to {:.4g}.\".format(N[-1][0]))"
   ]
  },
  {
   "cell_type": "markdown",
   "metadata": {},
   "source": [
    "## 2.5 Problem\n",
    "A neutron decays into an electron, proton and antineutrino. Calculate the kinetic energy shared by the electron and the antineutrino."
   ]
  },
  {
   "cell_type": "code",
   "execution_count": 26,
   "metadata": {},
   "outputs": [
    {
     "name": "stdout",
     "output_type": "stream",
     "text": [
      "Reaction C-12->3 alpha is egzothermic Q>0. 2.1e-13 J (1.3 MeV) of energy is released\n",
      "in the form of kinetic energy shared by electron and antineutrino.\n"
     ]
    }
   ],
   "source": [
    "mn=1.0087                          #mass of nutrons in atomic mass units\n",
    "mp=1.0073                          #mass of protons in atomic mass units\n",
    "amu_to_kg_ratio=1.66*pow(10,-27)   #this is a transition constant from atomic mass units to kiligroms\n",
    "c2=3*3*pow(10,8)*pow(10,8)         #speed of light squared c^2\n",
    "\n",
    "#Anti-neutrino mass < 10^{-37} kg and so we can neglect anti-neutrino's mass in our calculations.\n",
    "\n",
    "Q=(mn-mp)*c2*amu_to_kg_ratio #reaction heat\n",
    "\n",
    "if Q>0:\n",
    "    print(\"Reaction C-12->3 alpha is egzothermic Q>0. {:.2g} J ({:.2g} MeV) of energy is released\\nin the form of kinetic energy shared by electron and antineutrino.\".format(Q,Q*joule_to_eV_ratio*pow(10,-6)))\n",
    "else:\n",
    "    print(\"Something's wrong\")"
   ]
  },
  {
   "cell_type": "markdown",
   "metadata": {},
   "source": [
    "## 2.6 Probelm\n",
    "There are $N_{0}=10^{26}$, $^{238}U$ nuclei in a sample.\n",
    "\n",
    "What is the number of uranium nuclei remaining in the sample after $10^{8}$ years if the decay rate per nucleus, $\\lambda$, is $5\\cdot10^{-18}s^{-1}$?"
   ]
  },
  {
   "cell_type": "markdown",
   "metadata": {},
   "source": [
    "$$N(t)=N_{0}e^{-\\lambda t}$$"
   ]
  },
  {
   "cell_type": "code",
   "execution_count": 80,
   "metadata": {},
   "outputs": [
    {
     "name": "stdout",
     "output_type": "stream",
     "text": [
      "After 1e+08 years there is 9.8e+25 nuclei left.\n"
     ]
    }
   ],
   "source": [
    "N0=pow(10,26)\n",
    "lamb=5*pow(10,-18)\n",
    "t=pow(10,8)*365*24*3600     #in seconds \n",
    "\n",
    "years=pow(10,8)\n",
    "N=N0*np.exp(-1*lamb*t)\n",
    "\n",
    "print(\"After {:2g} years there is {:.2g} nuclei left.\".format(years,N))"
   ]
  },
  {
   "cell_type": "markdown",
   "metadata": {},
   "source": [
    "# SET3"
   ]
  },
  {
   "cell_type": "markdown",
   "metadata": {},
   "source": [
    "## 3.1 Problem\n",
    "\n",
    "As of early 1981, approximately 15000000 liters (1500 $m^{3}$) of radioactive water were located in the basement of the cantainment building of the Three Mile Island Unit 2 nuclear plant. One of the principal sources of this radioactivity was $^{137}Cs$ measured at $156\\mu Ci/cm^{3}$. Calculate how many atoms per $cm^{3}$ of this radionuclide were in the water at that time? The half-life of $^{137}Cs$ is 30 years."
   ]
  },
  {
   "cell_type": "markdown",
   "metadata": {},
   "source": [
    "Radioactivity can be expressed as:\n",
    "$$\\alpha = \\lambda n(t),$$\n",
    "where $\\lambda$ is the decay constant, $n(t)$ is the number of nuclei that still remains and has not yet decayed after time t.\n",
    "\n",
    "$\\lambda$ can be expressed in terms of half-life:\n",
    "$$\\lambda=\\frac{\\ln(2)}{t_{1/2}}.$$\n",
    "Consequently, in order obtain $n(0)$, which denotes the number of atoms per $cm^{3}$ in the radioactive water in 1981, we need to calculate:\n",
    "$$n(0)=\\frac{\\alpha}{\\ln(2)}t_{1/2}.$$"
   ]
  },
  {
   "cell_type": "code",
   "execution_count": 30,
   "metadata": {},
   "outputs": [
    {
     "name": "stdout",
     "output_type": "stream",
     "text": [
      "In 1981 there were 7.878e+15 atoms per cm^3 of radioactive water.\n"
     ]
    }
   ],
   "source": [
    "alpha=156*pow(10,-6)*3.7*pow(10,10)    #radioactivity in [desintegrations/s*cm^3]=3.7*10^10[Ci/cm^3]\n",
    "t12=30*365*24*3600                  #half-life in seconds\n",
    "n0=(alpha/np.log(2))*t12\n",
    "print(\"In 1981 there were {:.4g} atoms per cm^3 of radioactive water.\".format(n0))"
   ]
  },
  {
   "cell_type": "markdown",
   "metadata": {},
   "source": [
    "## 3.2 Problem"
   ]
  },
  {
   "cell_type": "markdown",
   "metadata": {},
   "source": [
    "Isotope A decays to form Isotope B in a radioactive decay chain. \n",
    "Plot the relative quantities of A and B over a period of 100 hours for the following three cases:\n",
    "    \n",
    "(a). Half-life of A=25 hrs, half-life of B=4 hrs,\n",
    "\n",
    "(b). Half-life of A=10 hrs, half-life of B=10 hrs,\n",
    "\n",
    "(c). Half-life of A=4 hrs, half-life of B=25 hrs."
   ]
  },
  {
   "cell_type": "markdown",
   "metadata": {},
   "source": [
    "First of all let's notice that:"
   ]
  },
  {
   "cell_type": "markdown",
   "metadata": {},
   "source": [
    "$$(\\text{rate of change of B nuclei number})=(\\text{rate of B production})-(\\text{rate of B decay}).$$"
   ]
  },
  {
   "cell_type": "markdown",
   "metadata": {},
   "source": [
    "Which can be formally written as:\n",
    "\n",
    "(1) $$\\frac{dN_{B}(t)}{dt}=\\lambda_{A}N_{A}(t)-\\lambda_{B}N_{B}(t),$$\n",
    "\n",
    "where $N_{A}(t), N_{B}(t)$ are the numbers of the respective isotope nuclei.\n",
    "\n",
    "The aforementioned expression can be rearranged leading to the following form:\n",
    "\n",
    "(2) $$dN_{B}(t)+\\lambda_{B}N_{B}(t)dt=\\lambda_{A}N_{A}(t)dt.$$\n",
    "Remembering that:\n",
    "\n",
    "(3) $$N_{A}(t)=N^{0}_{A}e^{-\\lambda_{A}t},$$\n",
    "\n",
    "we end up with:\n",
    "\n",
    "(4) $$dN_{B}(t)+\\lambda_{B}N_{B}(t)dt=\\lambda_{A}N^{0}_{A}e^{\\lambda_{A}t}dt.$$\n",
    "\n",
    "The first order differential equation above can be solved using the method of integrationg factors\n",
    "\n",
    "(http://oregonstate.edu/instruct/ch374/ch418518/Chapter%203.pdf).\n",
    "\n",
    "If we multiply both sides of (4) by $e^{\\lambda_{B}t}$ we will obtian:\n",
    "\n",
    "(5)$$d\\left(N_{B}(t)e^{\\lambda_{B}t}\\right)=e^{\\lambda_{B}t}dN_{B}(t)+\\lambda_{B}N_{B}(t)e^{\\lambda_{B}t}=\\lambda_{A}N^{0}_{A}e^{\\lambda_{B}t-\\lambda_{A}t}dt.$$\n",
    "\n",
    "\n",
    "After integrating equation (5) from t=0 to t=t and rearranging terms, we have:\n",
    "\n",
    "(6)$$N_{B}(t)=\\frac{\\lambda_{A}}{\\lambda_{A}-\\lambda_{B}}N^{0}_{A}\\left(e^{-\\lambda_{A}t}-e^{-\\lambda_{B}t}\\right)+N^{0}_{B}e^{-\\lambda_{B}t}.$$\n",
    "\n",
    "We can now use (3) and (6) to write the relative quantity of $A$ and $B$ isotopes in time, we have:\n",
    "\n",
    "(7)$$\\frac{N_{B}(t)}{N_{A}(t)}=\\frac{\\frac{\\lambda_{A}}{\\lambda_{A}-\\lambda_{B}}N^{0}_{A}\\left(e^{-\\lambda_{A}t}-e^{-\\lambda_{B}t}\\right)+N^{0}_{B}e^{-\\lambda_{B}t}}{\\lambda_{A}N^{0}_{A}e^{-\\lambda_{A}t}}$$\n",
    "\n",
    "We know that at the beginning $N_{B}(0) = N^{0}_{B}=0$, and so:\n",
    "\n",
    "(8)$$\\frac{N_{B}(t)}{N_{A}(t)}=\\frac{\\frac{\\lambda_{A}}{\\lambda_{A}-\\lambda_{B}}\\left(e^{-\\lambda_{A}t}-e^{-\\lambda_{B}t}\\right)}{\\lambda_{A}e^{-\\lambda_{A}t}}.$$\n",
    "\n",
    "Decay rates $\\lambda$ can be easily calculated using half-lifes of the respective isotopes $\\lambda=\\frac{\\ln(2)}{t_{1/2}}$.\n",
    "\n",
    "The final formula expressing the relative number of B nuclei to the number of A nuclei in time $k(t)$\n",
    "can be therefore written as:\n",
    "\n",
    "(9)$$k(t)=\\frac{N_{B}}{N_{A}}(t)=\\frac{t_{B}\\cdot t_{A}}{\\left(t_{A}-t_{B}\\right)\\ln(2)}\\left[1-\\left(\\frac{1}{2}\\right)^{\\frac{t}{t_{B}}-\\frac{t}{t_{A}}}\\right],$$\n",
    "\n",
    "where $t_{A}$, $t_{B}$ are the half-lifes of isotopes A and B.\n",
    "\n"
   ]
  },
  {
   "cell_type": "code",
   "execution_count": 103,
   "metadata": {},
   "outputs": [],
   "source": [
    "#Function (3)/NAO\n",
    "def NA(tA, t):\n",
    "    return np.exp(-1*(np.log(2)/tA)*t)\n",
    "\n",
    "#Function (6)/NA0\n",
    "def NB(tA,tB,t):\n",
    "    return (tB/(tA-tB))*(np.exp(-1*(np.log(2)/tA)*t)-np.exp(-1*(np.log(2)/tB)*t))\n",
    "\n",
    "#Function (9) python definition\n",
    "def k(tA,tB,t):\n",
    "    return ((tB*tA)/((tA-tB)*np.log(2)))*(1-pow(0.5,(((tA-tB)/(tB*tA))*t)))"
   ]
  },
  {
   "cell_type": "code",
   "execution_count": 107,
   "metadata": {},
   "outputs": [
    {
     "data": {
      "image/png": "[encoded data removed]",
      "text/plain": [
       "<Figure size 1440x720 with 4 Axes>"
      ]
     },
     "metadata": {
      "needs_background": "light"
     },
     "output_type": "display_data"
    }
   ],
   "source": [
    "#a).\n",
    "tmax=100  #max time 100 hours\n",
    "tA=25    #half-life 25  hours\n",
    "tB=4     #half-life 4 hours\n",
    "t=np.arange(0, tmax, 0.01)\n",
    "\n",
    "fig, ((ax1, ax2), (ax3, ax4)) = plt.subplots(2, 2, figsize=(20, 10))\n",
    "\n",
    "ax1.plot(t, NA(tA,t), color='b', label=r\"$NA(t)/N^{0}_{A}$\")\n",
    "ax1.plot(t, NB(tA,tB,t), color='r', label=r\"$NB(t)/N^{0}_{A}$\")\n",
    "ax1.set_title('Number of nuclei')\n",
    "ax1.legend()\n",
    "ax1.set_xlabel(\"t[h]\")\n",
    "ax1.set_ylabel(r\"$N(t)/N^{0}_{A}$\")\n",
    "\n",
    "ax2.plot(t, k(tA,tB,t),color='g', label=\"k(t)\")\n",
    "ax2.set_title('Relative number of nuclei B/A.')\n",
    "ax2.legend()\n",
    "ax2.set_xlabel(\"t[h]\")\n",
    "ax2.set_ylabel(\"k(t)\")\n",
    "\n",
    "ax3.plot(t, NA(tA,t), color='b', label=r\"$NA(t)/N^{0}_{A}$\")\n",
    "ax3.plot(t, NB(tA,tB,t), color='r', label=r\"$NB(t)/N^{0}_{A}$\")\n",
    "ax3.set_title('Number of nuclei (log scale)')\n",
    "ax3.legend()\n",
    "ax3.set_xlabel(\"t[h]\")\n",
    "ax3.set_ylabel(r\"$N(t)/N^{0}_{A}$\")\n",
    "ax3.set_yscale(\"log\")\n",
    "\n",
    "ax4.plot(t, k(tA,tB,t),color='g', label=\"k(t)\")\n",
    "ax4.set_title('Relative number of nuclei B/A (log scale)')\n",
    "ax4.legend()\n",
    "ax4.set_xlabel(\"t[h]\")\n",
    "ax4.set_ylabel(\"k(t)\")\n",
    "ax4.set_yscale(\"log\")\n",
    "\n",
    "\n",
    "plt.show()"
   ]
  },
  {
   "cell_type": "code",
   "execution_count": 115,
   "metadata": {},
   "outputs": [
    {
     "data": {
      "image/png": "[encoded data removed]",
      "text/plain": [
       "<Figure size 360x360 with 1 Axes>"
      ]
     },
     "metadata": {
      "needs_background": "light"
     },
     "output_type": "display_data"
    },
    {
     "name": "stdout",
     "output_type": "stream",
     "text": [
      "In this case N_{B}=0 so there is no point in printing k(t).\n",
      "The decay and production rate for B isotope are the same and there is no net production of B nuclei.\n"
     ]
    }
   ],
   "source": [
    "#b). \n",
    "tmax=100 #max time 100 hours\n",
    "tA=10    #half-life 10 hours\n",
    "tB=10    #half-life 10 hours\n",
    "\n",
    "t=np.arange(0,tmax,0.01)\n",
    "Nb=np.arange(0,tmax,0.01)*0 \n",
    "#Nb is constantly 0. There is no net production of B,\n",
    "#as there is the same decay and production rates.\n",
    "\n",
    "fig, ax = plt.subplots(1, 1,figsize=(5, 5))\n",
    "\n",
    "ax.plot(t, NA(tA,t),color='b', label=r\"$N_{A}(t)/N^{0}_{A}$\")\n",
    "ax.plot(t, Nb, color='r', label=r\"$N_{B}(t)/N^{0}_{A}$\")\n",
    "ax.set_title('Number of nuclei')\n",
    "ax.legend()\n",
    "ax.set_xlabel(\"t[h]\")\n",
    "ax.set_ylabel(r\"$N(t)/N^{0}_{A}$\")\n",
    "\n",
    "plt.show()\n",
    "\n",
    "print(\"In this case N_{B}=0 so there is no point in printing k(t).\")\n",
    "print(\"The decay and production rate for B isotope are the same and there is no net production of B nuclei.\")"
   ]
  },
  {
   "cell_type": "code",
   "execution_count": 99,
   "metadata": {},
   "outputs": [
    {
     "data": {
      "image/png": "[encoded data removed]",
      "text/plain": [
       "<Figure size 1440x720 with 4 Axes>"
      ]
     },
     "metadata": {
      "needs_background": "light"
     },
     "output_type": "display_data"
    }
   ],
   "source": [
    "#c).\n",
    "\n",
    "tmax=100  #max time 100 hours\n",
    "tA=4      #half-life 4  hours\n",
    "tB=25     #half-life 25 hours\n",
    "t=np.arange(0, tmax, 0.01)\n",
    "\n",
    "fig, ((ax1, ax2), (ax3, ax4)) = plt.subplots(2, 2, figsize=(20, 10))\n",
    "\n",
    "ax1.plot(t, NA(tA,t), color='b', label=r\"$NA(t)/N^{0}_{A}$\")\n",
    "ax1.plot(t, NB(tA,tB,t), color='r', label=r\"$NB(t)/N^{0}_{A}$\")\n",
    "ax1.set_title('Number of nuclei')\n",
    "ax1.legend()\n",
    "ax1.set_xlabel(\"t[h]\")\n",
    "ax1.set_ylabel(r\"$N(t)/N^{0}_{A}$\")\n",
    "\n",
    "ax2.plot(t, k(tA,tB,t),color='g', label=\"k(t)\")\n",
    "ax2.set_title('Relative number of nuclei B/A.')\n",
    "ax2.legend()\n",
    "ax2.set_xlabel(\"t[h]\")\n",
    "ax2.set_ylabel(\"k(t)\")\n",
    "\n",
    "ax3.plot(t, NA(tA,t), color='b', label=r\"$NA(t)/N^{0}_{A}$\")\n",
    "ax3.plot(t, NB(tA,tB,t), color='r', label=r\"$NB(t)/N^{0}_{A}$\")\n",
    "ax3.set_title('Number of nuclei (log scale)')\n",
    "ax3.legend()\n",
    "ax3.set_xlabel(\"t[h]\")\n",
    "ax3.set_ylabel(r\"$N(t)/N^{0}_{A}$\")\n",
    "ax3.set_yscale(\"log\")\n",
    "\n",
    "ax4.plot(t, k(tA,tB,t),color='g', label=\"k(t)\")\n",
    "ax4.set_title('Relative number of nuclei B/A (log scale)')\n",
    "ax4.legend()\n",
    "ax4.set_xlabel(\"t[h]\")\n",
    "ax4.set_ylabel(\"k(t)\")\n",
    "ax4.set_yscale(\"log\")\n",
    "\n",
    "\n",
    "plt.show()"
   ]
  },
  {
   "cell_type": "markdown",
   "metadata": {},
   "source": [
    "## 3.3 Problem\n",
    "Two beams of 1-eV neutrons intersect at an angle of $90^{\\circ}$. The density of neutrons in both beams is $2\\cdot10^{8}n/cm^{3}$.\n",
    "\n",
    "(a) Calculate the intensity of each beam.\n",
    "\n",
    "(b) What is the neutron flux where the beam intersect?"
   ]
  },
  {
   "cell_type": "code",
   "execution_count": 42,
   "metadata": {},
   "outputs": [
    {
     "name": "stdout",
     "output_type": "stream",
     "text": [
      "The intensity of these beams equals I=I1=I2=2.767e+14 [n/cm^2*s].\n",
      "The neutron flux equals Phi=5.533e+14 [n/cm^2*s].\n"
     ]
    }
   ],
   "source": [
    "#(a)\n",
    "mn=1.0087                                  #mass of nutrons in atomic mass units\n",
    "amu_to_kg_ratio=1.66*pow(10,-27)           #this is a transition constant from atomic mass units to kiligroms\n",
    "n=2*pow(10,8)                              #density of neutrons n/cm^3\n",
    "En=1*1.60218*pow(10,-19)                   #neutron energy in Joules\n",
    "\n",
    "vn=np.sqrt(2*En/(mn*amu_to_kg_ratio))*100  #neutron velocity cm/s\n",
    "I=n*vn                                     #intensity n/(cm^2*s)#\n",
    "\n",
    "#(b)\n",
    "Phi=2*I                                    #Flux I*dot(normal to surface,v1)+dot(normal to surface,v2)=2I\n",
    "                                           #since v1=v2=v and they are mutually perpendicular.\n",
    "\n",
    "print(\"The intensity of these beams equals I=I1=I2={:.4g} [n/cm^2*s].\".format(I))\n",
    "print(\"The neutron flux equals Phi={:.4g} [n/cm^2*s].\".format(Phi))"
   ]
  },
  {
   "cell_type": "markdown",
   "metadata": {},
   "source": [
    "## 3.4 Problem\n",
    "A monoenergetic beam of neutrons, $4\\cdot10^{10}\\frac{n}{s cm^{2}}$, impinges on a target with $1cm^{2}$ of surface and $0.1cm$ thickness. There are $0.048\\cdot10^{24}$ atoms per $cm^{3}$ in the target and the total cross-section at the energy of the beam is $4.5b$.\n",
    "\n",
    "(a). What is the macroscopic cross-section?\n",
    "\n",
    "(b). What is the collision density (collision rate)?\n",
    "\n",
    "(c). How many neutron interactions per second occur in the target? \n"
   ]
  },
  {
   "cell_type": "code",
   "execution_count": 126,
   "metadata": {},
   "outputs": [
    {
     "name": "stdout",
     "output_type": "stream",
     "text": [
      "(a) Macroscopic cross-section = 0.216 [n/cm]\n",
      "(b) Collision rate = 8.64e+09 [n/cm^3*s]\n",
      "(c) Number of interactions per second = 8.64e+08 [n/s]\n"
     ]
    }
   ],
   "source": [
    "#Notation inspired by that presented during the 4th lecture.\n",
    "\n",
    "NB=0.048*pow(10,24)                  #density of atoms in the target [n/cm^3]\n",
    "sigma= 4.5*pow(10,-24)               #cross-section neutron-nucleon collision [cm^2]\n",
    "A=1                                  #area of the analysed beam [cm^2]\n",
    "X=0.1                                #target thickness [cm] \n",
    "I=4*pow(10,10)                       #intensity [n/cm^2*s]\n",
    "\n",
    "#(a) Macroscopic cross section\n",
    "Macroscopic=NB*sigma\n",
    "print(\"(a) Macroscopic cross-section = {:.4g} [n/cm]\".format(Macroscopic))\n",
    "\n",
    "#(b) Collision rate (collision desity)\n",
    "collision_rate=NB*sigma*I\n",
    "print(\"(b) Collision rate = {:.4g} [n/cm^3*s]\".format(collision_rate))\n",
    "\n",
    "#(c) Number of neutron interactions per second\n",
    "interactions_per_second=NB*sigma*I*A*X\n",
    "print(\"(c) Number of interactions per second = {:.4g} [n/s]\".format(interactions_per_second))"
   ]
  },
  {
   "cell_type": "markdown",
   "metadata": {},
   "source": [
    "## 3.5 Problem\n",
    "A beam of 2 MeV neutrons is incident on a slab of heavy water ($D_{2}O$).\n",
    "The total cross section of deuterium and oxygen at this energy are $2.6b$ and $1.6b$, respectively.\n",
    "\n",
    "(a). What is the macroscopic total cross-section of heavy water at 2MeV?\n",
    "\n",
    "(b). How thick must be the slab to reduce the intensity of the uncollided beam by a factor of 10?\n",
    "\n",
    "(c). If an incident neutron has a collision in the slab, what is the relative probabilty that it collides with deuterium.\n",
    "\n"
   ]
  },
  {
   "cell_type": "code",
   "execution_count": 128,
   "metadata": {},
   "outputs": [
    {
     "name": "stdout",
     "output_type": "stream",
     "text": [
      "(a) Macroscopic cross-section = 0.2269 [n/cm]\n",
      "(b) Slab thickness required to reduce intensity by the factor of 10 = 10.15 [n/cm].\n",
      "(c) Relative probability that a neutron colliding in a slab collides with deuteron = 0.7647.\n"
     ]
    }
   ],
   "source": [
    "rho=1.11                                    #density of heavy water [g/cm^3]\n",
    "M=20.0276                                   #molar mass of heavy water [g/mol]\n",
    "NB=6.02*pow(10,23)*(rho/M)                  #density of nuclei in heavy water\n",
    "\n",
    "sigmaD=2.6*pow(10,-24)                      #cross-section neutron-nucleon collision [cm^2]\n",
    "sigmaO=1.6*pow(10,-24)   \n",
    "sigma=(2*sigmaD+sigmaO)   \n",
    "\n",
    "#(a) Macroscopic cross section\n",
    "Macroscopic=NB*sigma\n",
    "print(\"(a) Macroscopic cross-section = {:.4g} [n/cm]\".format(Macroscopic))\n",
    "\n",
    "#(b) Slab thickness required to reduce intensity by the factor of 10.\n",
    "x=(np.log(10)/(sigma*NB))\n",
    "print(\"(b) Slab thickness required to reduce intensity by the factor of 10 = {:.4g} [n/cm].\".format(x))\n",
    "\n",
    "#(c) \n",
    "Probability=2*sigmaD/(sigma)\n",
    "print(\"(c) Relative probability that a neutron colliding in a slab collides with deuteron = {:.4g}.\".format(Probability))"
   ]
  },
  {
   "cell_type": "markdown",
   "metadata": {},
   "source": [
    "# NUCLEAR FISSION PROBLEMS"
   ]
  },
  {
   "cell_type": "markdown",
   "metadata": {},
   "source": [
    "## 3.6 Problems"
   ]
  },
  {
   "cell_type": "markdown",
   "metadata": {},
   "source": [
    " What is the binding energy of the nucleus of $^{4}He$?"
   ]
  },
  {
   "cell_type": "code",
   "execution_count": 124,
   "metadata": {},
   "outputs": [
    {
     "name": "stdout",
     "output_type": "stream",
     "text": [
      "Binding energy of an alpha particle: -0.0305 J (-1.904e+11 MeV).\n"
     ]
    }
   ],
   "source": [
    "mn=1.0087                          #mass of nutrons in atomic mass units\n",
    "mp=1.0073                          #mass of protons in atomic mass units\n",
    "m_alpha= 4.0015                    #mass of alpha particle in atomic mass units.\n",
    "amu_to_kg_ratio=1.66*pow(10,-27)   #this is a transition constant from atomic mass units to kiligroms\n",
    "c2=3*3*pow(10,8)*pow(10,8)         #speed of light squared c^2\n",
    "joule_to_eV_ratio=6.242*pow(10,18) #this is a transition constant from joules to electronovolts\n",
    "\n",
    "\n",
    "Binding=(m_alpha-2*(mn+mp))\n",
    "print(\"Binding energy of an alpha particle: {:.4g} J ({:.4g} MeV).\".format(Binding,Binding*joule_to_eV_ratio/pow(10,6)))"
   ]
  },
  {
   "cell_type": "markdown",
   "metadata": {},
   "source": [
    "## 3.7 Problems"
   ]
  },
  {
   "cell_type": "markdown",
   "metadata": {},
   "source": [
    "Consider the fusion reaction in which two deuterium nuclei are combined to form a helium nucleus, $^{2}H+^{2}H\\rightarrow^{4}He$. Calculate the energy released."
   ]
  },
  {
   "cell_type": "code",
   "execution_count": 123,
   "metadata": {},
   "outputs": [
    {
     "name": "stdout",
     "output_type": "stream",
     "text": [
      "Binding energy of an alpha particle: -0.0305 J (-1.904e+11 MeV).\n",
      "Reaction C-12 -> 3-alpha is egzothermic Q>0. 3.8e-12 J (24 MeV) of energy is released.\n"
     ]
    }
   ],
   "source": [
    "m_alpha= 4.0015                    #mass of alpha particle in atomic mass units.\n",
    "m_deuteron= 2.0135                 #mass of deuteron in atomic mass units.\n",
    "amu_to_kg_ratio=1.66*pow(10,-27)   #this is a transition constant from atomic mass units to kiligroms\n",
    "c2=3*3*pow(10,8)*pow(10,8)         #speed of light squared c^2\n",
    "joule_to_eV_ratio=6.242*pow(10,18) #this is a transition constant from joules to electronovolts\n",
    "\n",
    "dm=(2*m_deuteron-m_alpha)\n",
    "\n",
    "print(\"Binding energy of an alpha particle: {:.4g} J ({:.4g} MeV).\".format(Binding,Binding*joule_to_eV_ratio/pow(10,6)))\n",
    "\n",
    "Q=dm*c2*amu_to_kg_ratio #reaction heat\n",
    "\n",
    "if Q>0:\n",
    "    print(\"Reaction C-12 -> 3-alpha is egzothermic Q>0. {:.2g} J ({:.2g} MeV) of energy is released.\".format(Q,Q*joule_to_eV_ratio*pow(10,-6)))\n",
    "else:\n",
    "    print(\"Something's wrong\")"
   ]
  },
  {
   "cell_type": "markdown",
   "metadata": {},
   "source": [
    "## 3.8 Problems"
   ]
  },
  {
   "cell_type": "markdown",
   "metadata": {},
   "source": [
    "Neutrons released from fission of $^{235}U$ (caused by slow neutrons) are distributied in the energy range $0.1-10$ MeV.\n",
    "A formula for fission neutron spectrum, so called Watt-spectrum, is given by:\n",
    "$$N(E)=0.435\\cdot e^{-1.036E}\\cdot sinh \\sqrt{2.29\\cdot E}.$$"
   ]
  },
  {
   "cell_type": "markdown",
   "metadata": {},
   "source": [
    "A. Determine the most probable energy of the Watt spectrum."
   ]
  },
  {
   "cell_type": "code",
   "execution_count": 43,
   "metadata": {},
   "outputs": [
    {
     "name": "stdout",
     "output_type": "stream",
     "text": [
      "The most probable energy of Watt spectrum is marked with a red dot in the plot below.\n"
     ]
    },
    {
     "data": {
      "image/png": "[encoded data removed]",
      "text/plain": [
       "<Figure size 432x288 with 1 Axes>"
      ]
     },
     "metadata": {
      "needs_background": "light"
     },
     "output_type": "display_data"
    },
    {
     "name": "stdout",
     "output_type": "stream",
     "text": [
      "We can assess numerically (look at the above code)\n",
      "that the value of the most probable energy is around E=0.7238 MeV.\n"
     ]
    }
   ],
   "source": [
    "E = np.arange(0.1, 10, 0.0001)\n",
    "N = 0.435*np.exp(-1.036*E)*np.sinh(np.sqrt(2.29*E))\n",
    "\n",
    "print(\"The most probable energy of Watt spectrum is marked with a red dot in the plot below.\")\n",
    "\n",
    "max_index = np.argmax(N)\n",
    "\n",
    "plt.plot(E, N, zorder=1)\n",
    "plt.title('WATT SPECTRUM')\n",
    "plt.scatter(E[max_index],N[max_index], color='red', zorder=2)\n",
    "plt.xlabel(\"E [MeV]\")\n",
    "plt.ylabel(\"N(E)\")\n",
    "plt.show()\n",
    "\n",
    "print(\"We can assess numerically (look at the above code)\\nthat the value of the most probable energy is around E={:.4g} MeV.\".format(E[max_index]))\n",
    "#print(\"If we solve the maximisation problem analyticaly we will get E={:.2g} MeV\".format())"
   ]
  },
  {
   "cell_type": "markdown",
   "metadata": {},
   "source": [
    "B.Evaluate the average energy of the neutrons."
   ]
  },
  {
   "cell_type": "code",
   "execution_count": 46,
   "metadata": {},
   "outputs": [
    {
     "name": "stdout",
     "output_type": "stream",
     "text": [
      "Average energy of neutrons: < E > = 1.9984 MeV. Marked with a blue vertical line in the plot below.\n"
     ]
    },
    {
     "data": {
      "image/png": "[encoded data removed]",
      "text/plain": [
       "<Figure size 432x288 with 1 Axes>"
      ]
     },
     "metadata": {
      "needs_background": "light"
     },
     "output_type": "display_data"
    }
   ],
   "source": [
    "#print(np.array([1,2,3])*np.array([3,4,5]))\n",
    "#->[3,8,15]\n",
    "#A=np.array([1,2,3]), B=np.array([3,4,5])\n",
    "#print(A*B)\n",
    "#->[3,8,15]\n",
    "\n",
    "average_energy=np.sum((np.dot(N,E)))/np.sum(N)\n",
    "print(\"Average energy of neutrons: < E > = {:.5g} MeV. Marked with a blue vertical line in the plot below.\".format(average_energy))\n",
    "\n",
    "plt.plot(E, N, zorder=1)\n",
    "plt.title('WATT SPECTRUM')\n",
    "plt.scatter(E[max_index],N[max_index], color='red', zorder=2)\n",
    "plt.axvline(x=average_energy,linewidth=1, color='b')\n",
    "plt.xlabel(\"E [MeV]\")\n",
    "plt.ylabel(\"N(E)\")\n",
    "plt.show()"
   ]
  }
 ],
 "metadata": {
  "kernelspec": {
   "display_name": "Python 3",
   "language": "python",
   "name": "python3"
  },
  "language_info": {
   "codemirror_mode": {
    "name": "ipython",
    "version": 3
   },
   "file_extension": ".py",
   "mimetype": "text/x-python",
   "name": "python",
   "nbconvert_exporter": "python",
   "pygments_lexer": "ipython3",
   "version": "3.8.5"
  }
 },
 "nbformat": 4,
 "nbformat_minor": 4
}
