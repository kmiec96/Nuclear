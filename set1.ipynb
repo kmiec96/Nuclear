{
 "cells": [
  {
   "cell_type": "code",
   "execution_count": 1,
   "metadata": {},
   "outputs": [],
   "source": [
    "from IPython.display import display, Markdown, Latex\n",
    "from decimal import Decimal"
   ]
  },
  {
   "cell_type": "markdown",
   "metadata": {},
   "source": [
    "# 1.How much fissile material has fissioned in the following events:"
   ]
  },
  {
   "cell_type": "markdown",
   "metadata": {},
   "source": [
    "### Hiroshima bomb (Little Boy, Uranium bomb)-assumed yield 18kt TNT. $^{235}U$ weight of Little Boy-60kg."
   ]
  },
  {
   "cell_type": "markdown",
   "metadata": {},
   "source": [
    "######################################################################################################\n",
    "\n",
    "A.HOW MUCH ENERGY WAS RELEASED IN TOTAL?\n",
    "\n",
    "TNT equivalent is a convention for expressing energy,\n",
    "typically used to describe the energy released in an explosion. \n",
    "The ton of TNT is a unit of energy defined by that convention to be 4.184 GJ\n",
    "(source: https://en.wikipedia.org/wiki/TNT_equivalent). Consequently, one kilo ton of TNT\n",
    "corresponds to 4.184 TJ. 18 kt of TNT is the equivalent of $E_{explosion\\_Hiroshima}=75.312$ TJ.\n",
    "\n",
    "######################################################################################################\n",
    "\n",
    "B.HOW MUCH ENERGY CAN BE RELEASED FROM FISSION OF 1kg of $^{235}U$?\n",
    "\n",
    "The energy released from fission of one nucleus of $^{235}U$ is around 200MeV. \n",
    "\n",
    "200MeV is 3.2e-11J.\n",
    "\n",
    "A mole of U-235 has 235g.\n",
    "\n",
    "1g of uranium is 1/235th of a mole.\n",
    "\n",
    "1 mole = Avogadro’s number of atoms so 3.2e-11 J * (Avogadros number) / 235 $\\approx$ 82 GJ.\n",
    "\n",
    "1kg of $^{235}U$ is then the equivalent of roughly $82$ TJ.\n",
    "\n",
    "\n",
    "######################################################################################################\n",
    "\n",
    "C.HOW MUCH ENERGY WOULD BE RELEASED IF 60kg of $^{235}U$ FISSIONED?\n",
    "\n",
    "Given that $82$ TJ is released from 1kg, had 60 kg of $^{235}$ fissioned, \n",
    "\n",
    "we should expect the released energy to be around $E_{released}=\\frac{60 kg\\cdot82TJ}{1kg}=4920$ TJ.\n",
    "\n",
    "#####################################################################################################\n",
    "\n",
    "D. WHAT IS THE RATIO OF THE MASS OF U-235 IN LITTLE BOY NUCLEAR BOMB TO THE FISSIONED MATERIAL DURING THE EXPLOSION IN HIROSHIMA?\n",
    "\n",
    "\n",
    "$\\frac{E_{explosion\\_Hiroshima}}{E_{released}} \\cdot 100\\% \\approx1.5\\%$\n",
    "\n",
    "This ratio is around $1.5\\%$.\n",
    "Less than 1kg of fissile material fissioned in the explosion.\n"
   ]
  },
  {
   "cell_type": "code",
   "execution_count": 33,
   "metadata": {},
   "outputs": [
    {
     "name": "stdout",
     "output_type": "stream",
     "text": [
      "Energy released from fission of one atom of U-235 200 MeV\n",
      "Energy released from fission of one atom of U-235 3.2e-11 J\n",
      "\n",
      "Energy released from fission of 1g of U-235 82 GJ.\n",
      "Energy released from fission of 1kg of U-235 82 TJ.\n"
     ]
    }
   ],
   "source": [
    "#Calculations\n",
    "dm=200\n",
    "dm_si=dm*pow(10,6)*1.6*pow(10,-19)\n",
    "Avogadro=6*pow(10,23)\n",
    "energy_gram=(dm_si*Avogadro/235)/pow(10,9)\n",
    "energy_kgram=(energy_gram*1000)/pow(10,3)\n",
    "\n",
    "print(\"Energy released from fission of one atom of U-235 {} MeV\".format(dm))\n",
    "print(\"Energy released from fission of one atom of U-235 {:.2g} J\".format(dm_si))\n",
    "print(\"\\nEnergy released from fission of 1g of U-235 {:.2g} GJ.\".format(energy_gram))\n",
    "print(\"Energy released from fission of 1kg of U-235 {:.2g} TJ.\".format(energy_kgram))"
   ]
  },
  {
   "cell_type": "markdown",
   "metadata": {},
   "source": [
    "### Nagasaki bomb (Fat Man)-assumed yield 21kt TNT.$^{238}Pu$ weight Fat Man 6.4kg."
   ]
  },
  {
   "cell_type": "markdown",
   "metadata": {},
   "source": [
    "######################################################################################################\n",
    "\n",
    "A.HOW MUCH ENERGY WAS RELEASED IN TOTAL?\n",
    "\n",
    "TNT equivalent is a convention for expressing energy,\n",
    "typically used to describe the energy released in an explosion. \n",
    "The ton of TNT is a unit of energy defined by that convention to be 4.184 GJ\n",
    "(source: https://en.wikipedia.org/wiki/TNT_equivalent). Consequently, one kilo ton of TNT\n",
    "corresponds to 4.184 TJ. 21 kt of TNT is the equivalent of $E_{explosion\\_Nagasaki}=87.864$ TJ.\n",
    "\n",
    "######################################################################################################\n",
    "\n",
    "B.HOW MUCH ENERGY CAN BE RELEASED FROM FISSION OF 1kg of $^{239}Pu$?\n",
    "\n",
    "The energy released from fission of one nucleus of $^{239}Pu$ is around 210MeV. \n",
    "\n",
    "210MeV is 3.36e-11J.\n",
    "\n",
    "A mole of Pu-239 has 239g.\n",
    "\n",
    "1g of uranium is 1/239th of a mole.\n",
    "\n",
    "1 mole = Avogadro’s number of atoms so 3.36e-11 J * (Avogadros number) / 239 $\\approx$ 84 GJ.\n",
    "\n",
    "1kg of $^{239}Pu$ is then the equivalent of roughly $84$ TJ.\n",
    "\n",
    "\n",
    "######################################################################################################\n",
    "\n",
    "C.HOW MUCH ENERGY WOULD BE RELEASED IF 6.4kg of $^{239}Pu$ FISSIONED?\n",
    "\n",
    "Given that $84$ TJ is released from 1kg, had 6.4 kg of $^{239}Pu$ fissioned, \n",
    "\n",
    "we should expect the released energy to be around $E_{released}=\\frac{6.4 kg\\cdot84 \\text{TJ}}{1kg}=537 \\text{TJ}$.\n",
    "\n",
    "#####################################################################################################\n",
    "\n",
    "D. WHAT IS THE RATIO OF THE MASS OF U-235 IN LITTLE BOY NUCLEAR BOMB TO THE FISSIONED MATERIAL DURING THE EXPLOSION IN HIROSHIMA?\n",
    "\n",
    "\n",
    "$\\frac{E_{explosion\\_Nagasaki}}{E_{released}} \\cdot 100\\% \\approx16\\%$\n",
    "\n",
    "This ratio is around $16\\%$.\n",
    "Less than 1kg of fissile material fissioned in the explosion.\n"
   ]
  },
  {
   "cell_type": "code",
   "execution_count": 38,
   "metadata": {},
   "outputs": [
    {
     "name": "stdout",
     "output_type": "stream",
     "text": [
      "Energy released from fission of one atom of Pu-239 200 MeV\n",
      "Energy released from fission of one atom of Pu-239 3.2e-11 J\n",
      "\n",
      "Energy released from fission of 1g of Pu-239 82 GJ.\n",
      "Energy released from fission of 1kg of Pu-239 82 TJ.\n"
     ]
    }
   ],
   "source": [
    "#Calculations\n",
    "dm=200\n",
    "dm_si=dm*pow(10,6)*1.6*pow(10,-19)\n",
    "Avogadro=6*pow(10,23)\n",
    "energy_gram=(dm_si*Avogadro/235)/pow(10,9)\n",
    "energy_kgram=(energy_gram*1000)/pow(10,3)\n",
    "\n",
    "print(\"Energy released from fission of one atom of Pu-239 {} MeV\".format(dm))\n",
    "print(\"Energy released from fission of one atom of Pu-239 {:.2g} J\".format(dm_si))\n",
    "print(\"\\nEnergy released from fission of 1g of Pu-239 {:.2g} GJ.\".format(energy_gram))\n",
    "print(\"Energy released from fission of 1kg of Pu-239 {:.2g} TJ.\".format(energy_kgram))"
   ]
  },
  {
   "cell_type": "markdown",
   "metadata": {},
   "source": [
    "### 1 Day of operation of 1GWel nuclear reactor. Assume that all energy comes from fission of $^{235}U$."
   ]
  },
  {
   "cell_type": "code",
   "execution_count": null,
   "metadata": {},
   "outputs": [],
   "source": []
  }
 ],
 "metadata": {
  "kernelspec": {
   "display_name": "Python 3",
   "language": "python",
   "name": "python3"
  },
  "language_info": {
   "codemirror_mode": {
    "name": "ipython",
    "version": 3
   },
   "file_extension": ".py",
   "mimetype": "text/x-python",
   "name": "python",
   "nbconvert_exporter": "python",
   "pygments_lexer": "ipython3",
   "version": "3.8.5"
  }
 },
 "nbformat": 4,
 "nbformat_minor": 4
}
