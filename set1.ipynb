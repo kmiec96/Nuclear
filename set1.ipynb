{
 "cells": [
  {
   "cell_type": "code",
   "execution_count": 19,
   "metadata": {},
   "outputs": [],
   "source": [
    "from IPython.display import display, Markdown, Latex\n",
    "from decimal import Decimal\n",
    "import numpy as np\n",
    "import math as mt"
   ]
  },
  {
   "cell_type": "markdown",
   "metadata": {},
   "source": [
    "# Nuclear Energy Physics solutions, copyright Mateusz Rafał Kmieć\n",
    "\n",
    "*Those who can make you believe absurdities can make you commit atrocities. - Mikita Kojonkoski*"
   ]
  },
  {
   "cell_type": "markdown",
   "metadata": {},
   "source": [
    "# SET 1 "
   ]
  },
  {
   "cell_type": "markdown",
   "metadata": {},
   "source": [
    "# 1.How much fissile material has fissioned in the following events:"
   ]
  },
  {
   "cell_type": "markdown",
   "metadata": {},
   "source": [
    "### Hiroshima bomb (Little Boy, Uranium bomb)-assumed yield 18kt TNT. $^{235}U$ weight of Little Boy-60kg."
   ]
  },
  {
   "cell_type": "markdown",
   "metadata": {},
   "source": [
    "######################################################################################################\n",
    "\n",
    "A.HOW MUCH ENERGY WAS RELEASED IN TOTAL?\n",
    "\n",
    "TNT equivalent is a convention for expressing energy,\n",
    "typically used to describe the energy released in an explosion. \n",
    "The ton of TNT is a unit of energy defined by that convention to be 4.184 GJ\n",
    "(source: https://en.wikipedia.org/wiki/TNT_equivalent). Consequently, one kilo ton of TNT\n",
    "corresponds to 4.184 TJ. 18 kt of TNT is the equivalent of $E_{explosion\\_Hiroshima}=75.312$ TJ.\n",
    "\n",
    "######################################################################################################\n",
    "\n",
    "B.HOW MUCH ENERGY CAN BE RELEASED FROM FISSION OF 1kg of $^{235}U$?\n",
    "\n",
    "The energy released from fission of one nucleus of $^{235}U$ is around 200MeV. \n",
    "\n",
    "200MeV is 3.2e-11J.\n",
    "\n",
    "A mole of U-235 has 235g.\n",
    "\n",
    "1g of uranium is 1/235th of a mole.\n",
    "\n",
    "1 mole = Avogadro’s number of atoms \n",
    "\n",
    "The energy obtained from one gram of U-235: 3.2e-11 J * (Avogadros number) / 235 $\\approx$ 82 GJ.\n",
    "\n",
    "1kg of $^{235}U$ is then the equivalent of roughly $82$ TJ.\n",
    "\n",
    "\n",
    "######################################################################################################\n",
    "\n",
    "C.HOW MUCH ENERGY WOULD BE RELEASED IF 60kg of $^{235}U$ FISSIONED?\n",
    "\n",
    "Given that $82$ TJ is released from 1kg, had 60 kg of $^{235}U$ fissioned, \n",
    "\n",
    "we should expect the released energy to be around $E_{released}=\\frac{60 kg\\cdot82TJ}{1kg}=4920$ TJ.\n",
    "\n",
    "#####################################################################################################\n",
    "\n",
    "D. WHAT IS THE RATIO OF THE MASS OF U-235 IN LITTLE BOY NUCLEAR BOMB TO THE FISSIONED MATERIAL DURING THE EXPLOSION IN HIROSHIMA?\n",
    "\n",
    "\n",
    "$\\frac{E_{explosion\\_Hiroshima}}{E_{released}} \\cdot 100\\% \\approx1.5\\%$\n",
    "\n",
    "This ratio is around $1.5\\%$.\n",
    "Less than 1kg of fissile material fissioned in the explosion.\n"
   ]
  },
  {
   "cell_type": "code",
   "execution_count": 70,
   "metadata": {},
   "outputs": [
    {
     "name": "stdout",
     "output_type": "stream",
     "text": [
      "Energy released from fission of one atom of U-235 200 MeV\n",
      "Energy released from fission of one atom of U-235 3.2e-11 J\n",
      "\n",
      "Energy released from fission of 1g of U-235 82 GJ.\n",
      "Energy released from fission of 1kg of U-235 82 TJ.\n",
      "Energy released during the explosion in Hiroshima: 75 TJ < 82 TJ - Energy released from fission of 1kg U-235.\n",
      "Less than 1kg of fissile material fissioned!\n"
     ]
    }
   ],
   "source": [
    "#Calculations\n",
    "dm=200\n",
    "dm_si=dm*pow(10,6)*1.6*pow(10,-19)\n",
    "Avogadro=6*pow(10,23)\n",
    "energy_gram=(dm_si*Avogadro/235)/pow(10,9)\n",
    "energy_kgram=(energy_gram*1000)/pow(10,3)\n",
    "\n",
    "print(\"Energy released from fission of one atom of U-235 {} MeV\".format(dm))\n",
    "print(\"Energy released from fission of one atom of U-235 {:.2g} J\".format(dm_si))\n",
    "print(\"\\nEnergy released from fission of 1g of U-235 {:.2g} GJ.\".format(energy_gram))\n",
    "print(\"Energy released from fission of 1kg of U-235 {:.2g} TJ.\".format(energy_kgram))\n",
    "print(\"Energy released during the explosion in Hiroshima: 75 TJ < {:.2g} TJ - Energy released from fission of 1kg U-235.\".format(energy_kgram))\n",
    "print(\"Less than 1kg of fissile material fissioned!\")"
   ]
  },
  {
   "cell_type": "markdown",
   "metadata": {},
   "source": [
    "### Nagasaki bomb (Fat Man)-assumed yield 21kt TNT.$^{238}Pu$ weight Fat Man 6.4kg."
   ]
  },
  {
   "cell_type": "markdown",
   "metadata": {},
   "source": [
    "######################################################################################################\n",
    "\n",
    "A.HOW MUCH ENERGY WAS RELEASED IN TOTAL?\n",
    "\n",
    "TNT equivalent is a convention for expressing energy,\n",
    "typically used to describe the energy released in an explosion. \n",
    "The ton of TNT is a unit of energy defined by that convention to be 4.184 GJ\n",
    "(source: https://en.wikipedia.org/wiki/TNT_equivalent). Consequently, one kilo ton of TNT\n",
    "corresponds to 4.184 TJ. 21 kt of TNT is the equivalent of $E_{explosion\\_Nagasaki}=87.864$ TJ.\n",
    "\n",
    "######################################################################################################\n",
    "\n",
    "B.HOW MUCH ENERGY CAN BE RELEASED FROM FISSION OF 1kg of $^{239}Pu$?\n",
    "\n",
    "The energy released from fission of one nucleus of $^{239}Pu$ is around 210MeV. \n",
    "\n",
    "210MeV is 3.36e-11J.\n",
    "\n",
    "A mole of Pu-239 has 239g.\n",
    "\n",
    "1g of uranium is 1/239th of a mole.\n",
    "\n",
    "1 mole = Avogadro’s number of atoms so 3.36e-11 J * (Avogadros number) / 239 $\\approx$ 84 GJ.\n",
    "\n",
    "1kg of $^{239}Pu$ is then the equivalent of roughly $84$ TJ.\n",
    "\n",
    "\n",
    "######################################################################################################\n",
    "\n",
    "C.HOW MUCH ENERGY WOULD BE RELEASED IF 6.4kg of $^{239}Pu$ FISSIONED?\n",
    "\n",
    "Given that $84$ TJ is released from 1kg, had 6.4 kg of $^{239}Pu$ fissioned, \n",
    "\n",
    "we should expect the released energy to be around $E_{released}=\\frac{6.4 kg\\cdot84 \\text{TJ}}{1kg}=537 \\text{TJ}$.\n",
    "\n",
    "#####################################################################################################\n",
    "\n",
    "D. WHAT IS THE RATIO OF THE MASS OF U-235 IN LITTLE BOY NUCLEAR BOMB TO THE FISSIONED MATERIAL DURING THE EXPLOSION IN HIROSHIMA?\n",
    "\n",
    "\n",
    "$\\frac{E_{explosion\\_Nagasaki}}{E_{released}} \\cdot 100\\% \\approx16\\%$\n",
    "\n",
    "This ratio is around $16\\%$.\n",
    "Less than 1kg of fissile material fissioned in the explosion.\n"
   ]
  },
  {
   "cell_type": "code",
   "execution_count": 38,
   "metadata": {},
   "outputs": [
    {
     "name": "stdout",
     "output_type": "stream",
     "text": [
      "Energy released from fission of one atom of Pu-239 200 MeV\n",
      "Energy released from fission of one atom of Pu-239 3.2e-11 J\n",
      "\n",
      "Energy released from fission of 1g of Pu-239 82 GJ.\n",
      "Energy released from fission of 1kg of Pu-239 82 TJ.\n"
     ]
    }
   ],
   "source": [
    "#Calculations\n",
    "dm=200\n",
    "dm_si=dm*pow(10,6)*1.6*pow(10,-19)\n",
    "Avogadro=6*pow(10,23)\n",
    "energy_gram=(dm_si*Avogadro/235)/pow(10,9)\n",
    "energy_kgram=(energy_gram*1000)/pow(10,3)\n",
    "\n",
    "print(\"Energy released from fission of one atom of Pu-239 {} MeV\".format(dm))\n",
    "print(\"Energy released from fission of one atom of Pu-239 {:.2g} J\".format(dm_si))\n",
    "print(\"\\nEnergy released from fission of 1g of Pu-239 {:.2g} GJ.\".format(energy_gram))\n",
    "print(\"Energy released from fission of 1kg of Pu-239 {:.2g} TJ.\".format(energy_kgram))"
   ]
  },
  {
   "cell_type": "markdown",
   "metadata": {},
   "source": [
    "### 1 Day of operation of 1GWel nuclear reactor. Assume that all energy comes from fission of $^{235}U$."
   ]
  },
  {
   "cell_type": "markdown",
   "metadata": {},
   "source": [
    "I assume that thermal power is three times more than the electrical power: $E_{th}=3 \\cdot E_{el}$.\n",
    "\n",
    "Consequently, 1 Day of operation of this nuclear power reactor results in $E_{th}=3 GW \\cdot 24 h=72GWh$. \n",
    "\n",
    "1kg of $^{235}U$ provides $82TJ=22.7GWh$ of energy.\n",
    "\n",
    "In order to get $E_{th}=72GWh$ in a day, we need $\\frac{72GWh\\cdot1kg}{22.7GWh}\\approx3.2$ kg of $^{235}U$."
   ]
  },
  {
   "cell_type": "code",
   "execution_count": 61,
   "metadata": {},
   "outputs": [
    {
     "name": "stdout",
     "output_type": "stream",
     "text": [
      "hours 24 h\n",
      "Eel 1 GWelh\n",
      "Eth 3 GWh\n",
      "Eth_in_a_day 72 GWh\n",
      "We need to 'burn' 3.2 kg of U-235 per day to achieve 1 GWel.\n"
     ]
    }
   ],
   "source": [
    "hours=24\n",
    "Eel=1\n",
    "Eth=3*Eel\n",
    "Eth_in_a_day=Eth*hours\n",
    "\n",
    "E_from_one_kg_of_uranium=22.7\n",
    "\n",
    "print(\"hours {} h\".format(hours))\n",
    "print(\"Eel {} GWelh\".format(Eel))\n",
    "print(\"Eth {} GWh\".format(Eth))\n",
    "print(\"Eth_in_a_day {} GWh\".format(Eth_in_a_day))\n",
    "\n",
    "uranium_burned_daily=Eth_GWh/E_from_one_kg_of_uranium\n",
    "print(\"We need to 'burn' {:.2g} kg of U-235 per day to achieve {:.1g} GWel.\"\n",
    "      .format(uranium_burned_daily,Eth_in_a_day/72))\n"
   ]
  },
  {
   "cell_type": "markdown",
   "metadata": {},
   "source": [
    "# 2.How much of Trituim has fusioned in the following events (assume that all energy released came from the fusion reaction)."
   ]
  },
  {
   "cell_type": "markdown",
   "metadata": {},
   "source": [
    "In all of the paragraphs below I assume that all of energy comes from deuterium-tritium fusion process!\n",
    "\n",
    "$$^{2}_{1}H+^{3}_{1}H\\rightarrow ^{4}_{2}He+ ^{1}_{0}n$$\n",
    "\n",
    "In this porcess $\\frac{m_{deuterium}}{m_{tritium}}\\approx\\frac{2}{3}$.\n",
    "\n",
    "Fusion of one tritium and one deuerium releases $17.6MeV=2.8\\cdot10^{-12}$.\n",
    "\n",
    "One mol of tritium atoms has 3g, while one mol of deuterium atoms has 2g.\n",
    "\n",
    "1g is $\\frac{1}{5}$ of (1 mol of tritrium + 1 mol of deuterium).\n",
    "\n",
    "Energy obtained from 1g of the mixture of tritium and deuterium is around: $\\frac{2.8\\cdot10^{-12}\\cdot 6 \\cdot10^{23}}{5}=0.34 TJ$.\n",
    "\n",
    "1kg of this mixture is the equivalent of $E_{released\\_per\\_kilogram}=\\frac{1000 \\cdot 2.8\\cdot 10^{-12}\\cdot 6 \\cdot 10^{23}}{5}=340 TJ$.\n",
    "\n",
    "#############################################################################################\n",
    "\n",
    "A. HOW MUCH ENERGY WAS RELEASED DURING IVY MIKE EXPLOSION? HOW MUCH TRITIUM FUSSIONED?\n",
    "\n",
    "One mega ton of TNT corresponds to 4184 TJ. 10.4 Mt of TNT is the equivalent of $E_{explosion\\_Ivy\\_Mike}=43513TJ$.\n",
    "$$m_{tritium\\_fussioned\\_Ivy\\_Mike}=\\frac{2}{5}\\frac{E_{fussioned\\_Ivy\\_Mike}}{E_{released\\_per\\_kilogram}}\\cdot 1kg=51kg$$ .\n",
    "\n",
    "#############################################################################################\n",
    "\n",
    "B. HOW MUCH ENERGY WAS RELEASED DURING TSAR BOMBA EXPLOSION? HOW MUCH TRITIUM FUSSIONED?\n",
    "\n",
    "One mega ton of TNT corresponds to 4184 TJ. 58 Mt of TNT is the equivalent of $E_{explosion\\_Tsar\\_Bomba}=242672$ TJ.\n",
    "\n",
    "$$m_{tritium\\_fussioned\\_Tsar\\_Bomba}=\\frac{2}{5}\\frac{E_{fussioned\\_Tsar\\_Bomba}}{E_{released\\_per\\_kilogram}}\\cdot 1kg=285kg$$\n",
    "##############################################################################################\n",
    "\n",
    "C. HOW MUCH ENERGY WOULD BE PRODUCED IN ITER WITHIN ONE DAY? HOW MUCH TRITIUM WOULD FUSION?\n",
    "\n",
    "Energy produced by ITER within one day amounts to $E_{fussioned\\_ITER\\_one\\_day}=500MW \\cdot 24h=12 000MWh\\approx43TJ$.\n",
    "\n",
    "\n",
    "$$m_{tritium\\_fussioned\\_ITER\\_one\\_day}=\\frac{2}{5}\\frac{E_{fussioned\\_ITER\\_one\\_day}}{E_{released\\_per\\_kilogram}}=50g$$"
   ]
  },
  {
   "cell_type": "code",
   "execution_count": null,
   "metadata": {},
   "outputs": [],
   "source": []
  },
  {
   "cell_type": "markdown",
   "metadata": {},
   "source": [
    "# 3. A spaceship with alien football fans (not hooligans) passes the earth at a speed of 0.8c and peeks at the end of the AIK match Champion's League. The cock at the stadium shows that there is one minute left to play. How long will the aliens see that the game is on?"
   ]
  },
  {
   "cell_type": "code",
   "execution_count": 82,
   "metadata": {},
   "outputs": [
    {
     "name": "stdout",
     "output_type": "stream",
     "text": [
      "They will see the final minute of the match for 0.6 minutes.\n",
      "It is going to be shorter for them.\n"
     ]
    }
   ],
   "source": [
    "c=1\n",
    "valiens=0.8*c\n",
    "gamma=(1/np.sqrt(1-pow((valiens/c),2)))\n",
    "tearth=1 #one minute\n",
    "\n",
    "taliens=(1/gamma)*tearth\n",
    "print(\"They will see the final minute of the match for {:.2g} minutes.\".format(taliens))\n",
    "print(\"It is going to be shorter for them.\")"
   ]
  },
  {
   "cell_type": "markdown",
   "metadata": {},
   "source": [
    "# SET 2"
   ]
  },
  {
   "cell_type": "markdown",
   "metadata": {},
   "source": [
    "# Atoms & nuclei"
   ]
  },
  {
   "cell_type": "markdown",
   "metadata": {},
   "source": [
    "## 1.1 Problem"
   ]
  },
  {
   "cell_type": "markdown",
   "metadata": {},
   "source": [
    "### A. Calculate the geometric area $\\sigma_{geom}$ of a nucleus (with mass numer $A$ and radius $R$), where:\n",
    "\n",
    "$$R=1.25\\cdot10^{-13}\\cdot A^{1/3} cm,$$\n",
    "$$\\sigma_{geom}=\\pi\\cdot 1.25^{2} \\cdot A^{2/3} \\cdot 10^{-26} cm^{2}.$$\n",
    "\n",
    "$^{4}He$(helium)\n",
    "\n",
    "$^{16}O$ (oxygen)\n",
    "\n",
    "$^{91}Zr$ (zirconium)\n",
    "\n",
    "$^{238}U$ (uranium)"
   ]
  },
  {
   "cell_type": "code",
   "execution_count": 120,
   "metadata": {},
   "outputs": [
    {
     "name": "stdout",
     "output_type": "stream",
     "text": [
      "Radius of helium nucleus    1.9843e-13 cm\n",
      "Radius of oxygen nucleus    3.1498e-13 cm\n",
      "Radius of zirconium nucleus 5.6224e-13 cm\n",
      "Radius of uranium nucleus   7.7464e-13 cm\n",
      "\n",
      "\n",
      "Geometric area of helium    1.2369e-25 cm^2 = 0.12369 b\n",
      "Geometric area of oxygen    3.1169e-25 cm^2 = 0.31169 b\n",
      "Geometric area of zirconium 9.9311e-25 cm^2 = 0.99311 b\n",
      "Geometeric area of uranium  1.8852e-24 cm^2 = 1.8852 b\n"
     ]
    }
   ],
   "source": [
    "AHe=4 #Atomic mass of helium.\n",
    "RHe=1.25*pow(10,-13)*pow(AHe,(1/3)) #Radius of helium.\n",
    "sigmaHe=np.pi*pow(1.25,2)*pow(AHe,(2/3))*pow(10,-26) #Geometric area of the nuclei\n",
    "\n",
    "AO=16  #Atomic mass of oxygen.\n",
    "RO=1.25*pow(10,-13)*pow(AO,(1/3))   #Radius of oxygen.\n",
    "sigmaO=np.pi*pow(1.25,2)*pow(AO,(2/3))*pow(10,-26) #Geometric area of the nuclei\n",
    "\n",
    "AZr=91 #Atomic mass of zirconium.\n",
    "RZr=1.25*pow(10,-13)*pow(AZr,(1/3)) #Radius of zirconium.\n",
    "sigmaZr=np.pi*pow(1.25,2)*pow(AZr,(2/3))*pow(10,-26) #Geometric area of the nuclei\n",
    "\n",
    "AU=238  #Atomic mass of uranium.\n",
    "RU=1.25*pow(10,-13)*pow(AU,(1/3))   #Radius of uranium.\n",
    "sigmaU=np.pi*pow(1.25,2)*pow(AU,(2/3))*pow(10,-26) #Geometric area of the nuclei\n",
    "\n",
    "print(\"Radius of helium nucleus    {:0.5g} cm\".format(RHe))\n",
    "print(\"Radius of oxygen nucleus    {:0.5g} cm\".format(RO))\n",
    "print(\"Radius of zirconium nucleus {:0.5g} cm\".format(RZr))\n",
    "print(\"Radius of uranium nucleus   {:0.5g} cm\".format(RU))\n",
    "print(\"\\n\")\n",
    "print(\"Geometric area of helium    {:0.5g} cm^2 = {:0.5g} b\".format(sigmaHe,sigmaHe/pow(10,-24)))\n",
    "print(\"Geometric area of oxygen    {:0.5g} cm^2 = {:0.5g} b\".format(sigmaO,sigmaO/pow(10,-24)))\n",
    "print(\"Geometric area of zirconium {:0.5g} cm^2 = {:0.5g} b\".format(sigmaZr,sigmaZr/pow(10,-24)))\n",
    "print(\"Geometeric area of uranium  {:0.5g} cm^2 = {:0.5g} b\".format(sigmaU,sigmaU/pow(10,-24)))"
   ]
  },
  {
   "cell_type": "markdown",
   "metadata": {},
   "source": [
    "### B. Calculate number density (n) of the uranium nuclei in reactor fuel ($UO_{2}$), which has $10.5\\frac{g}{cm^{3}}$ density.\n"
   ]
  },
  {
   "cell_type": "markdown",
   "metadata": {},
   "source": [
    "In one $cm^{3}$ there is $\\frac{238\\cdot 10.5}{238+32}g\\approx9g$ of uranium.\n",
    "\n",
    "In 1g of uranium there is $\\frac{1}{238}$th mol of uranium nuclei. \n",
    "\n",
    "In 1 mol there is Avogadro's number ($6.02\\cdot10^{23}$) of nuclei. \n",
    "\n",
    "Consequently, in 9g there must be $N=\\frac{9}{238}\\cdot6.02\\cdot10^{23}$ of uranium nuclei.\n",
    "\n",
    "Thus, the number density of uranium (n) is $n=\\frac{N}{1cm^{3}}=2.3\\cdot10^{22}\\frac{1}{cm^{3}}=0.04\\frac{mol}{cm^{3}}$"
   ]
  },
  {
   "cell_type": "code",
   "execution_count": null,
   "metadata": {},
   "outputs": [],
   "source": [
    "#As of now I'm not quite sure how to adress Comments\n",
    "#The corss sections as above should be compared...\n",
    "#The cross sections and the number densities are the most fundamental units..."
   ]
  },
  {
   "cell_type": "markdown",
   "metadata": {},
   "source": [
    "## 1.2 Problem\n",
    "How many neutrons and protons are there in the nuclei of the following atoms?\n",
    "\n",
    "\n",
    "(Worringly simple, I might have misunderstood the problem)\n",
    "\n",
    "(a) $^{7}Li$  (neutrons=4, protons=3)\n",
    "\n",
    "(b) $^{24}Mg$ (neutrons=12, protons=12)\n",
    "\n",
    "(c) $^{135}Xe$ (neutrons=81, protons=54)\n",
    "\n",
    "(d) $^{209}Bi$ (neutrons=126, protons=83)\n",
    "\n",
    "(e) $^{222}Rn$ (neutrons=136, protons=86)"
   ]
  },
  {
   "cell_type": "markdown",
   "metadata": {},
   "source": [
    "## 1.3 Problem\n",
    "The atomic weight of $^{59}Co$ is 58.93319. How much times heavier is $^{59}Co$ than $^{12}C$?"
   ]
  },
  {
   "cell_type": "code",
   "execution_count": 127,
   "metadata": {},
   "outputs": [
    {
     "name": "stdout",
     "output_type": "stream",
     "text": [
      "Co-59 to C-12 ratio: 4.9\n",
      "Cobalt is roughly 5 times heavier than carbon!\n"
     ]
    }
   ],
   "source": [
    "#Worringly simple. I might have misunderstood the problem. \n",
    "mC12=12.0107\n",
    "mCo59=58.93319\n",
    "\n",
    "print(\"Co-59 to C-12 ratio: {:.2g}\".format(mCo59/mC12))\n",
    "print(\"Cobalt is roughly 5 times heavier than carbon!\")"
   ]
  },
  {
   "cell_type": "markdown",
   "metadata": {},
   "source": [
    "## 1.4 Problem\n",
    "When $H_{2}$ gas is formed from naturally occurring hydrogen, what percentages of the molecules have molecular weights of approximately 2, 3 and 4?\n",
    "\n",
    "$\\cdot$ Abundance of $^{1}H$, $\\gamma_{1}=0.99972$\n",
    "\n",
    "$\\cdot$ Abundance of $^{2}H$, $\\gamma_{2}=0.00028$"
   ]
  },
  {
   "cell_type": "code",
   "execution_count": null,
   "metadata": {},
   "outputs": [],
   "source": []
  },
  {
   "cell_type": "markdown",
   "metadata": {},
   "source": [
    "# Radioactivity"
   ]
  },
  {
   "cell_type": "markdown",
   "metadata": {},
   "source": [
    "# 2.1 \n",
    "A sample of a radioactive material contains two milion of radioactive nuclei ($N_{0}$). Their half-life $t_{1/2}=60s$. \n",
    "How many nuclei remain after 30 seconds?\n",
    "\n",
    "$$N(t)=N_{0}\\left(\\frac{1}{2}\\right)^{t/t_{1/2}}$$"
   ]
  },
  {
   "cell_type": "code",
   "execution_count": 24,
   "metadata": {},
   "outputs": [
    {
     "name": "stdout",
     "output_type": "stream",
     "text": [
      "After 30s there remains ~1.4e+06 nuclei.\n",
      "More specifically 1414213 nuclei.\n"
     ]
    }
   ],
   "source": [
    "#Calculations\n",
    "\n",
    "N0=2*pow(10,6)\n",
    "t=30\n",
    "t_half_life=60\n",
    "N=N0*pow(0.5,(t/t_half_life))\n",
    "\n",
    "\n",
    "print(\"After 30s there remains ~{:.2g} nuclei.\".format(N))\n",
    "print(\"More specifically {} nuclei.\".format(mt.floor(N)))"
   ]
  },
  {
   "cell_type": "markdown",
   "metadata": {},
   "source": [
    "# 2.2\n",
    "The half-life of radon is 3.8 days. How long do we need to wait (in days) for the number of radon nuclei to be reduced to $16\\%$?"
   ]
  },
  {
   "cell_type": "code",
   "execution_count": 33,
   "metadata": {},
   "outputs": [
    {
     "name": "stdout",
     "output_type": "stream",
     "text": [
      "We need to wait for about 10.05 days for the number of radon nuclei to be reduced to 16%.\n"
     ]
    }
   ],
   "source": [
    "t_half_life_radon=3.8\n",
    "N0=1\n",
    "N=0.16*N0\n",
    "\n",
    "\n",
    "t=(np.log(N/N0)/np.log(0.5))*t_half_life_radon\n",
    "\n",
    "print(\"We need to wait for about {:.4g} days for the number of radon nuclei to be reduced to 16%.\".format(t))"
   ]
  },
  {
   "cell_type": "markdown",
   "metadata": {},
   "source": [
    "# 2.3\n",
    "How much energy is required to break up a $^{12}C$ nucleus into three $\\alpha$ particles."
   ]
  },
  {
   "cell_type": "code",
   "execution_count": null,
   "metadata": {},
   "outputs": [],
   "source": []
  },
  {
   "cell_type": "markdown",
   "metadata": {},
   "source": [
    "# 2.4\n",
    "A sample of gold is exposed to a beam of neutrons, and the reaction "
   ]
  },
  {
   "cell_type": "code",
   "execution_count": null,
   "metadata": {},
   "outputs": [],
   "source": []
  },
  {
   "cell_type": "code",
   "execution_count": null,
   "metadata": {},
   "outputs": [],
   "source": []
  }
 ],
 "metadata": {
  "kernelspec": {
   "display_name": "Python 3",
   "language": "python",
   "name": "python3"
  },
  "language_info": {
   "codemirror_mode": {
    "name": "ipython",
    "version": 3
   },
   "file_extension": ".py",
   "mimetype": "text/x-python",
   "name": "python",
   "nbconvert_exporter": "python",
   "pygments_lexer": "ipython3",
   "version": "3.8.5"
  }
 },
 "nbformat": 4,
 "nbformat_minor": 4
}
